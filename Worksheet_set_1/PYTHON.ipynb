{
 "cells": [
  {
   "cell_type": "markdown",
   "id": "67a8f2bc",
   "metadata": {},
   "source": [
    "11. Write a python program to find the factorial of a number."
   ]
  },
  {
   "cell_type": "code",
   "execution_count": 2,
   "id": "346275a0",
   "metadata": {},
   "outputs": [],
   "source": [
    "def abc(n):\n",
    "    f=1\n",
    "    while(n>0):\n",
    "        f=f*n\n",
    "        n=n-1\n",
    "    return f"
   ]
  },
  {
   "cell_type": "code",
   "execution_count": 3,
   "id": "fd537411",
   "metadata": {},
   "outputs": [
    {
     "data": {
      "text/plain": [
       "3628800"
      ]
     },
     "execution_count": 3,
     "metadata": {},
     "output_type": "execute_result"
    }
   ],
   "source": [
    "#Example\n",
    "abc(10)"
   ]
  },
  {
   "cell_type": "code",
   "execution_count": 4,
   "id": "3abc7037",
   "metadata": {},
   "outputs": [
    {
     "data": {
      "text/plain": [
       "120"
      ]
     },
     "execution_count": 4,
     "metadata": {},
     "output_type": "execute_result"
    }
   ],
   "source": [
    "#Example\n",
    "abc(5)"
   ]
  },
  {
   "cell_type": "markdown",
   "id": "523ac9c7",
   "metadata": {},
   "source": [
    "12. Write a python program to find whether a number is prime or composite."
   ]
  },
  {
   "cell_type": "code",
   "execution_count": 17,
   "id": "8b007795",
   "metadata": {},
   "outputs": [
    {
     "name": "stdout",
     "output_type": "stream",
     "text": [
      "Enter any Number:25\n",
      "25 is a Composite Number\n"
     ]
    }
   ],
   "source": [
    "num=int(input('Enter the Number:'))\n",
    "if num>1:\n",
    "    for i in range(2,num):\n",
    "        if(num%i)==0:\n",
    "            print(num,'is a Composite Number')\n",
    "            break\n",
    "    else:\n",
    "        print(num,'is Prime Number')\n",
    "        \n",
    "elif num==0 or 1:\n",
    "    print(num,'is neither a Prime nor Composite Number ')\n",
    "\n",
    "else:\n",
    "    print(num,'is not a prime number')\n",
    "    "
   ]
  },
  {
   "cell_type": "code",
   "execution_count": 18,
   "id": "3c989685",
   "metadata": {},
   "outputs": [
    {
     "name": "stdout",
     "output_type": "stream",
     "text": [
      "Enter the Number:3\n",
      "3 is Prime Number\n"
     ]
    }
   ],
   "source": [
    "num=int(input('Enter the Number:'))\n",
    "if num>1:\n",
    "    for i in range(2,num):\n",
    "        if(num%i)==0:\n",
    "            print(num,'is a Composite Number')\n",
    "            break\n",
    "    else:\n",
    "        print(num,'is Prime Number')\n",
    "        \n",
    "elif num==0 or 1:\n",
    "    print(num,'is neither a Prime nor Composite Number ')\n",
    "\n",
    "else:\n",
    "    print(num,'is not a prime number')\n",
    "    "
   ]
  },
  {
   "cell_type": "code",
   "execution_count": null,
   "id": "f28b42d5",
   "metadata": {},
   "outputs": [],
   "source": []
  },
  {
   "cell_type": "markdown",
   "id": "5b574cc9",
   "metadata": {},
   "source": [
    "13. Write a python program to check whether a given string is palindrome or not."
   ]
  },
  {
   "cell_type": "code",
   "execution_count": 8,
   "id": "d39c4f35",
   "metadata": {},
   "outputs": [
    {
     "name": "stdout",
     "output_type": "stream",
     "text": [
      "Enter the string to check if it a palindrome: baab\n",
      "It is a Palindrome\n"
     ]
    }
   ],
   "source": [
    "str=input('Enter the string to check if it a palindrome: ')\n",
    "rev_str=reversed(str)\n",
    "if(list(str)==list(rev_str)):\n",
    "    print('It is a Palindrome')\n",
    "else:\n",
    "    print('It is not a Palindrome')\n",
    "    "
   ]
  },
  {
   "cell_type": "code",
   "execution_count": 9,
   "id": "d5c48445",
   "metadata": {},
   "outputs": [
    {
     "name": "stdout",
     "output_type": "stream",
     "text": [
      "Enter the string to check if it a palindrome: Hey\n",
      "It is not a Palindrome\n"
     ]
    }
   ],
   "source": [
    "str=input('Enter the string to check if it a palindrome: ')\n",
    "rev_str=reversed(str)\n",
    "if(list(str)==list(rev_str)):\n",
    "    print('It is a Palindrome')\n",
    "else:\n",
    "    print('It is not a Palindrome')\n",
    "    "
   ]
  },
  {
   "cell_type": "code",
   "execution_count": null,
   "id": "84cecb9e",
   "metadata": {},
   "outputs": [],
   "source": []
  },
  {
   "cell_type": "markdown",
   "id": "1f7b67e1",
   "metadata": {},
   "source": [
    "14. Write a Python program to get the third side of right-angled triangle from two given sides."
   ]
  },
  {
   "cell_type": "code",
   "execution_count": null,
   "id": "e8c85631",
   "metadata": {},
   "outputs": [],
   "source": []
  },
  {
   "cell_type": "code",
   "execution_count": 8,
   "id": "0506a4f4",
   "metadata": {},
   "outputs": [
    {
     "name": "stdout",
     "output_type": "stream",
     "text": [
      "ac=13.0\n",
      "bc=5.0\n",
      "ab=12.0\n",
      "Answer which you are getting is right\n"
     ]
    }
   ],
   "source": [
    "#abc is a right angled triangle in which ab=opposite side,bc=adjacent side and ac=hypotenus \n",
    "def abc(ab,bc,ac):\n",
    "    if ab==str('n'):\n",
    "        return ('ab='+str(((ac**2)-(bc**2))**0.5))\n",
    "    elif bc==str('n'):\n",
    "        return('bc='+str(((ac**2)-(ab**2))**0.5))\n",
    "    elif ac==str('n'):\n",
    "        return ('ac='+str(((ab**2)+(bc**2))**0.5))\n",
    "    else:\n",
    "        return('Answer which you are getting is right')\n",
    "print(abc(12,5,'n'))\n",
    "print(abc(12,'n',13))\n",
    "print(abc('n',5,13))\n",
    "print(abc(12,5,13))"
   ]
  },
  {
   "cell_type": "code",
   "execution_count": null,
   "id": "675ed7af",
   "metadata": {},
   "outputs": [],
   "source": []
  },
  {
   "cell_type": "markdown",
   "id": "363f31a5",
   "metadata": {},
   "source": [
    "15. Write a python program to print the frequency of each of the characters present in a given string."
   ]
  },
  {
   "cell_type": "code",
   "execution_count": 25,
   "id": "39c7ea5c",
   "metadata": {},
   "outputs": [
    {
     "name": "stdout",
     "output_type": "stream",
     "text": [
      "Enter the string:Happy Diwali\n",
      "w:1\n",
      "a:2\n",
      "i:2\n",
      "p:2\n",
      "y:1\n",
      "D:1\n",
      " :1\n",
      "l:1\n",
      "H:1\n"
     ]
    }
   ],
   "source": [
    "string=input('Enter the string:')\n",
    "for i in set(string):\n",
    "    frequency=string.count(i)\n",
    "    print((str(i)+\":\"+str(frequency)))"
   ]
  },
  {
   "cell_type": "code",
   "execution_count": null,
   "id": "49858d47",
   "metadata": {},
   "outputs": [],
   "source": []
  }
 ],
 "metadata": {
  "kernelspec": {
   "display_name": "Python 3 (ipykernel)",
   "language": "python",
   "name": "python3"
  },
  "language_info": {
   "codemirror_mode": {
    "name": "ipython",
    "version": 3
   },
   "file_extension": ".py",
   "mimetype": "text/x-python",
   "name": "python",
   "nbconvert_exporter": "python",
   "pygments_lexer": "ipython3",
   "version": "3.7.13"
  }
 },
 "nbformat": 4,
 "nbformat_minor": 5
}
