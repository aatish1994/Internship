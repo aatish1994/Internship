{
 "cells": [
  {
   "cell_type": "code",
   "execution_count": 2,
   "id": "f881ff3d",
   "metadata": {},
   "outputs": [],
   "source": [
    "#importing libraries\n",
    "import selenium\n",
    "from selenium import webdriver\n",
    "import pandas as pd\n",
    "from selenium.webdriver.common.by import By\n",
    "import warnings\n",
    "warnings.filterwarnings('ignore')\n",
    "import time\n",
    "from selenium.common.exceptions import StaleElementReferenceException, NoSuchElementException\n",
    "from selenium.webdriver.support.ui import WebDriverWait\n",
    "from selenium.webdriver.support import expected_conditions as EC\n",
    "import re"
   ]
  },
  {
   "cell_type": "markdown",
   "id": "0d3e4a39",
   "metadata": {},
   "source": [
    "**1. Scrape the details of most viewed videos on YouTube from Wikipedia.\n",
    "Url = https://en.wikipedia.org/wiki/List_of_most-viewed_YouTube_videos\n",
    "You need to find following details:\n",
    "A) Rank\n",
    "B) Name\n",
    "C) Artist\n",
    "D) Upload date\n",
    "E) Views**"
   ]
  },
  {
   "cell_type": "code",
   "execution_count": 2,
   "id": "872209e1",
   "metadata": {},
   "outputs": [],
   "source": [
    "#Connecting to the driver\n",
    "driver=webdriver.Chrome(r'C:\\Users\\Admin\\Downloads\\chromedriver_win32\\chromedriver.exe')\n",
    "\n",
    "#Maximizing the automated\n",
    "driver.maximize_window()\n",
    "\n",
    "#opening the wikipedia website on automated chrome window\n",
    "url=' https://en.wikipedia.org/wiki/List_of_most-viewed_YouTube_videos'\n",
    "driver.get(url)"
   ]
  },
  {
   "cell_type": "code",
   "execution_count": 49,
   "id": "ea8c663d",
   "metadata": {},
   "outputs": [],
   "source": [
    "#Extracting Rank\n",
    "Rank=[]\n",
    "try:\n",
    "    rank_tag=driver.find_elements(By.XPATH,'//table[@class=\"wikitable sortable jquery-tablesorter\"][1]/tbody/tr/td[1]')\n",
    "    for i in rank_tag:\n",
    "        Rank.append(i.text)\n",
    "except NoSuchElementException : #handling no such element exception\n",
    "    Rank.append('-')  "
   ]
  },
  {
   "cell_type": "code",
   "execution_count": 50,
   "id": "2d99f2f9",
   "metadata": {},
   "outputs": [
    {
     "data": {
      "text/plain": [
       "30"
      ]
     },
     "execution_count": 50,
     "metadata": {},
     "output_type": "execute_result"
    }
   ],
   "source": [
    "#printing len\n",
    "len(Rank)"
   ]
  },
  {
   "cell_type": "code",
   "execution_count": 51,
   "id": "10ff4e6b",
   "metadata": {},
   "outputs": [
    {
     "data": {
      "text/plain": [
       "['1.',\n",
       " '2.',\n",
       " '3.',\n",
       " '4.',\n",
       " '5.',\n",
       " '6.',\n",
       " '7.',\n",
       " '8.',\n",
       " '9.',\n",
       " '10.',\n",
       " '11.',\n",
       " '12.',\n",
       " '13.',\n",
       " '14.',\n",
       " '15.',\n",
       " '16.',\n",
       " '17.',\n",
       " '18.',\n",
       " '19.',\n",
       " '20.',\n",
       " '21.',\n",
       " '22.',\n",
       " '23.',\n",
       " '24.',\n",
       " '25.',\n",
       " '26.',\n",
       " '27.',\n",
       " '28.',\n",
       " '29.',\n",
       " '30.']"
      ]
     },
     "execution_count": 51,
     "metadata": {},
     "output_type": "execute_result"
    }
   ],
   "source": [
    "#displaying Rank\n",
    "Rank"
   ]
  },
  {
   "cell_type": "code",
   "execution_count": 58,
   "id": "2ef8d220",
   "metadata": {},
   "outputs": [],
   "source": [
    "#Extracting Name\n",
    "Name=[]\n",
    "try:\n",
    "    name_tag=driver.find_elements(By.XPATH,'//table[@class=\"wikitable sortable jquery-tablesorter\"][1]/tbody/tr/td[2]')\n",
    "    for i in name_tag:\n",
    "        Name.append(i.text)\n",
    "except NoSuchElementException : #handling no such element exception\n",
    "    Name.append('-')  "
   ]
  },
  {
   "cell_type": "code",
   "execution_count": 59,
   "id": "c4f236fe",
   "metadata": {},
   "outputs": [
    {
     "data": {
      "text/plain": [
       "30"
      ]
     },
     "execution_count": 59,
     "metadata": {},
     "output_type": "execute_result"
    }
   ],
   "source": [
    "#printing len\n",
    "len(Name)"
   ]
  },
  {
   "cell_type": "code",
   "execution_count": 60,
   "id": "e3711279",
   "metadata": {},
   "outputs": [
    {
     "data": {
      "text/plain": [
       "['\"Baby Shark Dance\"[4]',\n",
       " '\"Despacito\"[7]',\n",
       " '\"Johny Johny Yes Papa\"[14]',\n",
       " '\"Shape of You\"[15]',\n",
       " '\"Bath Song\"[17]',\n",
       " '\"See You Again\"[18]',\n",
       " '\"Phonics Song with Two Words\"[23]',\n",
       " '\"Uptown Funk\"[24]',\n",
       " '\"Learning Colors – Colorful Eggs on a Farm\"[25]',\n",
       " '\"Wheels on the Bus\"[26]',\n",
       " '\"Gangnam Style\"[27]',\n",
       " '\"Masha and the Bear – Recipe for Disaster\"[32]',\n",
       " '\"Dame Tu Cosita\"[33]',\n",
       " '\"Sugar\"[34]',\n",
       " '\"Roar\"[35]',\n",
       " '\"Counting Stars\"[36]',\n",
       " '\"Axel F\"[37]',\n",
       " '\"Sorry\"[38]',\n",
       " '\"Thinking Out Loud\"[39]',\n",
       " '\"Baa Baa Black Sheep\"[40]',\n",
       " '\"Dark Horse\"[41]',\n",
       " '\"Faded\"[42]',\n",
       " '\"Girls Like You\"[43]',\n",
       " '\"Let Her Go\"[44]',\n",
       " '\"Waka Waka (This Time for Africa)\"[45]',\n",
       " '\"Perfect\"[46]',\n",
       " '\"Bailando\"[47]',\n",
       " '\"Lean On\"[48]',\n",
       " '\"Humpty the train on a fruits ride\"[49]',\n",
       " '\"Shake It Off\"[50]']"
      ]
     },
     "execution_count": 60,
     "metadata": {},
     "output_type": "execute_result"
    }
   ],
   "source": [
    "#Displaying Name\n",
    "Name"
   ]
  },
  {
   "cell_type": "code",
   "execution_count": 61,
   "id": "af11c739",
   "metadata": {},
   "outputs": [],
   "source": [
    "#Extracting Artist\n",
    "Artist=[]\n",
    "try:\n",
    "    artist_tag=driver.find_elements(By.XPATH,'//table[@class=\"wikitable sortable jquery-tablesorter\"][1]/tbody/tr/td[3]')\n",
    "    for i in artist_tag:\n",
    "        Artist.append(i.text)\n",
    "except NoSuchElementException : #handling no such element exception\n",
    "    Artist.append('-')  "
   ]
  },
  {
   "cell_type": "code",
   "execution_count": 62,
   "id": "8fb3962f",
   "metadata": {},
   "outputs": [
    {
     "data": {
      "text/plain": [
       "30"
      ]
     },
     "execution_count": 62,
     "metadata": {},
     "output_type": "execute_result"
    }
   ],
   "source": [
    "#printing len\n",
    "len(Artist)"
   ]
  },
  {
   "cell_type": "code",
   "execution_count": 63,
   "id": "76f857a6",
   "metadata": {},
   "outputs": [
    {
     "data": {
      "text/plain": [
       "[\"Pinkfong Baby Shark - Kids' Songs & Stories\",\n",
       " 'Luis Fonsi',\n",
       " 'LooLoo Kids',\n",
       " 'Ed Sheeran',\n",
       " 'Cocomelon – Nursery Rhymes',\n",
       " 'Wiz Khalifa',\n",
       " 'ChuChu TV',\n",
       " 'Mark Ronson',\n",
       " 'Miroshka TV',\n",
       " 'Cocomelon – Nursery Rhymes',\n",
       " 'Psy',\n",
       " 'Get Movies',\n",
       " 'El Chombo',\n",
       " 'Maroon 5',\n",
       " 'Katy Perry',\n",
       " 'OneRepublic',\n",
       " 'Crazy Frog',\n",
       " 'Justin Bieber',\n",
       " 'Ed Sheeran',\n",
       " 'Cocomelon – Nursery Rhymes',\n",
       " 'Katy Perry',\n",
       " 'Alan Walker',\n",
       " 'Maroon 5',\n",
       " 'Passenger',\n",
       " 'Shakira',\n",
       " 'Ed Sheeran',\n",
       " 'Enrique Iglesias',\n",
       " 'Major Lazer',\n",
       " 'Kiddiestv Hindi – Nursery Rhymes & Kids Songs',\n",
       " 'Taylor Swift']"
      ]
     },
     "execution_count": 63,
     "metadata": {},
     "output_type": "execute_result"
    }
   ],
   "source": [
    "#Displaying Artist\n",
    "Artist"
   ]
  },
  {
   "cell_type": "code",
   "execution_count": 64,
   "id": "42d0e952",
   "metadata": {},
   "outputs": [],
   "source": [
    "#Extracting Upload_date\n",
    "Upload_date=[]\n",
    "try:\n",
    "    upload_date_tag=driver.find_elements(By.XPATH,'//table[@class=\"wikitable sortable jquery-tablesorter\"][1]/tbody/tr/td[5]')\n",
    "    for i in upload_date_tag:\n",
    "        Upload_date.append(i.text)\n",
    "except NoSuchElementException : #handling no such element exception\n",
    "    Upload_date.append('-')  "
   ]
  },
  {
   "cell_type": "code",
   "execution_count": 65,
   "id": "d0245fb2",
   "metadata": {},
   "outputs": [
    {
     "data": {
      "text/plain": [
       "30"
      ]
     },
     "execution_count": 65,
     "metadata": {},
     "output_type": "execute_result"
    }
   ],
   "source": [
    "#printing len\n",
    "len(Upload_date)"
   ]
  },
  {
   "cell_type": "code",
   "execution_count": 66,
   "id": "fef7c7d7",
   "metadata": {},
   "outputs": [
    {
     "data": {
      "text/plain": [
       "['June 17, 2016',\n",
       " 'January 12, 2017',\n",
       " 'October 8, 2016',\n",
       " 'January 30, 2017',\n",
       " 'May 2, 2018',\n",
       " 'April 6, 2015',\n",
       " 'March 6, 2014',\n",
       " 'November 19, 2014',\n",
       " 'February 27, 2018',\n",
       " 'May 24, 2018',\n",
       " 'July 15, 2012',\n",
       " 'January 31, 2012',\n",
       " 'April 5, 2018',\n",
       " 'January 14, 2015',\n",
       " 'September 5, 2013',\n",
       " 'May 31, 2013',\n",
       " 'June 16, 2009',\n",
       " 'October 22, 2015',\n",
       " 'October 7, 2014',\n",
       " 'June 25, 2018',\n",
       " 'February 20, 2014',\n",
       " 'December 3, 2015',\n",
       " 'May 31, 2018',\n",
       " 'July 25, 2012',\n",
       " 'June 4, 2010',\n",
       " 'November 9, 2017',\n",
       " 'April 11, 2014',\n",
       " 'March 22, 2015',\n",
       " 'January 26, 2018',\n",
       " 'August 18, 2014']"
      ]
     },
     "execution_count": 66,
     "metadata": {},
     "output_type": "execute_result"
    }
   ],
   "source": [
    "#Displaying Date\n",
    "Upload_date"
   ]
  },
  {
   "cell_type": "code",
   "execution_count": 67,
   "id": "2da42556",
   "metadata": {},
   "outputs": [],
   "source": [
    "#Extracting Rank\n",
    "Views=[]\n",
    "try:\n",
    "    Views_tag=driver.find_elements(By.XPATH,'//table[@class=\"wikitable sortable jquery-tablesorter\"][1]/tbody/tr/td[4]')\n",
    "    for i in Views_tag:\n",
    "        Views.append(i.text)\n",
    "except NoSuchElementException : #handling no such element exception\n",
    "    Views.append('-')  "
   ]
  },
  {
   "cell_type": "code",
   "execution_count": 75,
   "id": "be3649ff",
   "metadata": {},
   "outputs": [
    {
     "data": {
      "text/plain": [
       "30"
      ]
     },
     "execution_count": 75,
     "metadata": {},
     "output_type": "execute_result"
    }
   ],
   "source": [
    "#printing len\n",
    "len(Views)"
   ]
  },
  {
   "cell_type": "code",
   "execution_count": 76,
   "id": "4e8e92c6",
   "metadata": {},
   "outputs": [
    {
     "data": {
      "text/plain": [
       "['11.74',\n",
       " '8.01',\n",
       " '6.53',\n",
       " '5.85',\n",
       " '5.77',\n",
       " '5.70',\n",
       " '5.02',\n",
       " '4.76',\n",
       " '4.73',\n",
       " '4.63',\n",
       " '4.61',\n",
       " '4.51',\n",
       " '4.14',\n",
       " '3.78',\n",
       " '3.69',\n",
       " '3.68',\n",
       " '3.61',\n",
       " '3.61',\n",
       " '3.52',\n",
       " '3.43',\n",
       " '3.40',\n",
       " '3.37',\n",
       " '3.35',\n",
       " '3.34',\n",
       " '3.31',\n",
       " '3.30',\n",
       " '3.30',\n",
       " '3.29',\n",
       " '3.23',\n",
       " '3.23']"
      ]
     },
     "execution_count": 76,
     "metadata": {},
     "output_type": "execute_result"
    }
   ],
   "source": [
    "#Displaying Views\n",
    "Views"
   ]
  },
  {
   "cell_type": "code",
   "execution_count": 73,
   "id": "7c9d825f",
   "metadata": {},
   "outputs": [
    {
     "data": {
      "text/html": [
       "<div>\n",
       "<style scoped>\n",
       "    .dataframe tbody tr th:only-of-type {\n",
       "        vertical-align: middle;\n",
       "    }\n",
       "\n",
       "    .dataframe tbody tr th {\n",
       "        vertical-align: top;\n",
       "    }\n",
       "\n",
       "    .dataframe thead th {\n",
       "        text-align: right;\n",
       "    }\n",
       "</style>\n",
       "<table border=\"1\" class=\"dataframe\">\n",
       "  <thead>\n",
       "    <tr style=\"text-align: right;\">\n",
       "      <th></th>\n",
       "      <th>Rank</th>\n",
       "      <th>Name</th>\n",
       "      <th>Artist</th>\n",
       "      <th>Upload Date</th>\n",
       "      <th>Views</th>\n",
       "    </tr>\n",
       "  </thead>\n",
       "  <tbody>\n",
       "    <tr>\n",
       "      <th>0</th>\n",
       "      <td>1.</td>\n",
       "      <td>\"Baby Shark Dance\"[4]</td>\n",
       "      <td>Pinkfong Baby Shark - Kids' Songs &amp; Stories</td>\n",
       "      <td>June 17, 2016</td>\n",
       "      <td>11.74</td>\n",
       "    </tr>\n",
       "    <tr>\n",
       "      <th>1</th>\n",
       "      <td>2.</td>\n",
       "      <td>\"Despacito\"[7]</td>\n",
       "      <td>Luis Fonsi</td>\n",
       "      <td>January 12, 2017</td>\n",
       "      <td>8.01</td>\n",
       "    </tr>\n",
       "    <tr>\n",
       "      <th>2</th>\n",
       "      <td>3.</td>\n",
       "      <td>\"Johny Johny Yes Papa\"[14]</td>\n",
       "      <td>LooLoo Kids</td>\n",
       "      <td>October 8, 2016</td>\n",
       "      <td>6.53</td>\n",
       "    </tr>\n",
       "    <tr>\n",
       "      <th>3</th>\n",
       "      <td>4.</td>\n",
       "      <td>\"Shape of You\"[15]</td>\n",
       "      <td>Ed Sheeran</td>\n",
       "      <td>January 30, 2017</td>\n",
       "      <td>5.85</td>\n",
       "    </tr>\n",
       "    <tr>\n",
       "      <th>4</th>\n",
       "      <td>5.</td>\n",
       "      <td>\"Bath Song\"[17]</td>\n",
       "      <td>Cocomelon – Nursery Rhymes</td>\n",
       "      <td>May 2, 2018</td>\n",
       "      <td>5.77</td>\n",
       "    </tr>\n",
       "    <tr>\n",
       "      <th>5</th>\n",
       "      <td>6.</td>\n",
       "      <td>\"See You Again\"[18]</td>\n",
       "      <td>Wiz Khalifa</td>\n",
       "      <td>April 6, 2015</td>\n",
       "      <td>5.70</td>\n",
       "    </tr>\n",
       "    <tr>\n",
       "      <th>6</th>\n",
       "      <td>7.</td>\n",
       "      <td>\"Phonics Song with Two Words\"[23]</td>\n",
       "      <td>ChuChu TV</td>\n",
       "      <td>March 6, 2014</td>\n",
       "      <td>5.02</td>\n",
       "    </tr>\n",
       "    <tr>\n",
       "      <th>7</th>\n",
       "      <td>8.</td>\n",
       "      <td>\"Uptown Funk\"[24]</td>\n",
       "      <td>Mark Ronson</td>\n",
       "      <td>November 19, 2014</td>\n",
       "      <td>4.76</td>\n",
       "    </tr>\n",
       "    <tr>\n",
       "      <th>8</th>\n",
       "      <td>9.</td>\n",
       "      <td>\"Learning Colors – Colorful Eggs on a Farm\"[25]</td>\n",
       "      <td>Miroshka TV</td>\n",
       "      <td>February 27, 2018</td>\n",
       "      <td>4.73</td>\n",
       "    </tr>\n",
       "    <tr>\n",
       "      <th>9</th>\n",
       "      <td>10.</td>\n",
       "      <td>\"Wheels on the Bus\"[26]</td>\n",
       "      <td>Cocomelon – Nursery Rhymes</td>\n",
       "      <td>May 24, 2018</td>\n",
       "      <td>4.63</td>\n",
       "    </tr>\n",
       "    <tr>\n",
       "      <th>10</th>\n",
       "      <td>11.</td>\n",
       "      <td>\"Gangnam Style\"[27]</td>\n",
       "      <td>Psy</td>\n",
       "      <td>July 15, 2012</td>\n",
       "      <td>4.61</td>\n",
       "    </tr>\n",
       "    <tr>\n",
       "      <th>11</th>\n",
       "      <td>12.</td>\n",
       "      <td>\"Masha and the Bear – Recipe for Disaster\"[32]</td>\n",
       "      <td>Get Movies</td>\n",
       "      <td>January 31, 2012</td>\n",
       "      <td>4.51</td>\n",
       "    </tr>\n",
       "    <tr>\n",
       "      <th>12</th>\n",
       "      <td>13.</td>\n",
       "      <td>\"Dame Tu Cosita\"[33]</td>\n",
       "      <td>El Chombo</td>\n",
       "      <td>April 5, 2018</td>\n",
       "      <td>4.14</td>\n",
       "    </tr>\n",
       "    <tr>\n",
       "      <th>13</th>\n",
       "      <td>14.</td>\n",
       "      <td>\"Sugar\"[34]</td>\n",
       "      <td>Maroon 5</td>\n",
       "      <td>January 14, 2015</td>\n",
       "      <td>3.78</td>\n",
       "    </tr>\n",
       "    <tr>\n",
       "      <th>14</th>\n",
       "      <td>15.</td>\n",
       "      <td>\"Roar\"[35]</td>\n",
       "      <td>Katy Perry</td>\n",
       "      <td>September 5, 2013</td>\n",
       "      <td>3.69</td>\n",
       "    </tr>\n",
       "    <tr>\n",
       "      <th>15</th>\n",
       "      <td>16.</td>\n",
       "      <td>\"Counting Stars\"[36]</td>\n",
       "      <td>OneRepublic</td>\n",
       "      <td>May 31, 2013</td>\n",
       "      <td>3.68</td>\n",
       "    </tr>\n",
       "    <tr>\n",
       "      <th>16</th>\n",
       "      <td>17.</td>\n",
       "      <td>\"Axel F\"[37]</td>\n",
       "      <td>Crazy Frog</td>\n",
       "      <td>June 16, 2009</td>\n",
       "      <td>3.61</td>\n",
       "    </tr>\n",
       "    <tr>\n",
       "      <th>17</th>\n",
       "      <td>18.</td>\n",
       "      <td>\"Sorry\"[38]</td>\n",
       "      <td>Justin Bieber</td>\n",
       "      <td>October 22, 2015</td>\n",
       "      <td>3.61</td>\n",
       "    </tr>\n",
       "    <tr>\n",
       "      <th>18</th>\n",
       "      <td>19.</td>\n",
       "      <td>\"Thinking Out Loud\"[39]</td>\n",
       "      <td>Ed Sheeran</td>\n",
       "      <td>October 7, 2014</td>\n",
       "      <td>3.52</td>\n",
       "    </tr>\n",
       "    <tr>\n",
       "      <th>19</th>\n",
       "      <td>20.</td>\n",
       "      <td>\"Baa Baa Black Sheep\"[40]</td>\n",
       "      <td>Cocomelon – Nursery Rhymes</td>\n",
       "      <td>June 25, 2018</td>\n",
       "      <td>3.43</td>\n",
       "    </tr>\n",
       "    <tr>\n",
       "      <th>20</th>\n",
       "      <td>21.</td>\n",
       "      <td>\"Dark Horse\"[41]</td>\n",
       "      <td>Katy Perry</td>\n",
       "      <td>February 20, 2014</td>\n",
       "      <td>3.40</td>\n",
       "    </tr>\n",
       "    <tr>\n",
       "      <th>21</th>\n",
       "      <td>22.</td>\n",
       "      <td>\"Faded\"[42]</td>\n",
       "      <td>Alan Walker</td>\n",
       "      <td>December 3, 2015</td>\n",
       "      <td>3.37</td>\n",
       "    </tr>\n",
       "    <tr>\n",
       "      <th>22</th>\n",
       "      <td>23.</td>\n",
       "      <td>\"Girls Like You\"[43]</td>\n",
       "      <td>Maroon 5</td>\n",
       "      <td>May 31, 2018</td>\n",
       "      <td>3.35</td>\n",
       "    </tr>\n",
       "    <tr>\n",
       "      <th>23</th>\n",
       "      <td>24.</td>\n",
       "      <td>\"Let Her Go\"[44]</td>\n",
       "      <td>Passenger</td>\n",
       "      <td>July 25, 2012</td>\n",
       "      <td>3.34</td>\n",
       "    </tr>\n",
       "    <tr>\n",
       "      <th>24</th>\n",
       "      <td>25.</td>\n",
       "      <td>\"Waka Waka (This Time for Africa)\"[45]</td>\n",
       "      <td>Shakira</td>\n",
       "      <td>June 4, 2010</td>\n",
       "      <td>3.31</td>\n",
       "    </tr>\n",
       "    <tr>\n",
       "      <th>25</th>\n",
       "      <td>26.</td>\n",
       "      <td>\"Perfect\"[46]</td>\n",
       "      <td>Ed Sheeran</td>\n",
       "      <td>November 9, 2017</td>\n",
       "      <td>3.30</td>\n",
       "    </tr>\n",
       "    <tr>\n",
       "      <th>26</th>\n",
       "      <td>27.</td>\n",
       "      <td>\"Bailando\"[47]</td>\n",
       "      <td>Enrique Iglesias</td>\n",
       "      <td>April 11, 2014</td>\n",
       "      <td>3.30</td>\n",
       "    </tr>\n",
       "    <tr>\n",
       "      <th>27</th>\n",
       "      <td>28.</td>\n",
       "      <td>\"Lean On\"[48]</td>\n",
       "      <td>Major Lazer</td>\n",
       "      <td>March 22, 2015</td>\n",
       "      <td>3.29</td>\n",
       "    </tr>\n",
       "    <tr>\n",
       "      <th>28</th>\n",
       "      <td>29.</td>\n",
       "      <td>\"Humpty the train on a fruits ride\"[49]</td>\n",
       "      <td>Kiddiestv Hindi – Nursery Rhymes &amp; Kids Songs</td>\n",
       "      <td>January 26, 2018</td>\n",
       "      <td>3.23</td>\n",
       "    </tr>\n",
       "    <tr>\n",
       "      <th>29</th>\n",
       "      <td>30.</td>\n",
       "      <td>\"Shake It Off\"[50]</td>\n",
       "      <td>Taylor Swift</td>\n",
       "      <td>August 18, 2014</td>\n",
       "      <td>3.23</td>\n",
       "    </tr>\n",
       "  </tbody>\n",
       "</table>\n",
       "</div>"
      ],
      "text/plain": [
       "   Rank                                             Name  \\\n",
       "0    1.                            \"Baby Shark Dance\"[4]   \n",
       "1    2.                                   \"Despacito\"[7]   \n",
       "2    3.                       \"Johny Johny Yes Papa\"[14]   \n",
       "3    4.                               \"Shape of You\"[15]   \n",
       "4    5.                                  \"Bath Song\"[17]   \n",
       "5    6.                              \"See You Again\"[18]   \n",
       "6    7.                \"Phonics Song with Two Words\"[23]   \n",
       "7    8.                                \"Uptown Funk\"[24]   \n",
       "8    9.  \"Learning Colors – Colorful Eggs on a Farm\"[25]   \n",
       "9   10.                          \"Wheels on the Bus\"[26]   \n",
       "10  11.                              \"Gangnam Style\"[27]   \n",
       "11  12.   \"Masha and the Bear – Recipe for Disaster\"[32]   \n",
       "12  13.                             \"Dame Tu Cosita\"[33]   \n",
       "13  14.                                      \"Sugar\"[34]   \n",
       "14  15.                                       \"Roar\"[35]   \n",
       "15  16.                             \"Counting Stars\"[36]   \n",
       "16  17.                                     \"Axel F\"[37]   \n",
       "17  18.                                      \"Sorry\"[38]   \n",
       "18  19.                          \"Thinking Out Loud\"[39]   \n",
       "19  20.                        \"Baa Baa Black Sheep\"[40]   \n",
       "20  21.                                 \"Dark Horse\"[41]   \n",
       "21  22.                                      \"Faded\"[42]   \n",
       "22  23.                             \"Girls Like You\"[43]   \n",
       "23  24.                                 \"Let Her Go\"[44]   \n",
       "24  25.           \"Waka Waka (This Time for Africa)\"[45]   \n",
       "25  26.                                    \"Perfect\"[46]   \n",
       "26  27.                                   \"Bailando\"[47]   \n",
       "27  28.                                    \"Lean On\"[48]   \n",
       "28  29.          \"Humpty the train on a fruits ride\"[49]   \n",
       "29  30.                               \"Shake It Off\"[50]   \n",
       "\n",
       "                                           Artist        Upload Date  Views  \n",
       "0     Pinkfong Baby Shark - Kids' Songs & Stories      June 17, 2016  11.74  \n",
       "1                                      Luis Fonsi   January 12, 2017   8.01  \n",
       "2                                     LooLoo Kids    October 8, 2016   6.53  \n",
       "3                                      Ed Sheeran   January 30, 2017   5.85  \n",
       "4                      Cocomelon – Nursery Rhymes        May 2, 2018   5.77  \n",
       "5                                     Wiz Khalifa      April 6, 2015   5.70  \n",
       "6                                       ChuChu TV      March 6, 2014   5.02  \n",
       "7                                     Mark Ronson  November 19, 2014   4.76  \n",
       "8                                     Miroshka TV  February 27, 2018   4.73  \n",
       "9                      Cocomelon – Nursery Rhymes       May 24, 2018   4.63  \n",
       "10                                            Psy      July 15, 2012   4.61  \n",
       "11                                     Get Movies   January 31, 2012   4.51  \n",
       "12                                      El Chombo      April 5, 2018   4.14  \n",
       "13                                       Maroon 5   January 14, 2015   3.78  \n",
       "14                                     Katy Perry  September 5, 2013   3.69  \n",
       "15                                    OneRepublic       May 31, 2013   3.68  \n",
       "16                                     Crazy Frog      June 16, 2009   3.61  \n",
       "17                                  Justin Bieber   October 22, 2015   3.61  \n",
       "18                                     Ed Sheeran    October 7, 2014   3.52  \n",
       "19                     Cocomelon – Nursery Rhymes      June 25, 2018   3.43  \n",
       "20                                     Katy Perry  February 20, 2014   3.40  \n",
       "21                                    Alan Walker   December 3, 2015   3.37  \n",
       "22                                       Maroon 5       May 31, 2018   3.35  \n",
       "23                                      Passenger      July 25, 2012   3.34  \n",
       "24                                        Shakira       June 4, 2010   3.31  \n",
       "25                                     Ed Sheeran   November 9, 2017   3.30  \n",
       "26                               Enrique Iglesias     April 11, 2014   3.30  \n",
       "27                                    Major Lazer     March 22, 2015   3.29  \n",
       "28  Kiddiestv Hindi – Nursery Rhymes & Kids Songs   January 26, 2018   3.23  \n",
       "29                                   Taylor Swift    August 18, 2014   3.23  "
      ]
     },
     "execution_count": 73,
     "metadata": {},
     "output_type": "execute_result"
    }
   ],
   "source": [
    "#Making DataFrame\n",
    "Most_Viewed_Videos=pd.DataFrame()\n",
    "Most_Viewed_Videos['Rank']=Rank\n",
    "Most_Viewed_Videos['Name']=Name\n",
    "Most_Viewed_Videos['Artist']=Artist\n",
    "Most_Viewed_Videos['Upload Date']=Upload_date\n",
    "Most_Viewed_Videos['Views']=Views\n",
    "Most_Viewed_Videos"
   ]
  },
  {
   "cell_type": "code",
   "execution_count": 77,
   "id": "174ffa30",
   "metadata": {},
   "outputs": [],
   "source": [
    "#Closing the Driver\n",
    "driver.close()"
   ]
  },
  {
   "cell_type": "markdown",
   "id": "0fe5d427",
   "metadata": {},
   "source": [
    "**2. Scrape the details team India’s international fixtures from bcci.tv.\n",
    "Url = https://www.bcci.tv/.\n",
    "You need to find following details:\n",
    "A) Match title (I.e. 1\n",
    "st ODI)\n",
    "B) Series\n",
    "C) Place\n",
    "D) Date\n",
    "E) Time\n",
    "Note: - From bcci.tv home page you have reach to the international fixture page through code.**"
   ]
  },
  {
   "cell_type": "code",
   "execution_count": 3,
   "id": "3406d6f2",
   "metadata": {},
   "outputs": [],
   "source": [
    "#Connecting to the driver\n",
    "driver=webdriver.Chrome(r'C:\\Users\\Admin\\Downloads\\chromedriver_win32\\chromedriver.exe')\n",
    "\n",
    "#Maximizing the automated\n",
    "driver.maximize_window()\n",
    "\n",
    "#opening the bcci website on automated chrome window\n",
    "url='https://www.bcci.tv/'\n",
    "driver.get(url)"
   ]
  },
  {
   "cell_type": "code",
   "execution_count": 6,
   "id": "db90f4a0",
   "metadata": {},
   "outputs": [],
   "source": [
    "#creating empty list\n",
    "url=[]\n",
    "#Extracting URLS\n",
    "try:\n",
    "    url_tags=driver.find_elements(By.XPATH,'/html/body/nav/div[1]/div[2]/ul[1]/li[2]/a')\n",
    "    for i in url_tags:\n",
    "        url.append(i.get_attribute('href'))\n",
    "except NoSuchElementException : #handling no such element exception\n",
    "    url.append('-')  "
   ]
  },
  {
   "cell_type": "code",
   "execution_count": 7,
   "id": "9837b157",
   "metadata": {},
   "outputs": [
    {
     "data": {
      "text/plain": [
       "1"
      ]
     },
     "execution_count": 7,
     "metadata": {},
     "output_type": "execute_result"
    }
   ],
   "source": [
    "#printing len\n",
    "len(url)"
   ]
  },
  {
   "cell_type": "code",
   "execution_count": 8,
   "id": "52279c0c",
   "metadata": {},
   "outputs": [
    {
     "data": {
      "text/plain": [
       "['https://www.bcci.tv/international/fixtures']"
      ]
     },
     "execution_count": 8,
     "metadata": {},
     "output_type": "execute_result"
    }
   ],
   "source": [
    "#Displaying url\n",
    "url"
   ]
  },
  {
   "cell_type": "code",
   "execution_count": 9,
   "id": "0358fbbb",
   "metadata": {},
   "outputs": [],
   "source": [
    "#clicking on international\n",
    "international=driver.find_element(By.XPATH,\"/html/body/nav/div[1]/div[2]/ul[1]/li[2]/a\")\n",
    "international.click()"
   ]
  },
  {
   "cell_type": "code",
   "execution_count": 10,
   "id": "038fdf3d",
   "metadata": {},
   "outputs": [],
   "source": [
    "#clicking on all categories\n",
    "all_categories=driver.find_element(By.XPATH,\"/html/body/div[2]/div[2]/div/div/div/div[2]/div[2]/div/div[1]/div\")\n",
    "all_categories.click()"
   ]
  },
  {
   "cell_type": "code",
   "execution_count": 11,
   "id": "fe96d4a0",
   "metadata": {},
   "outputs": [],
   "source": [
    "#clicking on Men\n",
    "men=driver.find_element(By.XPATH,\"/html/body/div[2]/div[2]/div/div/div/div[2]/div[2]/div/div[1]/div/div[2]/div[2]\")\n",
    "men.click()"
   ]
  },
  {
   "cell_type": "code",
   "execution_count": 14,
   "id": "abffab0d",
   "metadata": {},
   "outputs": [],
   "source": [
    "#clicking on all teams\n",
    "all_teams=driver.find_element(By.XPATH,\"/html/body/div[2]/div[2]/div/div/div/div[2]/div[2]/div/div[4]/div/div[1]\")\n",
    "all_teams.click()"
   ]
  },
  {
   "cell_type": "code",
   "execution_count": 15,
   "id": "01e12d00",
   "metadata": {},
   "outputs": [],
   "source": [
    "#clicking bangladesh\n",
    "bangladesh=driver.find_element(By.XPATH,\"/html/body/div[2]/div[2]/div/div/div/div[2]/div[2]/div/div[4]/div/div[2]/div[3]\")\n",
    "bangladesh.click()"
   ]
  },
  {
   "cell_type": "code",
   "execution_count": 26,
   "id": "23805ab9",
   "metadata": {},
   "outputs": [],
   "source": [
    "#Creating empty list\n",
    "Match_Title=[]\n",
    "\n",
    "#Extracting match title\n",
    "for i in url:\n",
    "    driver.get(i)\n",
    "    time.sleep(10)\n",
    "    try:\n",
    "        Match_Title_tags=driver.find_elements(By.XPATH,'//span[@class=\"matchOrderText ng-binding ng-scope\"]')\n",
    "        for j in Match_Title_tags:\n",
    "            Match_Title.append(j.text)\n",
    "    except NoSuchElementException : #handling no such element exception\n",
    "        Match_Title.append('--')"
   ]
  },
  {
   "cell_type": "code",
   "execution_count": 27,
   "id": "c0655789",
   "metadata": {},
   "outputs": [
    {
     "data": {
      "text/plain": [
       "4"
      ]
     },
     "execution_count": 27,
     "metadata": {},
     "output_type": "execute_result"
    }
   ],
   "source": [
    "#printing len\n",
    "len(Match_Title)"
   ]
  },
  {
   "cell_type": "code",
   "execution_count": 28,
   "id": "0086e5a1",
   "metadata": {},
   "outputs": [
    {
     "data": {
      "text/plain": [
       "['2nd ODI -', '3rd ODI -', '1st Test -', '2nd Test -']"
      ]
     },
     "execution_count": 28,
     "metadata": {},
     "output_type": "execute_result"
    }
   ],
   "source": [
    "#Displaying Match title\n",
    "Match_Title"
   ]
  },
  {
   "cell_type": "code",
   "execution_count": 32,
   "id": "974e7cc2",
   "metadata": {},
   "outputs": [],
   "source": [
    "#Creating empty list\n",
    "Series=[]\n",
    "\n",
    "#Extracting series\n",
    "for i in url:\n",
    "    driver.get(i)\n",
    "    time.sleep(10)\n",
    "    try:\n",
    "        Series_tags=driver.find_elements(By.XPATH,'//div[@class=\"fixture-card-top\"]//h5[2]/span')\n",
    "        for j in Series_tags:\n",
    "            Series.append(j.text)\n",
    "    except NoSuchElementException : #handling no such element exception\n",
    "        Series.append('--')"
   ]
  },
  {
   "cell_type": "code",
   "execution_count": 34,
   "id": "d96a0e36",
   "metadata": {},
   "outputs": [
    {
     "data": {
      "text/plain": [
       "4"
      ]
     },
     "execution_count": 34,
     "metadata": {},
     "output_type": "execute_result"
    }
   ],
   "source": [
    "#Printing len\n",
    "len(Series)"
   ]
  },
  {
   "cell_type": "code",
   "execution_count": 35,
   "id": "eb91efd4",
   "metadata": {},
   "outputs": [
    {
     "data": {
      "text/plain": [
       "['INDIA TOUR OF BANGLADESH ODI SERIES 2022-23',\n",
       " 'INDIA TOUR OF BANGLADESH ODI SERIES 2022-23',\n",
       " 'INDIA TOUR OF BANGLADESH TEST SERIES 2022-23',\n",
       " 'INDIA TOUR OF BANGLADESH TEST SERIES 2022-23']"
      ]
     },
     "execution_count": 35,
     "metadata": {},
     "output_type": "execute_result"
    }
   ],
   "source": [
    "#Displaying series\n",
    "Series"
   ]
  },
  {
   "cell_type": "code",
   "execution_count": 48,
   "id": "b5572b01",
   "metadata": {},
   "outputs": [],
   "source": [
    "#Creating empty list\n",
    "Place=[]\n",
    "\n",
    "#Extracting place\n",
    "for i in url:\n",
    "    driver.get(i)\n",
    "    time.sleep(10)\n",
    "    try:\n",
    "        Place_tags=driver.find_elements(By.XPATH,'//div[@class=\"fix-place ng-binding ng-scope\"]')\n",
    "        for j in Place_tags:\n",
    "            Place.append(j.text.split(\" \")[-1:])\n",
    "    except NoSuchElementException : #handling no such element exception\n",
    "        Place.append('--')"
   ]
  },
  {
   "cell_type": "code",
   "execution_count": 49,
   "id": "2d3063af",
   "metadata": {},
   "outputs": [
    {
     "data": {
      "text/plain": [
       "4"
      ]
     },
     "execution_count": 49,
     "metadata": {},
     "output_type": "execute_result"
    }
   ],
   "source": [
    "#Printing len\n",
    "len(Place)"
   ]
  },
  {
   "cell_type": "code",
   "execution_count": 50,
   "id": "c3699545",
   "metadata": {},
   "outputs": [
    {
     "data": {
      "text/plain": [
       "[['Dhaka'], ['Chattogram'], ['Chattogram'], ['Dhaka']]"
      ]
     },
     "execution_count": 50,
     "metadata": {},
     "output_type": "execute_result"
    }
   ],
   "source": [
    "#Displaying Date\n",
    "Place"
   ]
  },
  {
   "cell_type": "code",
   "execution_count": 51,
   "id": "abfb9edb",
   "metadata": {},
   "outputs": [],
   "source": [
    "#Creating empty list\n",
    "Date=[]\n",
    "\n",
    "#Extracting Date\n",
    "for i in url:\n",
    "    driver.get(i)\n",
    "    time.sleep(10)\n",
    "    try:\n",
    "        Date_tags=driver.find_elements(By.XPATH,'//div[@class=\"match-card-left match-schedule\"]/h5')\n",
    "        for j in Date_tags:\n",
    "            Date.append(j.text)\n",
    "    except NoSuchElementException : #handling no such element exception\n",
    "        Date.append('--')"
   ]
  },
  {
   "cell_type": "code",
   "execution_count": 52,
   "id": "76f099e4",
   "metadata": {},
   "outputs": [
    {
     "data": {
      "text/plain": [
       "4"
      ]
     },
     "execution_count": 52,
     "metadata": {},
     "output_type": "execute_result"
    }
   ],
   "source": [
    "#Extracting len\n",
    "len(Date)"
   ]
  },
  {
   "cell_type": "code",
   "execution_count": 53,
   "id": "1974de7e",
   "metadata": {},
   "outputs": [
    {
     "data": {
      "text/plain": [
       "['7 DEC 2022', '10 DEC 2022', '14 DEC 2022', '22 DEC 2022']"
      ]
     },
     "execution_count": 53,
     "metadata": {},
     "output_type": "execute_result"
    }
   ],
   "source": [
    "#Displaying Date\n",
    "Date"
   ]
  },
  {
   "cell_type": "code",
   "execution_count": 64,
   "id": "8e994d15",
   "metadata": {},
   "outputs": [],
   "source": [
    "#Creating empty list\n",
    "Time=[]\n",
    "\n",
    "#Extracting time\n",
    "for i in url:\n",
    "    driver.get(i)\n",
    "    time.sleep(10)\n",
    "    try:\n",
    "        Time_tags=driver.find_elements(By.XPATH,'//div[@class=\"match-card-right match-schedule \"]/h5')\n",
    "        for j in Time_tags:\n",
    "            Time.append(j.text)\n",
    "    except NoSuchElementException : #handling no such element exception\n",
    "        Time.append('--')"
   ]
  },
  {
   "cell_type": "code",
   "execution_count": 65,
   "id": "6342a28b",
   "metadata": {},
   "outputs": [
    {
     "data": {
      "text/plain": [
       "4"
      ]
     },
     "execution_count": 65,
     "metadata": {},
     "output_type": "execute_result"
    }
   ],
   "source": [
    "#Printing len\n",
    "len(Time)"
   ]
  },
  {
   "cell_type": "code",
   "execution_count": 66,
   "id": "d553c760",
   "metadata": {},
   "outputs": [
    {
     "data": {
      "text/plain": [
       "['LIVE', '11:30 AM IST', '9:30 AM IST', '9:30 AM IST']"
      ]
     },
     "execution_count": 66,
     "metadata": {},
     "output_type": "execute_result"
    }
   ],
   "source": [
    "#Displaying time\n",
    "Time"
   ]
  },
  {
   "cell_type": "code",
   "execution_count": 67,
   "id": "068f088f",
   "metadata": {},
   "outputs": [
    {
     "data": {
      "text/html": [
       "<div>\n",
       "<style scoped>\n",
       "    .dataframe tbody tr th:only-of-type {\n",
       "        vertical-align: middle;\n",
       "    }\n",
       "\n",
       "    .dataframe tbody tr th {\n",
       "        vertical-align: top;\n",
       "    }\n",
       "\n",
       "    .dataframe thead th {\n",
       "        text-align: right;\n",
       "    }\n",
       "</style>\n",
       "<table border=\"1\" class=\"dataframe\">\n",
       "  <thead>\n",
       "    <tr style=\"text-align: right;\">\n",
       "      <th></th>\n",
       "      <th>Match Title</th>\n",
       "      <th>Series</th>\n",
       "      <th>Place</th>\n",
       "      <th>Date</th>\n",
       "      <th>Time</th>\n",
       "    </tr>\n",
       "  </thead>\n",
       "  <tbody>\n",
       "    <tr>\n",
       "      <th>0</th>\n",
       "      <td>2nd ODI -</td>\n",
       "      <td>INDIA TOUR OF BANGLADESH ODI SERIES 2022-23</td>\n",
       "      <td>[Dhaka]</td>\n",
       "      <td>7 DEC 2022</td>\n",
       "      <td>LIVE</td>\n",
       "    </tr>\n",
       "    <tr>\n",
       "      <th>1</th>\n",
       "      <td>3rd ODI -</td>\n",
       "      <td>INDIA TOUR OF BANGLADESH ODI SERIES 2022-23</td>\n",
       "      <td>[Chattogram]</td>\n",
       "      <td>10 DEC 2022</td>\n",
       "      <td>11:30 AM IST</td>\n",
       "    </tr>\n",
       "    <tr>\n",
       "      <th>2</th>\n",
       "      <td>1st Test -</td>\n",
       "      <td>INDIA TOUR OF BANGLADESH TEST SERIES 2022-23</td>\n",
       "      <td>[Chattogram]</td>\n",
       "      <td>14 DEC 2022</td>\n",
       "      <td>9:30 AM IST</td>\n",
       "    </tr>\n",
       "    <tr>\n",
       "      <th>3</th>\n",
       "      <td>2nd Test -</td>\n",
       "      <td>INDIA TOUR OF BANGLADESH TEST SERIES 2022-23</td>\n",
       "      <td>[Dhaka]</td>\n",
       "      <td>22 DEC 2022</td>\n",
       "      <td>9:30 AM IST</td>\n",
       "    </tr>\n",
       "  </tbody>\n",
       "</table>\n",
       "</div>"
      ],
      "text/plain": [
       "  Match Title                                        Series         Place  \\\n",
       "0   2nd ODI -   INDIA TOUR OF BANGLADESH ODI SERIES 2022-23       [Dhaka]   \n",
       "1   3rd ODI -   INDIA TOUR OF BANGLADESH ODI SERIES 2022-23  [Chattogram]   \n",
       "2  1st Test -  INDIA TOUR OF BANGLADESH TEST SERIES 2022-23  [Chattogram]   \n",
       "3  2nd Test -  INDIA TOUR OF BANGLADESH TEST SERIES 2022-23       [Dhaka]   \n",
       "\n",
       "          Date          Time  \n",
       "0   7 DEC 2022          LIVE  \n",
       "1  10 DEC 2022  11:30 AM IST  \n",
       "2  14 DEC 2022   9:30 AM IST  \n",
       "3  22 DEC 2022   9:30 AM IST  "
      ]
     },
     "execution_count": 67,
     "metadata": {},
     "output_type": "execute_result"
    }
   ],
   "source": [
    "#making dataframe\n",
    "bcci=pd.DataFrame()\n",
    "bcci['Match Title']=Match_Title\n",
    "bcci['Series']=Series\n",
    "bcci['Place']=Place\n",
    "bcci['Date']=Date\n",
    "bcci['Time']=Time\n",
    "bcci"
   ]
  },
  {
   "cell_type": "code",
   "execution_count": 68,
   "id": "30c3a86d",
   "metadata": {},
   "outputs": [],
   "source": [
    "#closing the driver\n",
    "driver.close()"
   ]
  },
  {
   "cell_type": "markdown",
   "id": "7222e829",
   "metadata": {},
   "source": [
    "**3. Scrape the details of selenium exception from guru99.com.\n",
    "Url = https://www.guru99.com/\n",
    "You need to find following details:\n",
    "A) Name\n",
    "B) Description\n",
    "Note: - From guru99 home page you have to reach to selenium exception handling page through code.**"
   ]
  },
  {
   "cell_type": "code",
   "execution_count": 3,
   "id": "9e1d752b",
   "metadata": {},
   "outputs": [],
   "source": [
    "#Connecting to the driver\n",
    "driver=webdriver.Chrome(r'C:\\Users\\Admin\\Downloads\\chromedriver_win32\\chromedriver.exe')\n",
    "\n",
    "#Maximizing the automated\n",
    "driver.maximize_window()\n",
    "\n",
    "#opening the guru99 website on automated chrome window\n",
    "url='https://www.guru99.com/'\n",
    "driver.get(url)"
   ]
  },
  {
   "cell_type": "code",
   "execution_count": 5,
   "id": "ab73fa72",
   "metadata": {},
   "outputs": [],
   "source": [
    "#Finding web element for search job bar\n",
    "search_job=driver.find_element(By.ID,\"gsc-i-id1\")\n",
    "search_job.send_keys('selenium exception handling')"
   ]
  },
  {
   "cell_type": "code",
   "execution_count": 6,
   "id": "e54c30b0",
   "metadata": {},
   "outputs": [],
   "source": [
    "#Clicking using absolute function\n",
    "search_btn=driver.find_element(By.XPATH,\"/html/body/div[1]/div/div/div/main/div/article/div/div[1]/div[1]/div[2]/div/div[1]/div/div/div/form/table/tbody/tr/td[2]/button\")\n",
    "search_btn.click()"
   ]
  },
  {
   "cell_type": "code",
   "execution_count": 7,
   "id": "7d6e46b5",
   "metadata": {},
   "outputs": [],
   "source": [
    "#clicking on selenium exception handling types\n",
    "selenium=driver.find_element(By.XPATH,\"/html/body/div[1]/div/div/div/main/div/article/div/div[1]/div[1]/div[2]/div/div[1]/div/div/div/div[1]/div[6]/div[2]/div/div/div[1]/div[1]/div[1]/div[1]/div/a\")\n",
    "selenium.click()"
   ]
  },
  {
   "cell_type": "code",
   "execution_count": 8,
   "id": "b8f34bf1",
   "metadata": {},
   "outputs": [],
   "source": [
    "#creating empty list\n",
    "url=[]\n",
    "#Extracting URLS\n",
    "try:\n",
    "    url_tags=driver.find_elements(By.XPATH,'/html/body/div[1]/div/div/div/main/div/article/div/div[1]/div[1]/div[2]/div/div[1]/div/div/div/div[1]/div[6]/div[2]/div/div/div[1]/div[1]/div[1]/div[1]/div/a')\n",
    "    for i in url_tags:\n",
    "        url.append(i.get_attribute('href'))\n",
    "except NoSuchElementException : #handling no such element exception\n",
    "    url.append('-')  "
   ]
  },
  {
   "cell_type": "code",
   "execution_count": 9,
   "id": "ff0dec0b",
   "metadata": {},
   "outputs": [
    {
     "data": {
      "text/plain": [
       "1"
      ]
     },
     "execution_count": 9,
     "metadata": {},
     "output_type": "execute_result"
    }
   ],
   "source": [
    "#Printing len\n",
    "len(url)"
   ]
  },
  {
   "cell_type": "code",
   "execution_count": 10,
   "id": "c67d964c",
   "metadata": {},
   "outputs": [
    {
     "data": {
      "text/plain": [
       "['https://www.guru99.com/exception-handling-selenium.html']"
      ]
     },
     "execution_count": 10,
     "metadata": {},
     "output_type": "execute_result"
    }
   ],
   "source": [
    "#Displaying URL\n",
    "url"
   ]
  },
  {
   "cell_type": "code",
   "execution_count": 27,
   "id": "134e4db7",
   "metadata": {},
   "outputs": [],
   "source": [
    "#Creating empty list\n",
    "Name=[]\n",
    "\n",
    "#Extracting name\n",
    "for i in url:\n",
    "    driver.get(i)\n",
    "    time.sleep(2)\n",
    "    try:\n",
    "        name_tags=driver.find_elements(By.XPATH,'/html/body/div[1]/div/div/div/main/div/article/div/div/p/strong')\n",
    "        for j in name_tags:\n",
    "            Name.append(j.text)\n",
    "    except NoSuchElementException : #handling no such element exception\n",
    "        Name.append('--')"
   ]
  },
  {
   "cell_type": "code",
   "execution_count": 28,
   "id": "171fdc61",
   "metadata": {},
   "outputs": [
    {
     "data": {
      "text/plain": [
       "47"
      ]
     },
     "execution_count": 28,
     "metadata": {},
     "output_type": "execute_result"
    }
   ],
   "source": [
    "#Printing len\n",
    "len(Name)"
   ]
  },
  {
   "cell_type": "code",
   "execution_count": 29,
   "id": "0b61954e",
   "metadata": {},
   "outputs": [
    {
     "data": {
      "text/plain": [
       "['1. ElementNotVisibleException:',\n",
       " '2. ElementNotSelectableException:',\n",
       " '3. NoSuchElementException:',\n",
       " '4. NoSuchFrameException:',\n",
       " '5. NoAlertPresentException:',\n",
       " '6. NoSuchWindowException:',\n",
       " '7. StaleElementReferenceException:',\n",
       " '8. SessionNotFoundException:',\n",
       " '9. TimeoutException:',\n",
       " '10. WebDriverException:',\n",
       " '11. ConnectionClosedException:',\n",
       " '12. ElementClickInterceptedException:',\n",
       " '13. ElementNotInteractableException:',\n",
       " '14. ErrorInResponseException:',\n",
       " '15. ErrorHandler.UnknownServerException:',\n",
       " '16. ImeActivationFailedException:',\n",
       " '17. ImeNotAvailableException:',\n",
       " '18. InsecureCertificateException:',\n",
       " '19. InvalidArgumentException:',\n",
       " '20. InvalidCookieDomainException:',\n",
       " '21. InvalidCoordinatesException:',\n",
       " '22. InvalidElementStateException:',\n",
       " '23. InvalidSessionIdException:',\n",
       " '24. InvalidSwitchToTargetException:',\n",
       " '25. JavascriptException:',\n",
       " '26. JsonException:',\n",
       " '27. NoSuchAttributeException:',\n",
       " '28. MoveTargetOutOfBoundsException:',\n",
       " '29. NoSuchContextException:',\n",
       " '30. NoSuchCookieException:',\n",
       " '31. NotFoundException:',\n",
       " '32. RemoteDriverServerException:',\n",
       " '33. ScreenshotException:',\n",
       " '34. SessionNotCreatedException:',\n",
       " '35. UnableToSetCookieException:',\n",
       " '36. UnexpectedTagNameException:',\n",
       " '37. UnhandledAlertException:',\n",
       " '38. UnexpectedAlertPresentException:',\n",
       " '39. UnknownMethodException:',\n",
       " '40. UnreachableBrowserException:',\n",
       " '41. UnsupportedCommandException:']"
      ]
     },
     "execution_count": 29,
     "metadata": {},
     "output_type": "execute_result"
    }
   ],
   "source": [
    "#Displaying Name\n",
    "Name[:41]"
   ]
  },
  {
   "cell_type": "code",
   "execution_count": 24,
   "id": "16a01896",
   "metadata": {},
   "outputs": [],
   "source": [
    "#Creating empty list\n",
    "Description=[]\n",
    "\n",
    "#Extracting description\n",
    "for i in url:\n",
    "    driver.get(i)\n",
    "    time.sleep(2)\n",
    "    try:\n",
    "        description_tags=driver.find_elements(By.XPATH,'//div[@class=\"entry-content single-content\"]/p')\n",
    "        for j in description_tags:\n",
    "            Description.append(j.text.split(\":\")[1:])\n",
    "    except NoSuchElementException : #handling no such element exception\n",
    "        Description.append('--')"
   ]
  },
  {
   "cell_type": "code",
   "execution_count": 25,
   "id": "6f30c80e",
   "metadata": {},
   "outputs": [
    {
     "data": {
      "text/plain": [
       "53"
      ]
     },
     "execution_count": 25,
     "metadata": {},
     "output_type": "execute_result"
    }
   ],
   "source": [
    "#Printing len\n",
    "len(Description)"
   ]
  },
  {
   "cell_type": "code",
   "execution_count": 26,
   "id": "e66d29fc",
   "metadata": {},
   "outputs": [
    {
     "data": {
      "text/plain": [
       "[[' This type of Selenium exception occurs when an existing element in DOM has a feature set as hidden.'],\n",
       " [' This Selenium exception occurs when an element is presented in the DOM, but you can be able to select. Therefore, it is not possible to interact.'],\n",
       " [' This Exception occurs if an element could not be found.'],\n",
       " [' This Exception occurs if the frame target to be switched to does not exist.'],\n",
       " [' This Exception occurs when you switch to no presented alert.'],\n",
       " [' This Exception occurs if the window target to be switch does not exist.'],\n",
       " [' This Selenium exception occurs happens when the web element is detached from the current DOM.'],\n",
       " [' The WebDriver is acting after you quit the browser.'],\n",
       " [' Thrown when there is not enough time for a command to be completed. For Example, the element searched wasn’t found in the specified time.'],\n",
       " [' This Exception takes place when the WebDriver is acting right after you close the browser.'],\n",
       " [' This type of Exception takes place when there is a disconnection in the driver.'],\n",
       " [' The command may not be completed as the element receiving the events is concealing the element which was requested clicked.'],\n",
       " [' This Selenium exception is thrown when any element is presented in the DOM. However, it is impossible to interact with such an element.'],\n",
       " [' This happens while interacting with the Firefox extension or the remote driver server.'],\n",
       " [' Exception is used as a placeholder in case if the server returns an error without a stack trace.'],\n",
       " [' This expectation will occur when IME engine activation has failed.'],\n",
       " [' It takes place when IME support is unavailable.'],\n",
       " [' Navigation made the user agent to hit a certificate warning. This can cause by an invalid or expired TLS certificate.'],\n",
       " [' It occurs when an argument does not belong to the expected type.'],\n",
       " [' This happens when you try to add a cookie under a different domain instead of current URL.'],\n",
       " [' This type of Exception matches an interacting operation that is not valid.'],\n",
       " [' It occurs when command can’t be finished when the element is invalid.'],\n",
       " [' This Exception took place when the given session ID is not included in the list of active sessions. It means the session does not exist or is inactive either.'],\n",
       " [' This occurs when the frame or window target to be switched does not exist.'],\n",
       " [' This issue occurs while executing JavaScript given by the user.'],\n",
       " [' It occurs when you afford to get the session when the session is not created.'],\n",
       " [' This kind of Exception occurs when the attribute of an element could not be found.'],\n",
       " [' It takes place if the target provided to the ActionChains move() methodology is not valid. For Example, out of the document.'],\n",
       " [' ContextAware does mobile device testing.'],\n",
       " [' This Exception occurs when no cookie matching with the given pathname found for all the associated cookies of the currently browsing document.'],\n",
       " [' This Exception is a subclass of WebDriverException. This will occur when an element on the DOM does not exist.'],\n",
       " [' This Selenium exception is thrown when the server is not responding because of the problem that the capabilities described are not proper.'],\n",
       " [' It is not possible to capture a screen.'],\n",
       " [' It happens when a new session could not be successfully created.'],\n",
       " [' This occurs if a driver is unable to set a cookie.'],\n",
       " [' Happens if a support class did not get a web element as expected.'],\n",
       " [' This expectation occurs when there is an alert, but WebDriver is not able to perform Alert operation.'],\n",
       " [' It occurs when there is the appearance of an unexpected alert.'],\n",
       " [' This Exception happens when the requested command matches with a known URL but and not matching with a methodology for a specific URL.'],\n",
       " [' This Exception occurs only when the browser is not able to be opened or crashed because of some reason.'],\n",
       " [' This occurs when remote WebDriver doesn’t send valid commands as expected.']]"
      ]
     },
     "execution_count": 26,
     "metadata": {},
     "output_type": "execute_result"
    }
   ],
   "source": [
    "#Displaying Description\n",
    "Description[:41]"
   ]
  },
  {
   "cell_type": "code",
   "execution_count": 32,
   "id": "0023ffb4",
   "metadata": {},
   "outputs": [
    {
     "data": {
      "text/html": [
       "<div>\n",
       "<style scoped>\n",
       "    .dataframe tbody tr th:only-of-type {\n",
       "        vertical-align: middle;\n",
       "    }\n",
       "\n",
       "    .dataframe tbody tr th {\n",
       "        vertical-align: top;\n",
       "    }\n",
       "\n",
       "    .dataframe thead th {\n",
       "        text-align: right;\n",
       "    }\n",
       "</style>\n",
       "<table border=\"1\" class=\"dataframe\">\n",
       "  <thead>\n",
       "    <tr style=\"text-align: right;\">\n",
       "      <th></th>\n",
       "      <th>Name</th>\n",
       "      <th>Description</th>\n",
       "    </tr>\n",
       "  </thead>\n",
       "  <tbody>\n",
       "    <tr>\n",
       "      <th>0</th>\n",
       "      <td>1. ElementNotVisibleException:</td>\n",
       "      <td>[ This type of Selenium exception occurs when ...</td>\n",
       "    </tr>\n",
       "    <tr>\n",
       "      <th>1</th>\n",
       "      <td>2. ElementNotSelectableException:</td>\n",
       "      <td>[ This Selenium exception occurs when an eleme...</td>\n",
       "    </tr>\n",
       "    <tr>\n",
       "      <th>2</th>\n",
       "      <td>3. NoSuchElementException:</td>\n",
       "      <td>[ This Exception occurs if an element could no...</td>\n",
       "    </tr>\n",
       "    <tr>\n",
       "      <th>3</th>\n",
       "      <td>4. NoSuchFrameException:</td>\n",
       "      <td>[ This Exception occurs if the frame target to...</td>\n",
       "    </tr>\n",
       "    <tr>\n",
       "      <th>4</th>\n",
       "      <td>5. NoAlertPresentException:</td>\n",
       "      <td>[ This Exception occurs when you switch to no ...</td>\n",
       "    </tr>\n",
       "    <tr>\n",
       "      <th>5</th>\n",
       "      <td>6. NoSuchWindowException:</td>\n",
       "      <td>[ This Exception occurs if the window target t...</td>\n",
       "    </tr>\n",
       "    <tr>\n",
       "      <th>6</th>\n",
       "      <td>7. StaleElementReferenceException:</td>\n",
       "      <td>[ This Selenium exception occurs happens when ...</td>\n",
       "    </tr>\n",
       "    <tr>\n",
       "      <th>7</th>\n",
       "      <td>8. SessionNotFoundException:</td>\n",
       "      <td>[ The WebDriver is acting after you quit the b...</td>\n",
       "    </tr>\n",
       "    <tr>\n",
       "      <th>8</th>\n",
       "      <td>9. TimeoutException:</td>\n",
       "      <td>[ Thrown when there is not enough time for a c...</td>\n",
       "    </tr>\n",
       "    <tr>\n",
       "      <th>9</th>\n",
       "      <td>10. WebDriverException:</td>\n",
       "      <td>[ This Exception takes place when the WebDrive...</td>\n",
       "    </tr>\n",
       "    <tr>\n",
       "      <th>10</th>\n",
       "      <td>11. ConnectionClosedException:</td>\n",
       "      <td>[ This type of Exception takes place when ther...</td>\n",
       "    </tr>\n",
       "    <tr>\n",
       "      <th>11</th>\n",
       "      <td>12. ElementClickInterceptedException:</td>\n",
       "      <td>[ The command may not be completed as the elem...</td>\n",
       "    </tr>\n",
       "    <tr>\n",
       "      <th>12</th>\n",
       "      <td>13. ElementNotInteractableException:</td>\n",
       "      <td>[ This Selenium exception is thrown when any e...</td>\n",
       "    </tr>\n",
       "    <tr>\n",
       "      <th>13</th>\n",
       "      <td>14. ErrorInResponseException:</td>\n",
       "      <td>[ This happens while interacting with the Fire...</td>\n",
       "    </tr>\n",
       "    <tr>\n",
       "      <th>14</th>\n",
       "      <td>15. ErrorHandler.UnknownServerException:</td>\n",
       "      <td>[ Exception is used as a placeholder in case i...</td>\n",
       "    </tr>\n",
       "    <tr>\n",
       "      <th>15</th>\n",
       "      <td>16. ImeActivationFailedException:</td>\n",
       "      <td>[ This expectation will occur when IME engine ...</td>\n",
       "    </tr>\n",
       "    <tr>\n",
       "      <th>16</th>\n",
       "      <td>17. ImeNotAvailableException:</td>\n",
       "      <td>[ It takes place when IME support is unavailab...</td>\n",
       "    </tr>\n",
       "    <tr>\n",
       "      <th>17</th>\n",
       "      <td>18. InsecureCertificateException:</td>\n",
       "      <td>[ Navigation made the user agent to hit a cert...</td>\n",
       "    </tr>\n",
       "    <tr>\n",
       "      <th>18</th>\n",
       "      <td>19. InvalidArgumentException:</td>\n",
       "      <td>[ It occurs when an argument does not belong t...</td>\n",
       "    </tr>\n",
       "    <tr>\n",
       "      <th>19</th>\n",
       "      <td>20. InvalidCookieDomainException:</td>\n",
       "      <td>[ This happens when you try to add a cookie un...</td>\n",
       "    </tr>\n",
       "    <tr>\n",
       "      <th>20</th>\n",
       "      <td>21. InvalidCoordinatesException:</td>\n",
       "      <td>[ This type of Exception matches an interactin...</td>\n",
       "    </tr>\n",
       "    <tr>\n",
       "      <th>21</th>\n",
       "      <td>22. InvalidElementStateException:</td>\n",
       "      <td>[ It occurs when command can’t be finished whe...</td>\n",
       "    </tr>\n",
       "    <tr>\n",
       "      <th>22</th>\n",
       "      <td>23. InvalidSessionIdException:</td>\n",
       "      <td>[ This Exception took place when the given ses...</td>\n",
       "    </tr>\n",
       "    <tr>\n",
       "      <th>23</th>\n",
       "      <td>24. InvalidSwitchToTargetException:</td>\n",
       "      <td>[ This occurs when the frame or window target ...</td>\n",
       "    </tr>\n",
       "    <tr>\n",
       "      <th>24</th>\n",
       "      <td>25. JavascriptException:</td>\n",
       "      <td>[ This issue occurs while executing JavaScript...</td>\n",
       "    </tr>\n",
       "    <tr>\n",
       "      <th>25</th>\n",
       "      <td>26. JsonException:</td>\n",
       "      <td>[ It occurs when you afford to get the session...</td>\n",
       "    </tr>\n",
       "    <tr>\n",
       "      <th>26</th>\n",
       "      <td>27. NoSuchAttributeException:</td>\n",
       "      <td>[ This kind of Exception occurs when the attri...</td>\n",
       "    </tr>\n",
       "    <tr>\n",
       "      <th>27</th>\n",
       "      <td>28. MoveTargetOutOfBoundsException:</td>\n",
       "      <td>[ It takes place if the target provided to the...</td>\n",
       "    </tr>\n",
       "    <tr>\n",
       "      <th>28</th>\n",
       "      <td>29. NoSuchContextException:</td>\n",
       "      <td>[ ContextAware does mobile device testing.]</td>\n",
       "    </tr>\n",
       "    <tr>\n",
       "      <th>29</th>\n",
       "      <td>30. NoSuchCookieException:</td>\n",
       "      <td>[ This Exception occurs when no cookie matchin...</td>\n",
       "    </tr>\n",
       "    <tr>\n",
       "      <th>30</th>\n",
       "      <td>31. NotFoundException:</td>\n",
       "      <td>[ This Exception is a subclass of WebDriverExc...</td>\n",
       "    </tr>\n",
       "    <tr>\n",
       "      <th>31</th>\n",
       "      <td>32. RemoteDriverServerException:</td>\n",
       "      <td>[ This Selenium exception is thrown when the s...</td>\n",
       "    </tr>\n",
       "    <tr>\n",
       "      <th>32</th>\n",
       "      <td>33. ScreenshotException:</td>\n",
       "      <td>[ It is not possible to capture a screen.]</td>\n",
       "    </tr>\n",
       "    <tr>\n",
       "      <th>33</th>\n",
       "      <td>34. SessionNotCreatedException:</td>\n",
       "      <td>[ It happens when a new session could not be s...</td>\n",
       "    </tr>\n",
       "    <tr>\n",
       "      <th>34</th>\n",
       "      <td>35. UnableToSetCookieException:</td>\n",
       "      <td>[ This occurs if a driver is unable to set a c...</td>\n",
       "    </tr>\n",
       "    <tr>\n",
       "      <th>35</th>\n",
       "      <td>36. UnexpectedTagNameException:</td>\n",
       "      <td>[ Happens if a support class did not get a web...</td>\n",
       "    </tr>\n",
       "    <tr>\n",
       "      <th>36</th>\n",
       "      <td>37. UnhandledAlertException:</td>\n",
       "      <td>[ This expectation occurs when there is an ale...</td>\n",
       "    </tr>\n",
       "    <tr>\n",
       "      <th>37</th>\n",
       "      <td>38. UnexpectedAlertPresentException:</td>\n",
       "      <td>[ It occurs when there is the appearance of an...</td>\n",
       "    </tr>\n",
       "    <tr>\n",
       "      <th>38</th>\n",
       "      <td>39. UnknownMethodException:</td>\n",
       "      <td>[ This Exception happens when the requested co...</td>\n",
       "    </tr>\n",
       "    <tr>\n",
       "      <th>39</th>\n",
       "      <td>40. UnreachableBrowserException:</td>\n",
       "      <td>[ This Exception occurs only when the browser ...</td>\n",
       "    </tr>\n",
       "    <tr>\n",
       "      <th>40</th>\n",
       "      <td>41. UnsupportedCommandException:</td>\n",
       "      <td>[ This occurs when remote WebDriver doesn’t se...</td>\n",
       "    </tr>\n",
       "  </tbody>\n",
       "</table>\n",
       "</div>"
      ],
      "text/plain": [
       "                                        Name  \\\n",
       "0             1. ElementNotVisibleException:   \n",
       "1          2. ElementNotSelectableException:   \n",
       "2                 3. NoSuchElementException:   \n",
       "3                   4. NoSuchFrameException:   \n",
       "4                5. NoAlertPresentException:   \n",
       "5                  6. NoSuchWindowException:   \n",
       "6         7. StaleElementReferenceException:   \n",
       "7               8. SessionNotFoundException:   \n",
       "8                       9. TimeoutException:   \n",
       "9                    10. WebDriverException:   \n",
       "10            11. ConnectionClosedException:   \n",
       "11     12. ElementClickInterceptedException:   \n",
       "12      13. ElementNotInteractableException:   \n",
       "13             14. ErrorInResponseException:   \n",
       "14  15. ErrorHandler.UnknownServerException:   \n",
       "15         16. ImeActivationFailedException:   \n",
       "16             17. ImeNotAvailableException:   \n",
       "17         18. InsecureCertificateException:   \n",
       "18             19. InvalidArgumentException:   \n",
       "19         20. InvalidCookieDomainException:   \n",
       "20          21. InvalidCoordinatesException:   \n",
       "21         22. InvalidElementStateException:   \n",
       "22            23. InvalidSessionIdException:   \n",
       "23       24. InvalidSwitchToTargetException:   \n",
       "24                  25. JavascriptException:   \n",
       "25                        26. JsonException:   \n",
       "26             27. NoSuchAttributeException:   \n",
       "27       28. MoveTargetOutOfBoundsException:   \n",
       "28               29. NoSuchContextException:   \n",
       "29                30. NoSuchCookieException:   \n",
       "30                    31. NotFoundException:   \n",
       "31          32. RemoteDriverServerException:   \n",
       "32                  33. ScreenshotException:   \n",
       "33           34. SessionNotCreatedException:   \n",
       "34           35. UnableToSetCookieException:   \n",
       "35           36. UnexpectedTagNameException:   \n",
       "36              37. UnhandledAlertException:   \n",
       "37      38. UnexpectedAlertPresentException:   \n",
       "38               39. UnknownMethodException:   \n",
       "39          40. UnreachableBrowserException:   \n",
       "40          41. UnsupportedCommandException:   \n",
       "\n",
       "                                          Description  \n",
       "0   [ This type of Selenium exception occurs when ...  \n",
       "1   [ This Selenium exception occurs when an eleme...  \n",
       "2   [ This Exception occurs if an element could no...  \n",
       "3   [ This Exception occurs if the frame target to...  \n",
       "4   [ This Exception occurs when you switch to no ...  \n",
       "5   [ This Exception occurs if the window target t...  \n",
       "6   [ This Selenium exception occurs happens when ...  \n",
       "7   [ The WebDriver is acting after you quit the b...  \n",
       "8   [ Thrown when there is not enough time for a c...  \n",
       "9   [ This Exception takes place when the WebDrive...  \n",
       "10  [ This type of Exception takes place when ther...  \n",
       "11  [ The command may not be completed as the elem...  \n",
       "12  [ This Selenium exception is thrown when any e...  \n",
       "13  [ This happens while interacting with the Fire...  \n",
       "14  [ Exception is used as a placeholder in case i...  \n",
       "15  [ This expectation will occur when IME engine ...  \n",
       "16  [ It takes place when IME support is unavailab...  \n",
       "17  [ Navigation made the user agent to hit a cert...  \n",
       "18  [ It occurs when an argument does not belong t...  \n",
       "19  [ This happens when you try to add a cookie un...  \n",
       "20  [ This type of Exception matches an interactin...  \n",
       "21  [ It occurs when command can’t be finished whe...  \n",
       "22  [ This Exception took place when the given ses...  \n",
       "23  [ This occurs when the frame or window target ...  \n",
       "24  [ This issue occurs while executing JavaScript...  \n",
       "25  [ It occurs when you afford to get the session...  \n",
       "26  [ This kind of Exception occurs when the attri...  \n",
       "27  [ It takes place if the target provided to the...  \n",
       "28        [ ContextAware does mobile device testing.]  \n",
       "29  [ This Exception occurs when no cookie matchin...  \n",
       "30  [ This Exception is a subclass of WebDriverExc...  \n",
       "31  [ This Selenium exception is thrown when the s...  \n",
       "32         [ It is not possible to capture a screen.]  \n",
       "33  [ It happens when a new session could not be s...  \n",
       "34  [ This occurs if a driver is unable to set a c...  \n",
       "35  [ Happens if a support class did not get a web...  \n",
       "36  [ This expectation occurs when there is an ale...  \n",
       "37  [ It occurs when there is the appearance of an...  \n",
       "38  [ This Exception happens when the requested co...  \n",
       "39  [ This Exception occurs only when the browser ...  \n",
       "40  [ This occurs when remote WebDriver doesn’t se...  "
      ]
     },
     "execution_count": 32,
     "metadata": {},
     "output_type": "execute_result"
    }
   ],
   "source": [
    "#Making Dataframe\n",
    "selenium=pd.DataFrame()\n",
    "selenium['Name']=Name[:41]\n",
    "selenium['Description']=Description[:41]\n",
    "selenium"
   ]
  },
  {
   "cell_type": "code",
   "execution_count": 33,
   "id": "0c49553e",
   "metadata": {},
   "outputs": [],
   "source": [
    "#closing the driver\n",
    "driver.close()"
   ]
  },
  {
   "cell_type": "markdown",
   "id": "ed6c6a31",
   "metadata": {},
   "source": [
    "**4. Scrape the details of State-wise GDP of India from statisticstime.com.\n",
    "Url = http://statisticstimes.com/\n",
    "You have to find following details:\n",
    "A) Rank\n",
    "B) State\n",
    "C) GSDP(18-19)- at current prices\n",
    "D) GSDP(19-20)- at current prices\n",
    "E) Share(18-19)\n",
    "F) GDP($ billion)\n",
    "Note: - From statisticstimes home page you have to reach to economy page through cod**"
   ]
  },
  {
   "cell_type": "code",
   "execution_count": 26,
   "id": "e6100bb5",
   "metadata": {},
   "outputs": [],
   "source": [
    "#Connecting to the driver\n",
    "driver=webdriver.Chrome(r'C:\\Users\\Admin\\Downloads\\chromedriver_win32\\chromedriver.exe')\n",
    "\n",
    "#Maximizing the automated\n",
    "driver.maximize_window()\n",
    "\n",
    "#opening the statewise website on automated chrome window\n",
    "url='http://statisticstimes.com/ '\n",
    "driver.get(url)"
   ]
  },
  {
   "cell_type": "code",
   "execution_count": 27,
   "id": "64f00380",
   "metadata": {},
   "outputs": [],
   "source": [
    "#clicking on economy\n",
    "economy=driver.find_element(By.XPATH,\"/html/body/div[2]/div[1]/div[2]/div[2]\")\n",
    "economy.click()"
   ]
  },
  {
   "cell_type": "code",
   "execution_count": 28,
   "id": "56189880",
   "metadata": {},
   "outputs": [],
   "source": [
    "#clicking on india\n",
    "india=driver.find_element(By.XPATH,\"//div[@class='dropdown'][2]/div/a[3]\")\n",
    "india.click()"
   ]
  },
  {
   "cell_type": "code",
   "execution_count": 30,
   "id": "533cd14b",
   "metadata": {},
   "outputs": [],
   "source": [
    "#clicking on close button to put off the pop out\n",
    "india_gdp=driver.find_element(By.XPATH,\"/html/body/div[2]/div[2]/div[2]/ul/li[1]/a\")\n",
    "india_gdp.click()"
   ]
  },
  {
   "cell_type": "code",
   "execution_count": 194,
   "id": "8d93dc0e",
   "metadata": {},
   "outputs": [],
   "source": [
    "#creating empty list\n",
    "url=[]\n",
    "#Extracting URLS\n",
    "try:\n",
    "    url_tags=driver.find_elements(By.XPATH,'/html/body/div[2]/div[2]/div[2]/ul/li[1]/a')\n",
    "    for i in url_tags:\n",
    "        url.append(i.get_attribute('href'))\n",
    "except NoSuchElementException : #handling no such element exception\n",
    "    url.append('-')  "
   ]
  },
  {
   "cell_type": "code",
   "execution_count": 195,
   "id": "9bafbea7",
   "metadata": {},
   "outputs": [
    {
     "data": {
      "text/plain": [
       "1"
      ]
     },
     "execution_count": 195,
     "metadata": {},
     "output_type": "execute_result"
    }
   ],
   "source": [
    "#Printing len\n",
    "len(url)"
   ]
  },
  {
   "cell_type": "code",
   "execution_count": 196,
   "id": "3f349eab",
   "metadata": {},
   "outputs": [
    {
     "data": {
      "text/plain": [
       "['https://www.statisticstimes.com/economy/india/indian-states-gdp.php']"
      ]
     },
     "execution_count": 196,
     "metadata": {},
     "output_type": "execute_result"
    }
   ],
   "source": [
    "#Displaying url\n",
    "url"
   ]
  },
  {
   "cell_type": "code",
   "execution_count": 197,
   "id": "33de5cdc",
   "metadata": {},
   "outputs": [],
   "source": [
    "#Creating empty list\n",
    "Rank=[]\n",
    "\n",
    "#Extracting Rank\n",
    "for i in url:\n",
    "    driver.get(i)\n",
    "    time.sleep(2)\n",
    "    try:\n",
    "        rank_tags=driver.find_elements(By.XPATH,'//td[@class=\"data1\"]')\n",
    "        for j in rank_tags:\n",
    "            Rank.append(j.text)\n",
    "    except NoSuchElementException : #handling no such element exception\n",
    "        Rank.append('--')"
   ]
  },
  {
   "cell_type": "code",
   "execution_count": 198,
   "id": "150ab729",
   "metadata": {},
   "outputs": [
    {
     "data": {
      "text/plain": [
       "68"
      ]
     },
     "execution_count": 198,
     "metadata": {},
     "output_type": "execute_result"
    }
   ],
   "source": [
    "#Printing len\n",
    "len(Rank)"
   ]
  },
  {
   "cell_type": "code",
   "execution_count": 200,
   "id": "c8d34d8e",
   "metadata": {},
   "outputs": [
    {
     "data": {
      "text/plain": [
       "['1',\n",
       " '2',\n",
       " '3',\n",
       " '4',\n",
       " '5',\n",
       " '6',\n",
       " '7',\n",
       " '8',\n",
       " '9',\n",
       " '10',\n",
       " '11',\n",
       " '12',\n",
       " '13',\n",
       " '14',\n",
       " '15',\n",
       " '16',\n",
       " '17',\n",
       " '18',\n",
       " '19',\n",
       " '20',\n",
       " '21',\n",
       " '22',\n",
       " '23',\n",
       " '24',\n",
       " '25',\n",
       " '26',\n",
       " '27',\n",
       " '28',\n",
       " '29',\n",
       " '30',\n",
       " '31',\n",
       " '32',\n",
       " '33']"
      ]
     },
     "execution_count": 200,
     "metadata": {},
     "output_type": "execute_result"
    }
   ],
   "source": [
    "#Displaying Rank\n",
    "Rank[:33]"
   ]
  },
  {
   "cell_type": "code",
   "execution_count": 201,
   "id": "2ac5d226",
   "metadata": {},
   "outputs": [],
   "source": [
    "#Creating empty list\n",
    "State=[]\n",
    "\n",
    "#Extracting state\n",
    "for i in url:\n",
    "    driver.get(i)\n",
    "    time.sleep(2)\n",
    "    try:\n",
    "        state_tags=driver.find_elements(By.XPATH,'//td[@class=\"name\"]')\n",
    "        for j in state_tags:\n",
    "            State.append(j.text)\n",
    "    except NoSuchElementException : #handling no such element exception\n",
    "        State.append('--')"
   ]
  },
  {
   "cell_type": "code",
   "execution_count": 202,
   "id": "f6dcfb4d",
   "metadata": {},
   "outputs": [
    {
     "data": {
      "text/plain": [
       "68"
      ]
     },
     "execution_count": 202,
     "metadata": {},
     "output_type": "execute_result"
    }
   ],
   "source": [
    "#Printing len\n",
    "len(State)"
   ]
  },
  {
   "cell_type": "code",
   "execution_count": 204,
   "id": "9d1ed841",
   "metadata": {},
   "outputs": [
    {
     "data": {
      "text/plain": [
       "['Maharashtra',\n",
       " 'Tamil Nadu',\n",
       " 'Uttar Pradesh',\n",
       " 'Gujarat',\n",
       " 'Karnataka',\n",
       " 'West Bengal',\n",
       " 'Rajasthan',\n",
       " 'Andhra Pradesh',\n",
       " 'Telangana',\n",
       " 'Madhya Pradesh',\n",
       " 'Kerala',\n",
       " 'Delhi',\n",
       " 'Haryana',\n",
       " 'Bihar',\n",
       " 'Punjab',\n",
       " 'Odisha',\n",
       " 'Assam',\n",
       " 'Chhattisgarh',\n",
       " 'Jharkhand',\n",
       " 'Uttarakhand',\n",
       " 'Jammu & Kashmir',\n",
       " 'Himachal Pradesh',\n",
       " 'Goa',\n",
       " 'Tripura',\n",
       " 'Chandigarh',\n",
       " 'Puducherry',\n",
       " 'Meghalaya',\n",
       " 'Sikkim',\n",
       " 'Manipur',\n",
       " 'Nagaland',\n",
       " 'Arunachal Pradesh',\n",
       " 'Mizoram',\n",
       " 'Andaman & Nicobar Islands']"
      ]
     },
     "execution_count": 204,
     "metadata": {},
     "output_type": "execute_result"
    }
   ],
   "source": [
    "#Displaying State\n",
    "State[:33]"
   ]
  },
  {
   "cell_type": "code",
   "execution_count": 205,
   "id": "7613c533",
   "metadata": {},
   "outputs": [],
   "source": [
    "#Creating empty list\n",
    "GSDP_18_19=[]\n",
    "\n",
    "#Extracting GSDP 18-19\n",
    "for i in url:\n",
    "    driver.get(i)\n",
    "    time.sleep(2)\n",
    "    try:\n",
    "        GSDP_18_19_TAGS=driver.find_elements(By.XPATH,'//td[@class=\"data sorting_1\"]')\n",
    "        for j in GSDP_18_19_TAGS:\n",
    "            GSDP_18_19.append(j.text)\n",
    "    except NoSuchElementException : #handling no such element exception\n",
    "        GSDP_18_19.append('--')"
   ]
  },
  {
   "cell_type": "code",
   "execution_count": 206,
   "id": "9b9532d5",
   "metadata": {},
   "outputs": [
    {
     "data": {
      "text/plain": [
       "66"
      ]
     },
     "execution_count": 206,
     "metadata": {},
     "output_type": "execute_result"
    }
   ],
   "source": [
    "#Printing len\n",
    "len(GSDP_18_19)"
   ]
  },
  {
   "cell_type": "code",
   "execution_count": 207,
   "id": "3e8d058a",
   "metadata": {},
   "outputs": [
    {
     "data": {
      "text/plain": [
       "['2,632,792',\n",
       " '1,630,208',\n",
       " '1,584,764',\n",
       " '1,502,899',\n",
       " '1,493,127',\n",
       " '1,089,898',\n",
       " '942,586',\n",
       " '862,957',\n",
       " '861,031',\n",
       " '809,592',\n",
       " '781,653',\n",
       " '774,870',\n",
       " '734,163',\n",
       " '530,363',\n",
       " '526,376',\n",
       " '487,805',\n",
       " '315,881',\n",
       " '304,063',\n",
       " '297,204',\n",
       " '245,895',\n",
       " '155,956',\n",
       " '153,845',\n",
       " '73,170',\n",
       " '49,845',\n",
       " '42,114',\n",
       " '34,433',\n",
       " '33,481',\n",
       " '28,723',\n",
       " '27,870',\n",
       " '27,283',\n",
       " '24,603',\n",
       " '22,287',\n",
       " '-']"
      ]
     },
     "execution_count": 207,
     "metadata": {},
     "output_type": "execute_result"
    }
   ],
   "source": [
    "#Displaying gsdp 18-19\n",
    "GSDP_18_19[:33]"
   ]
  },
  {
   "cell_type": "code",
   "execution_count": 226,
   "id": "2a1153b0",
   "metadata": {},
   "outputs": [],
   "source": [
    "#Creating empty list\n",
    "GSDP_19_20=[]\n",
    "\n",
    "#Extracting GSDP 19-20\n",
    "for i in url:\n",
    "    driver.get(i)\n",
    "    time.sleep(2)\n",
    "    try:\n",
    "        GSDP_19_20_tags=driver.find_elements(By.XPATH,'//div[@class=\"dataTables_wrapper\"]/table/tbody/tr/td[3]')\n",
    "        for j in GSDP_19_20_tags:\n",
    "            GSDP_19_20.append(j.text)\n",
    "    except NoSuchElementException : #handling no such element exception\n",
    "        GSDP_19_20.append('--')"
   ]
  },
  {
   "cell_type": "code",
   "execution_count": 227,
   "id": "5b25a9f6",
   "metadata": {},
   "outputs": [
    {
     "data": {
      "text/plain": [
       "66"
      ]
     },
     "execution_count": 227,
     "metadata": {},
     "output_type": "execute_result"
    }
   ],
   "source": [
    "#Printing len\n",
    "len(GSDP_19_20)  "
   ]
  },
  {
   "cell_type": "code",
   "execution_count": 229,
   "id": "cc4f6607",
   "metadata": {},
   "outputs": [
    {
     "data": {
      "text/plain": [
       "['-',\n",
       " '1,845,853',\n",
       " '1,687,818',\n",
       " '-',\n",
       " '1,631,977',\n",
       " '1,253,832',\n",
       " '1,020,989',\n",
       " '972,782',\n",
       " '969,604',\n",
       " '906,672',\n",
       " '-',\n",
       " '856,112',\n",
       " '831,610',\n",
       " '611,804',\n",
       " '574,760',\n",
       " '521,275',\n",
       " '-',\n",
       " '329,180',\n",
       " '328,598',\n",
       " '-',\n",
       " '-',\n",
       " '165,472',\n",
       " '80,449',\n",
       " '55,984',\n",
       " '-',\n",
       " '38,253',\n",
       " '36,572',\n",
       " '32,496',\n",
       " '31,790',\n",
       " '-',\n",
       " '-',\n",
       " '26,503',\n",
       " '-']"
      ]
     },
     "execution_count": 229,
     "metadata": {},
     "output_type": "execute_result"
    }
   ],
   "source": [
    "#Displaying GSDP 19-20\n",
    "GSDP_19_20[:33]"
   ]
  },
  {
   "cell_type": "code",
   "execution_count": 230,
   "id": "0e480cee",
   "metadata": {},
   "outputs": [],
   "source": [
    "#Creating empty list\n",
    "SHARE_18_19=[]\n",
    "\n",
    "#Extracting SHARE 18-19\n",
    "for i in url:\n",
    "    driver.get(i)\n",
    "    time.sleep(2)\n",
    "    try:\n",
    "        SHARE_18_19_tags=driver.find_elements(By.XPATH,'//div[@class=\"dataTables_wrapper\"]/table/tbody/tr/td[5]')\n",
    "        for j in SHARE_18_19_tags:\n",
    "            SHARE_18_19.append(j.text)\n",
    "    except NoSuchElementException : #handling no such element exception\n",
    "        SHARE_18_19.append('--')"
   ]
  },
  {
   "cell_type": "code",
   "execution_count": 231,
   "id": "fba39ef9",
   "metadata": {},
   "outputs": [
    {
     "data": {
      "text/plain": [
       "66"
      ]
     },
     "execution_count": 231,
     "metadata": {},
     "output_type": "execute_result"
    }
   ],
   "source": [
    "#Printing len\n",
    "len(SHARE_18_19)"
   ]
  },
  {
   "cell_type": "code",
   "execution_count": 233,
   "id": "80e98947",
   "metadata": {},
   "outputs": [
    {
     "data": {
      "text/plain": [
       "['13.94%',\n",
       " '8.63%',\n",
       " '8.39%',\n",
       " '7.96%',\n",
       " '7.91%',\n",
       " '5.77%',\n",
       " '4.99%',\n",
       " '4.57%',\n",
       " '4.56%',\n",
       " '4.29%',\n",
       " '4.14%',\n",
       " '4.10%',\n",
       " '3.89%',\n",
       " '2.81%',\n",
       " '2.79%',\n",
       " '2.58%',\n",
       " '1.67%',\n",
       " '1.61%',\n",
       " '1.57%',\n",
       " '1.30%',\n",
       " '0.83%',\n",
       " '0.81%',\n",
       " '0.39%',\n",
       " '0.26%',\n",
       " '0.22%',\n",
       " '0.18%',\n",
       " '0.18%',\n",
       " '0.15%',\n",
       " '0.15%',\n",
       " '0.14%',\n",
       " '0.13%',\n",
       " '0.12%',\n",
       " '-']"
      ]
     },
     "execution_count": 233,
     "metadata": {},
     "output_type": "execute_result"
    }
   ],
   "source": [
    "#Displaying share 18-19\n",
    "SHARE_18_19[:33]"
   ]
  },
  {
   "cell_type": "code",
   "execution_count": 234,
   "id": "bef2f9c6",
   "metadata": {},
   "outputs": [],
   "source": [
    "#Creating empty list\n",
    "GDP=[]\n",
    "\n",
    "#Extracting GDP\n",
    "for i in url:\n",
    "    driver.get(i)\n",
    "    time.sleep(2)\n",
    "    try:\n",
    "        GDP_tags=driver.find_elements(By.XPATH,'//div[@class=\"dataTables_wrapper\"]/table/tbody/tr/td[6]')\n",
    "        for j in GDP_tags:\n",
    "            GDP.append(j.text)\n",
    "    except NoSuchElementException : #handling no such element exception\n",
    "        GDP.append('--')"
   ]
  },
  {
   "cell_type": "code",
   "execution_count": 235,
   "id": "0040fc12",
   "metadata": {},
   "outputs": [
    {
     "data": {
      "text/plain": [
       "66"
      ]
     },
     "execution_count": 235,
     "metadata": {},
     "output_type": "execute_result"
    }
   ],
   "source": [
    "#Printing len\n",
    "len(GDP)"
   ]
  },
  {
   "cell_type": "code",
   "execution_count": 236,
   "id": "d96e0195",
   "metadata": {},
   "outputs": [
    {
     "data": {
      "text/plain": [
       "['399.921',\n",
       " '247.629',\n",
       " '240.726',\n",
       " '228.290',\n",
       " '226.806',\n",
       " '165.556',\n",
       " '143.179',\n",
       " '131.083',\n",
       " '130.791',\n",
       " '122.977',\n",
       " '118.733',\n",
       " '117.703',\n",
       " '111.519',\n",
       " '80.562',\n",
       " '79.957',\n",
       " '74.098',\n",
       " '47.982',\n",
       " '46.187',\n",
       " '45.145',\n",
       " '37.351',\n",
       " '23.690',\n",
       " '23.369',\n",
       " '11.115',\n",
       " '7.571',\n",
       " '6.397',\n",
       " '5.230',\n",
       " '5.086',\n",
       " '4.363',\n",
       " '4.233',\n",
       " '4.144',\n",
       " '3.737',\n",
       " '3.385',\n",
       " '-']"
      ]
     },
     "execution_count": 236,
     "metadata": {},
     "output_type": "execute_result"
    }
   ],
   "source": [
    "#Displaying GDP\n",
    "GDP[:33]"
   ]
  },
  {
   "cell_type": "code",
   "execution_count": 238,
   "id": "207021d1",
   "metadata": {},
   "outputs": [
    {
     "data": {
      "text/html": [
       "<div>\n",
       "<style scoped>\n",
       "    .dataframe tbody tr th:only-of-type {\n",
       "        vertical-align: middle;\n",
       "    }\n",
       "\n",
       "    .dataframe tbody tr th {\n",
       "        vertical-align: top;\n",
       "    }\n",
       "\n",
       "    .dataframe thead th {\n",
       "        text-align: right;\n",
       "    }\n",
       "</style>\n",
       "<table border=\"1\" class=\"dataframe\">\n",
       "  <thead>\n",
       "    <tr style=\"text-align: right;\">\n",
       "      <th></th>\n",
       "      <th>Rank</th>\n",
       "      <th>State</th>\n",
       "      <th>GSDP 18-19</th>\n",
       "      <th>GSDP 19-20</th>\n",
       "      <th>SHARE 18-19</th>\n",
       "      <th>GDP</th>\n",
       "    </tr>\n",
       "  </thead>\n",
       "  <tbody>\n",
       "    <tr>\n",
       "      <th>0</th>\n",
       "      <td>1</td>\n",
       "      <td>Maharashtra</td>\n",
       "      <td>2,632,792</td>\n",
       "      <td>-</td>\n",
       "      <td>13.94%</td>\n",
       "      <td>399.921</td>\n",
       "    </tr>\n",
       "    <tr>\n",
       "      <th>1</th>\n",
       "      <td>2</td>\n",
       "      <td>Tamil Nadu</td>\n",
       "      <td>1,630,208</td>\n",
       "      <td>1,845,853</td>\n",
       "      <td>8.63%</td>\n",
       "      <td>247.629</td>\n",
       "    </tr>\n",
       "    <tr>\n",
       "      <th>2</th>\n",
       "      <td>3</td>\n",
       "      <td>Uttar Pradesh</td>\n",
       "      <td>1,584,764</td>\n",
       "      <td>1,687,818</td>\n",
       "      <td>8.39%</td>\n",
       "      <td>240.726</td>\n",
       "    </tr>\n",
       "    <tr>\n",
       "      <th>3</th>\n",
       "      <td>4</td>\n",
       "      <td>Gujarat</td>\n",
       "      <td>1,502,899</td>\n",
       "      <td>-</td>\n",
       "      <td>7.96%</td>\n",
       "      <td>228.290</td>\n",
       "    </tr>\n",
       "    <tr>\n",
       "      <th>4</th>\n",
       "      <td>5</td>\n",
       "      <td>Karnataka</td>\n",
       "      <td>1,493,127</td>\n",
       "      <td>1,631,977</td>\n",
       "      <td>7.91%</td>\n",
       "      <td>226.806</td>\n",
       "    </tr>\n",
       "    <tr>\n",
       "      <th>5</th>\n",
       "      <td>6</td>\n",
       "      <td>West Bengal</td>\n",
       "      <td>1,089,898</td>\n",
       "      <td>1,253,832</td>\n",
       "      <td>5.77%</td>\n",
       "      <td>165.556</td>\n",
       "    </tr>\n",
       "    <tr>\n",
       "      <th>6</th>\n",
       "      <td>7</td>\n",
       "      <td>Rajasthan</td>\n",
       "      <td>942,586</td>\n",
       "      <td>1,020,989</td>\n",
       "      <td>4.99%</td>\n",
       "      <td>143.179</td>\n",
       "    </tr>\n",
       "    <tr>\n",
       "      <th>7</th>\n",
       "      <td>8</td>\n",
       "      <td>Andhra Pradesh</td>\n",
       "      <td>862,957</td>\n",
       "      <td>972,782</td>\n",
       "      <td>4.57%</td>\n",
       "      <td>131.083</td>\n",
       "    </tr>\n",
       "    <tr>\n",
       "      <th>8</th>\n",
       "      <td>9</td>\n",
       "      <td>Telangana</td>\n",
       "      <td>861,031</td>\n",
       "      <td>969,604</td>\n",
       "      <td>4.56%</td>\n",
       "      <td>130.791</td>\n",
       "    </tr>\n",
       "    <tr>\n",
       "      <th>9</th>\n",
       "      <td>10</td>\n",
       "      <td>Madhya Pradesh</td>\n",
       "      <td>809,592</td>\n",
       "      <td>906,672</td>\n",
       "      <td>4.29%</td>\n",
       "      <td>122.977</td>\n",
       "    </tr>\n",
       "    <tr>\n",
       "      <th>10</th>\n",
       "      <td>11</td>\n",
       "      <td>Kerala</td>\n",
       "      <td>781,653</td>\n",
       "      <td>-</td>\n",
       "      <td>4.14%</td>\n",
       "      <td>118.733</td>\n",
       "    </tr>\n",
       "    <tr>\n",
       "      <th>11</th>\n",
       "      <td>12</td>\n",
       "      <td>Delhi</td>\n",
       "      <td>774,870</td>\n",
       "      <td>856,112</td>\n",
       "      <td>4.10%</td>\n",
       "      <td>117.703</td>\n",
       "    </tr>\n",
       "    <tr>\n",
       "      <th>12</th>\n",
       "      <td>13</td>\n",
       "      <td>Haryana</td>\n",
       "      <td>734,163</td>\n",
       "      <td>831,610</td>\n",
       "      <td>3.89%</td>\n",
       "      <td>111.519</td>\n",
       "    </tr>\n",
       "    <tr>\n",
       "      <th>13</th>\n",
       "      <td>14</td>\n",
       "      <td>Bihar</td>\n",
       "      <td>530,363</td>\n",
       "      <td>611,804</td>\n",
       "      <td>2.81%</td>\n",
       "      <td>80.562</td>\n",
       "    </tr>\n",
       "    <tr>\n",
       "      <th>14</th>\n",
       "      <td>15</td>\n",
       "      <td>Punjab</td>\n",
       "      <td>526,376</td>\n",
       "      <td>574,760</td>\n",
       "      <td>2.79%</td>\n",
       "      <td>79.957</td>\n",
       "    </tr>\n",
       "    <tr>\n",
       "      <th>15</th>\n",
       "      <td>16</td>\n",
       "      <td>Odisha</td>\n",
       "      <td>487,805</td>\n",
       "      <td>521,275</td>\n",
       "      <td>2.58%</td>\n",
       "      <td>74.098</td>\n",
       "    </tr>\n",
       "    <tr>\n",
       "      <th>16</th>\n",
       "      <td>17</td>\n",
       "      <td>Assam</td>\n",
       "      <td>315,881</td>\n",
       "      <td>-</td>\n",
       "      <td>1.67%</td>\n",
       "      <td>47.982</td>\n",
       "    </tr>\n",
       "    <tr>\n",
       "      <th>17</th>\n",
       "      <td>18</td>\n",
       "      <td>Chhattisgarh</td>\n",
       "      <td>304,063</td>\n",
       "      <td>329,180</td>\n",
       "      <td>1.61%</td>\n",
       "      <td>46.187</td>\n",
       "    </tr>\n",
       "    <tr>\n",
       "      <th>18</th>\n",
       "      <td>19</td>\n",
       "      <td>Jharkhand</td>\n",
       "      <td>297,204</td>\n",
       "      <td>328,598</td>\n",
       "      <td>1.57%</td>\n",
       "      <td>45.145</td>\n",
       "    </tr>\n",
       "    <tr>\n",
       "      <th>19</th>\n",
       "      <td>20</td>\n",
       "      <td>Uttarakhand</td>\n",
       "      <td>245,895</td>\n",
       "      <td>-</td>\n",
       "      <td>1.30%</td>\n",
       "      <td>37.351</td>\n",
       "    </tr>\n",
       "    <tr>\n",
       "      <th>20</th>\n",
       "      <td>21</td>\n",
       "      <td>Jammu &amp; Kashmir</td>\n",
       "      <td>155,956</td>\n",
       "      <td>-</td>\n",
       "      <td>0.83%</td>\n",
       "      <td>23.690</td>\n",
       "    </tr>\n",
       "    <tr>\n",
       "      <th>21</th>\n",
       "      <td>22</td>\n",
       "      <td>Himachal Pradesh</td>\n",
       "      <td>153,845</td>\n",
       "      <td>165,472</td>\n",
       "      <td>0.81%</td>\n",
       "      <td>23.369</td>\n",
       "    </tr>\n",
       "    <tr>\n",
       "      <th>22</th>\n",
       "      <td>23</td>\n",
       "      <td>Goa</td>\n",
       "      <td>73,170</td>\n",
       "      <td>80,449</td>\n",
       "      <td>0.39%</td>\n",
       "      <td>11.115</td>\n",
       "    </tr>\n",
       "    <tr>\n",
       "      <th>23</th>\n",
       "      <td>24</td>\n",
       "      <td>Tripura</td>\n",
       "      <td>49,845</td>\n",
       "      <td>55,984</td>\n",
       "      <td>0.26%</td>\n",
       "      <td>7.571</td>\n",
       "    </tr>\n",
       "    <tr>\n",
       "      <th>24</th>\n",
       "      <td>25</td>\n",
       "      <td>Chandigarh</td>\n",
       "      <td>42,114</td>\n",
       "      <td>-</td>\n",
       "      <td>0.22%</td>\n",
       "      <td>6.397</td>\n",
       "    </tr>\n",
       "    <tr>\n",
       "      <th>25</th>\n",
       "      <td>26</td>\n",
       "      <td>Puducherry</td>\n",
       "      <td>34,433</td>\n",
       "      <td>38,253</td>\n",
       "      <td>0.18%</td>\n",
       "      <td>5.230</td>\n",
       "    </tr>\n",
       "    <tr>\n",
       "      <th>26</th>\n",
       "      <td>27</td>\n",
       "      <td>Meghalaya</td>\n",
       "      <td>33,481</td>\n",
       "      <td>36,572</td>\n",
       "      <td>0.18%</td>\n",
       "      <td>5.086</td>\n",
       "    </tr>\n",
       "    <tr>\n",
       "      <th>27</th>\n",
       "      <td>28</td>\n",
       "      <td>Sikkim</td>\n",
       "      <td>28,723</td>\n",
       "      <td>32,496</td>\n",
       "      <td>0.15%</td>\n",
       "      <td>4.363</td>\n",
       "    </tr>\n",
       "    <tr>\n",
       "      <th>28</th>\n",
       "      <td>29</td>\n",
       "      <td>Manipur</td>\n",
       "      <td>27,870</td>\n",
       "      <td>31,790</td>\n",
       "      <td>0.15%</td>\n",
       "      <td>4.233</td>\n",
       "    </tr>\n",
       "    <tr>\n",
       "      <th>29</th>\n",
       "      <td>30</td>\n",
       "      <td>Nagaland</td>\n",
       "      <td>27,283</td>\n",
       "      <td>-</td>\n",
       "      <td>0.14%</td>\n",
       "      <td>4.144</td>\n",
       "    </tr>\n",
       "    <tr>\n",
       "      <th>30</th>\n",
       "      <td>31</td>\n",
       "      <td>Arunachal Pradesh</td>\n",
       "      <td>24,603</td>\n",
       "      <td>-</td>\n",
       "      <td>0.13%</td>\n",
       "      <td>3.737</td>\n",
       "    </tr>\n",
       "    <tr>\n",
       "      <th>31</th>\n",
       "      <td>32</td>\n",
       "      <td>Mizoram</td>\n",
       "      <td>22,287</td>\n",
       "      <td>26,503</td>\n",
       "      <td>0.12%</td>\n",
       "      <td>3.385</td>\n",
       "    </tr>\n",
       "    <tr>\n",
       "      <th>32</th>\n",
       "      <td>33</td>\n",
       "      <td>Andaman &amp; Nicobar Islands</td>\n",
       "      <td>-</td>\n",
       "      <td>-</td>\n",
       "      <td>-</td>\n",
       "      <td>-</td>\n",
       "    </tr>\n",
       "  </tbody>\n",
       "</table>\n",
       "</div>"
      ],
      "text/plain": [
       "   Rank                      State GSDP 18-19 GSDP 19-20 SHARE 18-19      GDP\n",
       "0     1                Maharashtra  2,632,792          -      13.94%  399.921\n",
       "1     2                 Tamil Nadu  1,630,208  1,845,853       8.63%  247.629\n",
       "2     3              Uttar Pradesh  1,584,764  1,687,818       8.39%  240.726\n",
       "3     4                    Gujarat  1,502,899          -       7.96%  228.290\n",
       "4     5                  Karnataka  1,493,127  1,631,977       7.91%  226.806\n",
       "5     6                West Bengal  1,089,898  1,253,832       5.77%  165.556\n",
       "6     7                  Rajasthan    942,586  1,020,989       4.99%  143.179\n",
       "7     8             Andhra Pradesh    862,957    972,782       4.57%  131.083\n",
       "8     9                  Telangana    861,031    969,604       4.56%  130.791\n",
       "9    10             Madhya Pradesh    809,592    906,672       4.29%  122.977\n",
       "10   11                     Kerala    781,653          -       4.14%  118.733\n",
       "11   12                      Delhi    774,870    856,112       4.10%  117.703\n",
       "12   13                    Haryana    734,163    831,610       3.89%  111.519\n",
       "13   14                      Bihar    530,363    611,804       2.81%   80.562\n",
       "14   15                     Punjab    526,376    574,760       2.79%   79.957\n",
       "15   16                     Odisha    487,805    521,275       2.58%   74.098\n",
       "16   17                      Assam    315,881          -       1.67%   47.982\n",
       "17   18               Chhattisgarh    304,063    329,180       1.61%   46.187\n",
       "18   19                  Jharkhand    297,204    328,598       1.57%   45.145\n",
       "19   20                Uttarakhand    245,895          -       1.30%   37.351\n",
       "20   21            Jammu & Kashmir    155,956          -       0.83%   23.690\n",
       "21   22           Himachal Pradesh    153,845    165,472       0.81%   23.369\n",
       "22   23                        Goa     73,170     80,449       0.39%   11.115\n",
       "23   24                    Tripura     49,845     55,984       0.26%    7.571\n",
       "24   25                 Chandigarh     42,114          -       0.22%    6.397\n",
       "25   26                 Puducherry     34,433     38,253       0.18%    5.230\n",
       "26   27                  Meghalaya     33,481     36,572       0.18%    5.086\n",
       "27   28                     Sikkim     28,723     32,496       0.15%    4.363\n",
       "28   29                    Manipur     27,870     31,790       0.15%    4.233\n",
       "29   30                   Nagaland     27,283          -       0.14%    4.144\n",
       "30   31          Arunachal Pradesh     24,603          -       0.13%    3.737\n",
       "31   32                    Mizoram     22,287     26,503       0.12%    3.385\n",
       "32   33  Andaman & Nicobar Islands          -          -           -        -"
      ]
     },
     "execution_count": 238,
     "metadata": {},
     "output_type": "execute_result"
    }
   ],
   "source": [
    "#Making dataframe\n",
    "INDIA_GDP=pd.DataFrame()\n",
    "INDIA_GDP['Rank']=Rank[:33]\n",
    "INDIA_GDP['State']=State[:33]\n",
    "INDIA_GDP['GSDP 18-19']=GSDP_18_19[:33]\n",
    "INDIA_GDP['GSDP 19-20']=GSDP_19_20[:33]\n",
    "INDIA_GDP['SHARE 18-19']=SHARE_18_19[:33]\n",
    "INDIA_GDP['GDP']=GDP[:33]\n",
    "INDIA_GDP"
   ]
  },
  {
   "cell_type": "code",
   "execution_count": 239,
   "id": "db2594e2",
   "metadata": {},
   "outputs": [],
   "source": [
    "#Closing the driver\n",
    "driver.close()"
   ]
  },
  {
   "cell_type": "markdown",
   "id": "2dbba5e9",
   "metadata": {},
   "source": [
    "**5. Scrape the details of trending repositories on Github.com.\n",
    "Url = https://github.com/\n",
    "You have to find the following details:\n",
    "A) Repository title\n",
    "B) Repository description\n",
    "C) Contributors count\n",
    "D) Language used\n",
    "Note: - From the home page you have to click on the trending option from Explore menu through code**"
   ]
  },
  {
   "cell_type": "code",
   "execution_count": 31,
   "id": "e9cddaf0",
   "metadata": {},
   "outputs": [],
   "source": [
    "#Connecting to the driver\n",
    "driver=webdriver.Chrome(r'C:\\Users\\Admin\\Downloads\\chromedriver_win32\\chromedriver.exe')\n",
    "\n",
    "#Maximizing the automated\n",
    "driver.maximize_window()\n",
    "\n",
    "#opening the GITHUB website on automated chrome window\n",
    "url='https://github.com/'\n",
    "driver.get(url)"
   ]
  },
  {
   "cell_type": "code",
   "execution_count": 32,
   "id": "895c47d7",
   "metadata": {},
   "outputs": [],
   "source": [
    "#clicking on open source\n",
    "open_source=driver.find_element(By.XPATH,\"/html/body/div[1]/div[1]/header/div/div[2]/div/nav/ul/li[3]/button\")\n",
    "open_source.click()"
   ]
  },
  {
   "cell_type": "code",
   "execution_count": 33,
   "id": "31d7912e",
   "metadata": {},
   "outputs": [],
   "source": [
    "#clicking on trending\n",
    "trending=driver.find_element(By.XPATH,\"/html/body/div[1]/div[1]/header/div/div[2]/div/nav/ul/li[3]/div/ul[3]/li[3]/a\")\n",
    "trending.click()"
   ]
  },
  {
   "cell_type": "code",
   "execution_count": 34,
   "id": "4e72e06d",
   "metadata": {},
   "outputs": [],
   "source": [
    "#extracting url\n",
    "url=[]\n",
    "try:\n",
    "    url_tags=driver.find_elements(By.XPATH,'//h1[@class=\"h3 lh-condensed\"]/a')\n",
    "    for i in url_tags:\n",
    "        url.append(i.get_attribute('href'))\n",
    "except NoSuchElementException : #handling no such element exception\n",
    "    url.append('-')  "
   ]
  },
  {
   "cell_type": "code",
   "execution_count": 35,
   "id": "e08d6c25",
   "metadata": {},
   "outputs": [
    {
     "data": {
      "text/plain": [
       "25"
      ]
     },
     "execution_count": 35,
     "metadata": {},
     "output_type": "execute_result"
    }
   ],
   "source": [
    "#Printing len\n",
    "len(url)"
   ]
  },
  {
   "cell_type": "code",
   "execution_count": 36,
   "id": "49283cc7",
   "metadata": {},
   "outputs": [
    {
     "data": {
      "text/plain": [
       "['https://github.com/invoke-ai/InvokeAI',\n",
       " 'https://github.com/apple/ml-stable-diffusion',\n",
       " 'https://github.com/AleoHQ/snarkOS',\n",
       " 'https://github.com/misskey-dev/misskey',\n",
       " 'https://github.com/Klipper3d/klipper',\n",
       " 'https://github.com/PKUFlyingPig/cs-self-learning',\n",
       " 'https://github.com/danielgross/whatsapp-gpt',\n",
       " 'https://github.com/hehonghui/awesome-english-ebooks',\n",
       " 'https://github.com/Visualize-ML/Book4_Power-of-Matrix',\n",
       " 'https://github.com/thangchung/go-coffeeshop',\n",
       " 'https://github.com/monicahq/monica',\n",
       " 'https://github.com/coolsnowwolf/lede',\n",
       " 'https://github.com/Bogdanp/awesome-advent-of-code',\n",
       " 'https://github.com/palera1n/palera1n',\n",
       " 'https://github.com/t3-oss/create-t3-app',\n",
       " 'https://github.com/maplecool/easytrojan',\n",
       " 'https://github.com/openai/openai-quickstart-node',\n",
       " 'https://github.com/microsoft/PowerToys',\n",
       " 'https://github.com/evrone/go-clean-template',\n",
       " 'https://github.com/openzfs/zfs',\n",
       " 'https://github.com/recloudstream/cloudstream',\n",
       " 'https://github.com/fspoettel/advent-of-code-rust',\n",
       " 'https://github.com/getify/You-Dont-Know-JS',\n",
       " 'https://github.com/openai/openai-quickstart-python',\n",
       " 'https://github.com/linebender/xilem']"
      ]
     },
     "execution_count": 36,
     "metadata": {},
     "output_type": "execute_result"
    }
   ],
   "source": [
    "#Displaying url\n",
    "url"
   ]
  },
  {
   "cell_type": "code",
   "execution_count": 37,
   "id": "af0d9cf8",
   "metadata": {},
   "outputs": [],
   "source": [
    "#extracting repository title\n",
    "title=[]\n",
    "try:\n",
    "    title_tags=driver.find_elements(By.XPATH,'//h1[@class=\"h3 lh-condensed\"]')\n",
    "    for i in title_tags:\n",
    "        title.append(i.text.split(\"/\")[1])\n",
    "except NoSuchElementException : #handling no such element exception\n",
    "        title.append('--')"
   ]
  },
  {
   "cell_type": "code",
   "execution_count": 38,
   "id": "930fd706",
   "metadata": {},
   "outputs": [
    {
     "data": {
      "text/plain": [
       "25"
      ]
     },
     "execution_count": 38,
     "metadata": {},
     "output_type": "execute_result"
    }
   ],
   "source": [
    "#Printing len\n",
    "len(title)"
   ]
  },
  {
   "cell_type": "code",
   "execution_count": 39,
   "id": "2e86b8ee",
   "metadata": {},
   "outputs": [
    {
     "data": {
      "text/plain": [
       "[' InvokeAI',\n",
       " ' ml-stable-diffusion',\n",
       " ' snarkOS',\n",
       " ' misskey',\n",
       " ' klipper',\n",
       " ' cs-self-learning',\n",
       " ' whatsapp-gpt',\n",
       " ' awesome-english-ebooks',\n",
       " ' Book4_Power-of-Matrix',\n",
       " ' go-coffeeshop',\n",
       " ' monica',\n",
       " ' lede',\n",
       " ' awesome-advent-of-code',\n",
       " ' palera1n',\n",
       " ' create-t3-app',\n",
       " ' easytrojan',\n",
       " ' openai-quickstart-node',\n",
       " ' PowerToys',\n",
       " ' go-clean-template',\n",
       " ' zfs',\n",
       " ' cloudstream',\n",
       " ' advent-of-code-rust',\n",
       " ' You-Dont-Know-JS',\n",
       " ' openai-quickstart-python',\n",
       " ' xilem']"
      ]
     },
     "execution_count": 39,
     "metadata": {},
     "output_type": "execute_result"
    }
   ],
   "source": [
    "#Displaying title\n",
    "title"
   ]
  },
  {
   "cell_type": "code",
   "execution_count": 40,
   "id": "411f51ed",
   "metadata": {},
   "outputs": [],
   "source": [
    "#extracting repository description\n",
    "description=[]\n",
    "try:\n",
    "    description_tags=driver.find_elements(By.XPATH,'//p[@class=\"col-9 color-fg-muted my-1 pr-4\"]')\n",
    "    for i in description_tags:\n",
    "        description.append(i.text)\n",
    "except NoSuchElementException : #handling no such element exception\n",
    "        description.append('--')"
   ]
  },
  {
   "cell_type": "code",
   "execution_count": 41,
   "id": "8904b671",
   "metadata": {},
   "outputs": [
    {
     "data": {
      "text/plain": [
       "24"
      ]
     },
     "execution_count": 41,
     "metadata": {},
     "output_type": "execute_result"
    }
   ],
   "source": [
    "#Printing len\n",
    "len(description)"
   ]
  },
  {
   "cell_type": "code",
   "execution_count": 42,
   "id": "ec73c224",
   "metadata": {},
   "outputs": [
    {
     "data": {
      "text/plain": [
       "['This version of Stable Diffusion features a slick WebGUI, an interactive command-line script that combines text2img and img2img functionality in a \"dream bot\" style interface, and multiple features and other enhancements. For more info, see the website link below.',\n",
       " 'Stable Diffusion with Core ML on Apple Silicon',\n",
       " 'A Decentralized Operating System for ZK Applications',\n",
       " '🌎 An interplanetary microblogging platform 🚀',\n",
       " 'Klipper is a 3d-printer firmware',\n",
       " '计算机自学指南',\n",
       " '经济学人(含音频)、纽约客、卫报、连线、大西洋月刊等英语杂志免费下载,支持epub、mobi、pdf格式, 每周更新',\n",
       " 'Book_4_《矩阵力量》 | 鸢尾花书：从加减乘除到机器学习；本册有，584幅图，81个代码文件，其中18个Streamlit App；状态：清华社五审五校中；Github稿件基本稳定，欢迎提意见，会及时修改',\n",
       " '☕ A practical event-driven microservices demo built with Golang. Nomad, Consul Connect, Vault, and Terraform for deployment',\n",
       " 'Personal CRM. Remember everything about your friends, family and business relationships.',\n",
       " \"Lean's LEDE source\",\n",
       " 'A collection of awesome resources related to the yearly Advent of Code challenge.',\n",
       " 'iOS 15.0-15.7.1 (semi-)tethered checkm8 \"jailbreak\"',\n",
       " 'The best way to start a full-stack, typesafe Next.js app',\n",
       " '世界上最简单的Trojan部署脚本，仅需一行命令即可搭建一台代理服务器',\n",
       " 'Node.js example app from the OpenAI API quickstart tutorial',\n",
       " 'Windows system utilities to maximize productivity',\n",
       " 'Clean Architecture template for Golang services',\n",
       " 'OpenZFS on Linux and FreeBSD',\n",
       " 'Android app for streaming and downloading Movies, TV-Series and Anime.',\n",
       " '🎄Starter template for solving Advent of Code in Rust.',\n",
       " 'A book series on JavaScript. @YDKJS on twitter.',\n",
       " 'Python example app from the OpenAI API quickstart tutorial',\n",
       " 'An experimental Rust native UI framework']"
      ]
     },
     "execution_count": 42,
     "metadata": {},
     "output_type": "execute_result"
    }
   ],
   "source": [
    "#Displaying description\n",
    "description"
   ]
  },
  {
   "cell_type": "code",
   "execution_count": 43,
   "id": "48448ce4",
   "metadata": {},
   "outputs": [],
   "source": [
    "#Creating empty list\n",
    "contributors_count=[]\n",
    "\n",
    "#extracting contributors count\n",
    "for i in url:\n",
    "    driver.get(i)\n",
    "    time.sleep(2)\n",
    "    try:\n",
    "        contributors_count_tags=driver.find_elements(By.XPATH,'//ul[@class=\"list-style-none d-flex flex-wrap mb-n2\"]//img')\n",
    "        for j in contributors_count_tags:\n",
    "            contributors_count.append(j.get_attribute(\"src\"))\n",
    "    except NoSuchElementException : #handling no such element exception\n",
    "        contributors_count.append('--')"
   ]
  },
  {
   "cell_type": "code",
   "execution_count": 44,
   "id": "b10e9638",
   "metadata": {},
   "outputs": [
    {
     "data": {
      "text/plain": [
       "170"
      ]
     },
     "execution_count": 44,
     "metadata": {},
     "output_type": "execute_result"
    }
   ],
   "source": [
    "#Printing len\n",
    "len(contributors_count)"
   ]
  },
  {
   "cell_type": "code",
   "execution_count": 45,
   "id": "afd020d9",
   "metadata": {},
   "outputs": [
    {
     "data": {
      "text/plain": [
       "['https://avatars.githubusercontent.com/u/111189?s=64&v=4',\n",
       " 'https://avatars.githubusercontent.com/u/40327258?s=64&v=4',\n",
       " 'https://avatars.githubusercontent.com/u/4822129?s=64&v=4',\n",
       " 'https://avatars.githubusercontent.com/u/3865161?s=64&v=4',\n",
       " 'https://avatars.githubusercontent.com/u/54517381?s=64&v=4',\n",
       " 'https://avatars.githubusercontent.com/u/844287?s=64&v=4',\n",
       " 'https://avatars.githubusercontent.com/u/3804335?s=64&v=4',\n",
       " 'https://avatars.githubusercontent.com/u/760674?s=64&v=4',\n",
       " 'https://avatars.githubusercontent.com/u/1653598?s=64&v=4',\n",
       " 'https://avatars.githubusercontent.com/u/337875?s=64&v=4',\n",
       " 'https://avatars.githubusercontent.com/u/1947631?s=64&v=4',\n",
       " 'https://avatars.githubusercontent.com/u/9260812?s=64&v=4',\n",
       " 'https://avatars.githubusercontent.com/u/14917648?s=64&v=4',\n",
       " 'https://avatars.githubusercontent.com/u/3750347?s=64&v=4',\n",
       " 'https://avatars.githubusercontent.com/u/13221615?s=64&v=4',\n",
       " 'https://avatars.githubusercontent.com/u/8600837?s=64&v=4',\n",
       " 'https://avatars.githubusercontent.com/u/16715212?s=64&v=4',\n",
       " 'https://avatars.githubusercontent.com/in/2141?s=64&v=4',\n",
       " 'https://avatars.githubusercontent.com/u/17802178?s=64&v=4',\n",
       " 'https://avatars.githubusercontent.com/u/30194392?s=64&v=4',\n",
       " 'https://avatars.githubusercontent.com/in/29110?s=64&v=4',\n",
       " 'https://avatars.githubusercontent.com/u/1212355?s=64&v=4',\n",
       " 'https://avatars.githubusercontent.com/u/4439005?s=64&v=4',\n",
       " 'https://avatars.githubusercontent.com/in/505?s=64&v=4',\n",
       " 'https://avatars.githubusercontent.com/u/30769358?s=64&v=4',\n",
       " 'https://avatars.githubusercontent.com/u/10798641?s=64&v=4',\n",
       " 'https://avatars.githubusercontent.com/u/20679825?s=64&v=4',\n",
       " 'https://avatars.githubusercontent.com/u/7973572?s=64&v=4',\n",
       " 'https://avatars.githubusercontent.com/in/2141?s=64&v=4',\n",
       " 'https://avatars.githubusercontent.com/u/20990607?s=64&v=4',\n",
       " 'https://avatars.githubusercontent.com/u/1774242?s=64&v=4',\n",
       " 'https://avatars.githubusercontent.com/u/15062473?s=64&v=4',\n",
       " 'https://avatars.githubusercontent.com/u/17036990?s=64&v=4',\n",
       " 'https://avatars.githubusercontent.com/u/3004890?s=64&v=4',\n",
       " 'https://avatars.githubusercontent.com/u/9563098?s=64&v=4',\n",
       " 'https://avatars.githubusercontent.com/u/53491797?s=64&v=4',\n",
       " 'https://avatars.githubusercontent.com/u/1433580?s=64&v=4',\n",
       " 'https://avatars.githubusercontent.com/u/4352664?s=64&v=4',\n",
       " 'https://avatars.githubusercontent.com/u/15083013?s=64&v=4',\n",
       " 'https://avatars.githubusercontent.com/u/344673?s=64&v=4',\n",
       " 'https://avatars.githubusercontent.com/u/5533994?s=64&v=4',\n",
       " 'https://avatars.githubusercontent.com/u/1090063?s=64&v=4',\n",
       " 'https://avatars.githubusercontent.com/u/13139373?s=64&v=4',\n",
       " 'https://avatars.githubusercontent.com/u/24904289?s=64&v=4',\n",
       " 'https://avatars.githubusercontent.com/u/60659728?s=64&v=4',\n",
       " 'https://avatars.githubusercontent.com/u/15178800?s=64&v=4',\n",
       " 'https://avatars.githubusercontent.com/u/40034814?s=64&v=4',\n",
       " 'https://avatars.githubusercontent.com/u/50735120?s=64&v=4',\n",
       " 'https://avatars.githubusercontent.com/u/42030331?s=64&v=4',\n",
       " 'https://avatars.githubusercontent.com/u/53425593?s=64&v=4',\n",
       " 'https://avatars.githubusercontent.com/u/36813942?s=64&v=4',\n",
       " 'https://avatars.githubusercontent.com/u/38343778?s=64&v=4',\n",
       " 'https://avatars.githubusercontent.com/u/49035217?s=64&v=4',\n",
       " 'https://avatars.githubusercontent.com/u/2456440?s=64&v=4',\n",
       " 'https://avatars.githubusercontent.com/u/98503280?s=64&v=4',\n",
       " 'https://avatars.githubusercontent.com/u/25419741?s=64&v=4',\n",
       " 'https://avatars.githubusercontent.com/in/29110?s=64&v=4',\n",
       " 'https://avatars.githubusercontent.com/in/2141?s=64&v=4',\n",
       " 'https://avatars.githubusercontent.com/u/61099?s=64&v=4',\n",
       " 'https://avatars.githubusercontent.com/u/40141970?s=64&v=4',\n",
       " 'https://avatars.githubusercontent.com/u/21129642?s=64&v=4',\n",
       " 'https://avatars.githubusercontent.com/in/505?s=64&v=4',\n",
       " 'https://avatars.githubusercontent.com/u/3653818?s=64&v=4',\n",
       " 'https://avatars.githubusercontent.com/u/19733683?s=64&v=4',\n",
       " 'https://avatars.githubusercontent.com/in/4706?s=64&v=4',\n",
       " 'https://avatars.githubusercontent.com/u/71518487?s=64&v=4',\n",
       " 'https://avatars.githubusercontent.com/u/31687149?s=64&v=4',\n",
       " 'https://avatars.githubusercontent.com/u/42570690?s=64&v=4',\n",
       " 'https://avatars.githubusercontent.com/u/70857188?s=64&v=4',\n",
       " 'https://avatars.githubusercontent.com/u/9948313?s=64&v=4',\n",
       " 'https://avatars.githubusercontent.com/u/22235437?s=64&v=4',\n",
       " 'https://avatars.githubusercontent.com/u/92633080?s=64&v=4',\n",
       " 'https://avatars.githubusercontent.com/u/2918873?s=64&v=4',\n",
       " 'https://avatars.githubusercontent.com/u/10708466?s=64&v=4',\n",
       " 'https://avatars.githubusercontent.com/u/16359027?s=64&v=4',\n",
       " 'https://avatars.githubusercontent.com/u/534822?s=64&v=4',\n",
       " 'https://avatars.githubusercontent.com/u/94471752?s=64&v=4',\n",
       " 'https://avatars.githubusercontent.com/u/43347?s=64&v=4',\n",
       " 'https://avatars.githubusercontent.com/u/65916846?s=64&v=4',\n",
       " 'https://avatars.githubusercontent.com/u/1736154?s=64&v=4',\n",
       " 'https://avatars.githubusercontent.com/u/16900547?s=64&v=4',\n",
       " 'https://avatars.githubusercontent.com/u/1920621?s=64&v=4',\n",
       " 'https://avatars.githubusercontent.com/u/1478102?s=64&v=4',\n",
       " 'https://avatars.githubusercontent.com/u/1545692?s=64&v=4',\n",
       " 'https://avatars.githubusercontent.com/u/1856425?s=64&v=4',\n",
       " 'https://avatars.githubusercontent.com/u/11148519?s=64&v=4',\n",
       " 'https://avatars.githubusercontent.com/u/25284325?s=64&v=4',\n",
       " 'https://avatars.githubusercontent.com/u/220836?s=64&v=4',\n",
       " 'https://avatars.githubusercontent.com/u/18669106?s=64&v=4',\n",
       " 'https://avatars.githubusercontent.com/u/87825638?s=64&v=4',\n",
       " 'https://avatars.githubusercontent.com/u/84083936?s=64&v=4',\n",
       " 'https://avatars.githubusercontent.com/u/56302322?s=64&v=4',\n",
       " 'https://avatars.githubusercontent.com/u/42699250?s=64&v=4',\n",
       " 'https://avatars.githubusercontent.com/u/482367?s=64&v=4',\n",
       " 'https://avatars.githubusercontent.com/u/54530346?s=64&v=4',\n",
       " 'https://avatars.githubusercontent.com/u/95927318?s=64&v=4',\n",
       " 'https://avatars.githubusercontent.com/u/1138433?s=64&v=4',\n",
       " 'https://avatars.githubusercontent.com/u/12292530?s=64&v=4',\n",
       " 'https://avatars.githubusercontent.com/u/15067741?s=64&v=4',\n",
       " 'https://avatars.githubusercontent.com/u/51714798?s=64&v=4',\n",
       " 'https://avatars.githubusercontent.com/u/95541290?s=64&v=4',\n",
       " 'https://avatars.githubusercontent.com/u/8353666?s=64&v=4',\n",
       " 'https://avatars.githubusercontent.com/u/37516851?s=64&v=4',\n",
       " 'https://avatars.githubusercontent.com/in/15368?s=64&v=4',\n",
       " 'https://avatars.githubusercontent.com/u/89210438?s=64&v=4',\n",
       " 'https://avatars.githubusercontent.com/u/6751787?s=64&v=4',\n",
       " 'https://avatars.githubusercontent.com/u/68690233?s=64&v=4',\n",
       " 'https://avatars.githubusercontent.com/u/63950637?s=64&v=4',\n",
       " 'https://avatars.githubusercontent.com/u/88448390?s=64&v=4',\n",
       " 'https://avatars.githubusercontent.com/u/10283686?s=64&v=4',\n",
       " 'https://avatars.githubusercontent.com/u/1462282?s=64&v=4',\n",
       " 'https://avatars.githubusercontent.com/u/1169912?s=64&v=4',\n",
       " 'https://avatars.githubusercontent.com/u/1725475?s=64&v=4',\n",
       " 'https://avatars.githubusercontent.com/u/26427004?s=64&v=4',\n",
       " 'https://avatars.githubusercontent.com/u/1828123?s=64&v=4',\n",
       " 'https://avatars.githubusercontent.com/u/3206696?s=64&v=4',\n",
       " 'https://avatars.githubusercontent.com/u/26118718?s=64&v=4',\n",
       " 'https://avatars.githubusercontent.com/u/28739210?s=64&v=4',\n",
       " 'https://avatars.githubusercontent.com/u/9866362?s=64&v=4',\n",
       " 'https://avatars.githubusercontent.com/u/8949536?s=64&v=4',\n",
       " 'https://avatars.githubusercontent.com/u/57057282?s=64&v=4',\n",
       " 'https://avatars.githubusercontent.com/u/55826637?s=64&v=4',\n",
       " 'https://avatars.githubusercontent.com/u/64327779?s=64&v=4',\n",
       " 'https://avatars.githubusercontent.com/in/29110?s=64&v=4',\n",
       " 'https://avatars.githubusercontent.com/u/448040?s=64&v=4',\n",
       " 'https://avatars.githubusercontent.com/u/1643797?s=64&v=4',\n",
       " 'https://avatars.githubusercontent.com/u/12367967?s=64&v=4',\n",
       " 'https://avatars.githubusercontent.com/u/700998?s=64&v=4',\n",
       " 'https://avatars.githubusercontent.com/u/8356421?s=64&v=4',\n",
       " 'https://avatars.githubusercontent.com/u/5932933?s=64&v=4',\n",
       " 'https://avatars.githubusercontent.com/u/148917?s=64&v=4',\n",
       " 'https://avatars.githubusercontent.com/u/6709544?s=64&v=4',\n",
       " 'https://avatars.githubusercontent.com/u/5410316?s=64&v=4',\n",
       " 'https://avatars.githubusercontent.com/u/1386373?s=64&v=4',\n",
       " 'https://avatars.githubusercontent.com/u/799124?s=64&v=4',\n",
       " 'https://avatars.githubusercontent.com/u/14172449?s=64&v=4',\n",
       " 'https://avatars.githubusercontent.com/u/4585738?s=64&v=4',\n",
       " 'https://avatars.githubusercontent.com/u/1920053?s=64&v=4',\n",
       " 'https://avatars.githubusercontent.com/u/3868786?s=64&v=4',\n",
       " 'https://avatars.githubusercontent.com/u/1432005?s=64&v=4',\n",
       " 'https://avatars.githubusercontent.com/u/320381?s=64&v=4',\n",
       " 'https://avatars.githubusercontent.com/u/11805592?s=64&v=4',\n",
       " 'https://avatars.githubusercontent.com/u/46196380?s=64&v=4',\n",
       " 'https://avatars.githubusercontent.com/u/65916846?s=64&v=4',\n",
       " 'https://avatars.githubusercontent.com/u/53124886?s=64&v=4',\n",
       " 'https://avatars.githubusercontent.com/u/18114966?s=64&v=4',\n",
       " 'https://avatars.githubusercontent.com/u/54625750?s=64&v=4',\n",
       " 'https://avatars.githubusercontent.com/u/86633626?s=64&v=4',\n",
       " 'https://avatars.githubusercontent.com/u/110570621?s=64&v=4',\n",
       " 'https://avatars.githubusercontent.com/u/37908684?s=64&v=4',\n",
       " 'https://avatars.githubusercontent.com/u/49226282?s=64&v=4',\n",
       " 'https://avatars.githubusercontent.com/u/80379945?s=64&v=4',\n",
       " 'https://avatars.githubusercontent.com/u/150330?s=64&v=4',\n",
       " 'https://avatars.githubusercontent.com/u/3682072?s=64&v=4',\n",
       " 'https://avatars.githubusercontent.com/u/5736113?s=64&v=4',\n",
       " 'https://avatars.githubusercontent.com/u/8932386?s=64&v=4',\n",
       " 'https://avatars.githubusercontent.com/u/1768718?s=64&v=4',\n",
       " 'https://avatars.githubusercontent.com/u/2958292?s=64&v=4',\n",
       " 'https://avatars.githubusercontent.com/u/1165138?s=64&v=4',\n",
       " 'https://avatars.githubusercontent.com/u/2488333?s=64&v=4',\n",
       " 'https://avatars.githubusercontent.com/u/152130?s=64&v=4',\n",
       " 'https://avatars.githubusercontent.com/u/2435551?s=64&v=4',\n",
       " 'https://avatars.githubusercontent.com/u/2614354?s=64&v=4',\n",
       " 'https://avatars.githubusercontent.com/u/242367?s=64&v=4',\n",
       " 'https://avatars.githubusercontent.com/u/420008?s=64&v=4',\n",
       " 'https://avatars.githubusercontent.com/u/25784?s=64&v=4',\n",
       " 'https://avatars.githubusercontent.com/u/36049421?s=64&v=4',\n",
       " 'https://avatars.githubusercontent.com/u/951129?s=64&v=4',\n",
       " 'https://avatars.githubusercontent.com/u/1392222?s=64&v=4',\n",
       " 'https://avatars.githubusercontent.com/u/6299983?s=64&v=4']"
      ]
     },
     "execution_count": 45,
     "metadata": {},
     "output_type": "execute_result"
    }
   ],
   "source": [
    "#Displaying contributors count\n",
    "contributors_count"
   ]
  },
  {
   "cell_type": "code",
   "execution_count": 49,
   "id": "989c07bf",
   "metadata": {},
   "outputs": [],
   "source": [
    "#extracting language used\n",
    "language_used=[]\n",
    "try:\n",
    "    language_used_tags=driver.find_elements(By.XPATH,'//span[@class=\"d-inline-block ml-0 mr-3\"]')\n",
    "    for i in language_used_tags:\n",
    "        language_used.append(i.text)\n",
    "except NoSuchElementException : #handling no such element exception\n",
    "        language_used.append('-')"
   ]
  },
  {
   "cell_type": "code",
   "execution_count": 50,
   "id": "22a2412d",
   "metadata": {},
   "outputs": [
    {
     "data": {
      "text/plain": [
       "23"
      ]
     },
     "execution_count": 50,
     "metadata": {},
     "output_type": "execute_result"
    }
   ],
   "source": [
    "#Printing len\n",
    "len(language_used)"
   ]
  },
  {
   "cell_type": "code",
   "execution_count": 51,
   "id": "ba6acfd2",
   "metadata": {},
   "outputs": [
    {
     "data": {
      "text/plain": [
       "['Jupyter Notebook',\n",
       " 'Python',\n",
       " 'Rust',\n",
       " 'TypeScript',\n",
       " 'C',\n",
       " 'HTML',\n",
       " 'Go',\n",
       " 'CSS',\n",
       " 'Python',\n",
       " 'Go',\n",
       " 'PHP',\n",
       " 'C',\n",
       " 'Shell',\n",
       " 'TypeScript',\n",
       " 'Shell',\n",
       " 'JavaScript',\n",
       " 'C#',\n",
       " 'Go',\n",
       " 'C',\n",
       " 'Kotlin',\n",
       " 'Rust',\n",
       " 'CSS',\n",
       " 'Rust']"
      ]
     },
     "execution_count": 51,
     "metadata": {},
     "output_type": "execute_result"
    }
   ],
   "source": [
    "#Displaying language used\n",
    "language_used"
   ]
  },
  {
   "cell_type": "code",
   "execution_count": 52,
   "id": "e8163936",
   "metadata": {},
   "outputs": [],
   "source": [
    "#closing the driver\n",
    "driver.close()"
   ]
  },
  {
   "cell_type": "markdown",
   "id": "41e47b3d",
   "metadata": {},
   "source": [
    "**6. Scrape the details of top 100 songs on billiboard.com.\n",
    "Url = https:/www.billboard.com/\n",
    "You have to find the following details:\n",
    "A) Song name\n",
    "B) Artist name\n",
    "C) Last week rank\n",
    "D) Peak rank\n",
    "E) Weeks on board\n",
    "Note: - From the home page you have to click on the charts option then hot 100-page link through code.**"
   ]
  },
  {
   "cell_type": "code",
   "execution_count": 53,
   "id": "6f686b41",
   "metadata": {},
   "outputs": [],
   "source": [
    "#Connecting to the driver\n",
    "driver=webdriver.Chrome(r'C:\\Users\\Admin\\Downloads\\chromedriver_win32\\chromedriver.exe')\n",
    "\n",
    "#Maximizing the automated\n",
    "driver.maximize_window()\n",
    "\n",
    "#opening the billboard website on automated chrome window\n",
    "url='https:/www.billboard.com/ '\n",
    "driver.get(url)"
   ]
  },
  {
   "cell_type": "code",
   "execution_count": 55,
   "id": "cd7df722",
   "metadata": {},
   "outputs": [],
   "source": [
    "#clicking on charts\n",
    "charts=driver.find_element(By.XPATH,\"/html/body/div[3]/div[7]/div/div/div/ul/li[1]/h3/a\")\n",
    "charts.click()"
   ]
  },
  {
   "cell_type": "code",
   "execution_count": 60,
   "id": "a0402864",
   "metadata": {},
   "outputs": [],
   "source": [
    "#clicking on hot 100\n",
    "hot_100=driver.find_element(By.XPATH,\"/html/body/div[3]/main/div[2]/div[1]/div[1]/div/div/div[1]/div[1]/div[2]/span/a\")\n",
    "hot_100.click()"
   ]
  },
  {
   "cell_type": "code",
   "execution_count": 59,
   "id": "90461d50",
   "metadata": {},
   "outputs": [],
   "source": [
    "#extracting url\n",
    "url=[]\n",
    "try:\n",
    "    url_tags=driver.find_elements(By.XPATH,'/html/body/div[3]/main/div[2]/div[1]/div[1]/div/div/div[1]/div[1]/div[2]/span/a')\n",
    "    for i in url_tags:\n",
    "        url.append(i.get_attribute('href'))\n",
    "except NoSuchElementException : #handling no such element exception\n",
    "    url.append('-')  "
   ]
  },
  {
   "cell_type": "code",
   "execution_count": 61,
   "id": "521b02bd",
   "metadata": {},
   "outputs": [
    {
     "data": {
      "text/plain": [
       "1"
      ]
     },
     "execution_count": 61,
     "metadata": {},
     "output_type": "execute_result"
    }
   ],
   "source": [
    "#Printing len\n",
    "len(url)"
   ]
  },
  {
   "cell_type": "code",
   "execution_count": 62,
   "id": "a82187e0",
   "metadata": {},
   "outputs": [
    {
     "data": {
      "text/plain": [
       "['https://www.billboard.com/charts/hot-100/']"
      ]
     },
     "execution_count": 62,
     "metadata": {},
     "output_type": "execute_result"
    }
   ],
   "source": [
    "#Displaying url\n",
    "url"
   ]
  },
  {
   "cell_type": "code",
   "execution_count": 63,
   "id": "e5de0fff",
   "metadata": {},
   "outputs": [],
   "source": [
    "#Creating empty list\n",
    "song_name=[]\n",
    "\n",
    "#extracting song name\n",
    "for i in url:\n",
    "    driver.get(i)\n",
    "    time.sleep(2)\n",
    "    try:\n",
    "        song_name_tags=driver.find_elements(By.XPATH,'/html/body/div[4]/main/div[2]/div[3]/div/div/div/div[2]/div/ul/li/ul/li[1]/h3')\n",
    "        for j in song_name_tags:\n",
    "            song_name.append(j.text)\n",
    "    except NoSuchElementException : #handling no such element exception\n",
    "        song_name.append('--')"
   ]
  },
  {
   "cell_type": "code",
   "execution_count": 64,
   "id": "91849f11",
   "metadata": {},
   "outputs": [
    {
     "data": {
      "text/plain": [
       "100"
      ]
     },
     "execution_count": 64,
     "metadata": {},
     "output_type": "execute_result"
    }
   ],
   "source": [
    "#Printing len\n",
    "len(song_name)"
   ]
  },
  {
   "cell_type": "code",
   "execution_count": 65,
   "id": "24b0c8cc",
   "metadata": {},
   "outputs": [
    {
     "data": {
      "text/plain": [
       "['Anti-Hero',\n",
       " 'Rich Flex',\n",
       " 'Unholy',\n",
       " 'Bad Habit',\n",
       " 'All I Want For Christmas Is You',\n",
       " \"Rockin' Around The Christmas Tree\",\n",
       " \"I'm Good (Blue)\",\n",
       " 'As It Was',\n",
       " 'Jingle Bell Rock',\n",
       " 'A Holly Jolly Christmas',\n",
       " 'Lift Me Up',\n",
       " 'Die For You',\n",
       " 'You Proof',\n",
       " 'Under The Influence',\n",
       " 'Super Freaky Girl',\n",
       " 'Cuff It',\n",
       " 'Something In The Orange',\n",
       " 'I Like You (A Happier Song)',\n",
       " \"It's The Most Wonderful Time Of The Year\",\n",
       " 'Wasted On You',\n",
       " 'Just Wanna Rock',\n",
       " 'Tomorrow 2',\n",
       " 'Last Christmas',\n",
       " 'Made You Look',\n",
       " 'Vegas',\n",
       " 'Lavender Haze',\n",
       " \"I Ain't Worried\",\n",
       " 'Titi Me Pregunto',\n",
       " 'Wait For U',\n",
       " 'Major Distribution',\n",
       " 'Spin Bout U',\n",
       " 'The Kind Of Love We Make',\n",
       " 'Sunroof',\n",
       " 'The Christmas Song (Merry Christmas To You)',\n",
       " 'Golden Hour',\n",
       " 'Jimmy Cooks',\n",
       " 'Circo Loco',\n",
       " 'She Had Me At Heads Carolina',\n",
       " 'On BS',\n",
       " 'Sleigh Ride',\n",
       " 'Let It Snow, Let It Snow, Let It Snow',\n",
       " 'Feliz Navidad',\n",
       " \"It's Beginning To Look A Lot Like Christmas\",\n",
       " 'About Damn Time',\n",
       " 'Until I Found You',\n",
       " 'Thank God',\n",
       " 'Pussy & Millions',\n",
       " 'Underneath The Tree',\n",
       " 'Fall In Love',\n",
       " 'Bejeweled',\n",
       " 'Hold Me Closer',\n",
       " 'Midnight Rain',\n",
       " 'Wait In The Truck',\n",
       " 'Rock And A Hard Place',\n",
       " 'What My World Spins Around',\n",
       " 'Half Of Me',\n",
       " 'Hotel Lobby (Unc And Phew)',\n",
       " 'Maroon',\n",
       " 'Victoria’s Secret',\n",
       " \"Don't Come Lookin'\",\n",
       " 'Son Of A Sinner',\n",
       " 'Privileged Rappers',\n",
       " 'Shirt',\n",
       " \"Star Walkin' (League Of Legends Worlds Anthem)\",\n",
       " 'Karma',\n",
       " 'BackOutsideBoyz',\n",
       " \"You're On Your Own, Kid\",\n",
       " 'Broke Boys',\n",
       " 'Snow On The Beach',\n",
       " 'Hours In Silence',\n",
       " 'Whiskey On You',\n",
       " 'Romantic Homicide',\n",
       " 'Vigilante Shit',\n",
       " 'Free Mind',\n",
       " 'Billie Eilish.',\n",
       " 'Break My Heart',\n",
       " 'Jumbotron Shit Poppin',\n",
       " 'Question...?',\n",
       " 'No Se Va',\n",
       " 'Heyy',\n",
       " 'California Breeze',\n",
       " 'Calm Down',\n",
       " 'Country On',\n",
       " 'Mastermind',\n",
       " 'Treacherous Twins',\n",
       " 'Heart Like A Truck',\n",
       " 'Pick Me Up',\n",
       " 'Down In Atlanta',\n",
       " 'Labyrinth',\n",
       " 'Freestyle',\n",
       " 'Miss You',\n",
       " 'Sweet Nothing',\n",
       " 'All Mine',\n",
       " 'La Bachata',\n",
       " 'Got It Right',\n",
       " 'Die For You',\n",
       " 'Down Home',\n",
       " 'Going, Going, Gone',\n",
       " 'Middle Of The Ocean',\n",
       " 'More M’s']"
      ]
     },
     "execution_count": 65,
     "metadata": {},
     "output_type": "execute_result"
    }
   ],
   "source": [
    "#Displaying song name\n",
    "song_name"
   ]
  },
  {
   "cell_type": "code",
   "execution_count": 66,
   "id": "699b95b8",
   "metadata": {},
   "outputs": [],
   "source": [
    "#Creating empty list\n",
    "artist_name=[]\n",
    "\n",
    "#extracting artist name\n",
    "for i in url:\n",
    "    driver.get(i)\n",
    "    time.sleep(2)\n",
    "    try:\n",
    "        artist_name_tags=driver.find_elements(By.XPATH,'/html/body/div[4]/main/div[2]/div[3]/div/div/div/div[2]/div/ul/li/ul/li[1]/span')\n",
    "        for j in artist_name_tags:\n",
    "            artist_name.append(j.text)\n",
    "    except NoSuchElementException : #handling no such element exception\n",
    "        artist_name.append('--')"
   ]
  },
  {
   "cell_type": "code",
   "execution_count": 67,
   "id": "e594d45e",
   "metadata": {},
   "outputs": [
    {
     "data": {
      "text/plain": [
       "100"
      ]
     },
     "execution_count": 67,
     "metadata": {},
     "output_type": "execute_result"
    }
   ],
   "source": [
    "#Printing len\n",
    "len(artist_name)  "
   ]
  },
  {
   "cell_type": "code",
   "execution_count": 68,
   "id": "baa12b0b",
   "metadata": {},
   "outputs": [
    {
     "data": {
      "text/plain": [
       "['Taylor Swift',\n",
       " 'Drake & 21 Savage',\n",
       " 'Sam Smith & Kim Petras',\n",
       " 'Steve Lacy',\n",
       " 'Mariah Carey',\n",
       " 'Brenda Lee',\n",
       " 'David Guetta & Bebe Rexha',\n",
       " 'Harry Styles',\n",
       " 'Bobby Helms',\n",
       " 'Burl Ives',\n",
       " 'Rihanna',\n",
       " 'The Weeknd',\n",
       " 'Morgan Wallen',\n",
       " 'Chris Brown',\n",
       " 'Nicki Minaj',\n",
       " 'Beyonce',\n",
       " 'Zach Bryan',\n",
       " 'Post Malone Featuring Doja Cat',\n",
       " 'Andy Williams',\n",
       " 'Morgan Wallen',\n",
       " 'Lil Uzi Vert',\n",
       " 'GloRilla & Cardi B',\n",
       " 'Wham!',\n",
       " 'Meghan Trainor',\n",
       " 'Doja Cat',\n",
       " 'Taylor Swift',\n",
       " 'OneRepublic',\n",
       " 'Bad Bunny',\n",
       " 'Future Featuring Drake & Tems',\n",
       " 'Drake & 21 Savage',\n",
       " 'Drake & 21 Savage',\n",
       " 'Luke Combs',\n",
       " 'Nicky Youre & dazy',\n",
       " 'Nat King Cole',\n",
       " 'JVKE',\n",
       " 'Drake Featuring 21 Savage',\n",
       " 'Drake & 21 Savage',\n",
       " 'Cole Swindell',\n",
       " 'Drake & 21 Savage',\n",
       " 'The Ronettes',\n",
       " 'Dean Martin',\n",
       " 'Jose Feliciano',\n",
       " 'Perry Como And The Fontane Sisters With Mitchell Ayres And His Orchestra',\n",
       " 'Lizzo',\n",
       " 'Stephen Sanchez',\n",
       " 'Kane Brown With Katelyn Brown',\n",
       " 'Drake & 21 Savage Featuring Travis Scott',\n",
       " 'Kelly Clarkson',\n",
       " 'Bailey Zimmerman',\n",
       " 'Taylor Swift',\n",
       " 'Elton John & Britney Spears',\n",
       " 'Taylor Swift',\n",
       " 'HARDY Featuring Lainey Wilson',\n",
       " 'Bailey Zimmerman',\n",
       " 'Jordan Davis',\n",
       " 'Thomas Rhett Featuring Riley Green',\n",
       " 'Quavo & Takeoff',\n",
       " 'Taylor Swift',\n",
       " 'Jax',\n",
       " 'Jackson Dean',\n",
       " 'Jelly Roll',\n",
       " 'Drake & 21 Savage',\n",
       " 'SZA',\n",
       " 'Lil Nas X',\n",
       " 'Taylor Swift',\n",
       " 'Drake',\n",
       " 'Taylor Swift',\n",
       " 'Drake & 21 Savage',\n",
       " 'Taylor Swift Featuring Lana Del Rey',\n",
       " 'Drake & 21 Savage',\n",
       " 'Nate Smith',\n",
       " 'd4vd',\n",
       " 'Taylor Swift',\n",
       " 'Tems',\n",
       " 'Armani White',\n",
       " 'Rod Wave',\n",
       " 'Drake',\n",
       " 'Taylor Swift',\n",
       " 'Grupo Frontera',\n",
       " 'Lil Baby',\n",
       " 'Lil Baby',\n",
       " 'Rema & Selena Gomez',\n",
       " 'Luke Bryan',\n",
       " 'Taylor Swift',\n",
       " 'Drake & 21 Savage',\n",
       " 'Lainey Wilson',\n",
       " 'Gabby Barrett',\n",
       " 'Pharrell Williams & Travis Scott',\n",
       " 'Taylor Swift',\n",
       " 'Lil Baby',\n",
       " 'Oliver Tree & Robin Schulz',\n",
       " 'Taylor Swift',\n",
       " 'Brent Faiyaz',\n",
       " 'Manuel Turizo',\n",
       " 'Rod Wave',\n",
       " 'Joji',\n",
       " 'Jimmie Allen',\n",
       " 'Luke Combs',\n",
       " 'Drake',\n",
       " 'Drake & 21 Savage']"
      ]
     },
     "execution_count": 68,
     "metadata": {},
     "output_type": "execute_result"
    }
   ],
   "source": [
    "#Displaying artist name\n",
    "artist_name   "
   ]
  },
  {
   "cell_type": "code",
   "execution_count": 75,
   "id": "2cbbfd63",
   "metadata": {},
   "outputs": [],
   "source": [
    "#Creating empty list\n",
    "last_week_rank=[]\n",
    "\n",
    "#extracting last week rank\n",
    "for i in url:\n",
    "    driver.get(i)\n",
    "    time.sleep(2)\n",
    "    try:\n",
    "        last_week_rank_tags=driver.find_elements(By.XPATH,'//li[@class=\"lrv-u-width-100p\"]/ul/li[4]/span')\n",
    "        for j in last_week_rank_tags:\n",
    "            last_week_rank.append(j.text)\n",
    "    except NoSuchElementException : #handling no such element exception\n",
    "        last_week_rank.append('--')"
   ]
  },
  {
   "cell_type": "code",
   "execution_count": 76,
   "id": "19d70cf2",
   "metadata": {},
   "outputs": [
    {
     "data": {
      "text/plain": [
       "100"
      ]
     },
     "execution_count": 76,
     "metadata": {},
     "output_type": "execute_result"
    }
   ],
   "source": [
    "#Printing len\n",
    "len(last_week_rank)"
   ]
  },
  {
   "cell_type": "code",
   "execution_count": 77,
   "id": "67f41270",
   "metadata": {},
   "outputs": [
    {
     "data": {
      "text/plain": [
       "['1',\n",
       " '2',\n",
       " '3',\n",
       " '4',\n",
       " '25',\n",
       " '41',\n",
       " '7',\n",
       " '5',\n",
       " '50',\n",
       " '-',\n",
       " '8',\n",
       " '12',\n",
       " '13',\n",
       " '17',\n",
       " '11',\n",
       " '20',\n",
       " '19',\n",
       " '16',\n",
       " '-',\n",
       " '23',\n",
       " '47',\n",
       " '29',\n",
       " '-',\n",
       " '40',\n",
       " '18',\n",
       " '21',\n",
       " '24',\n",
       " '32',\n",
       " '30',\n",
       " '6',\n",
       " '9',\n",
       " '36',\n",
       " '28',\n",
       " '-',\n",
       " '42',\n",
       " '27',\n",
       " '14',\n",
       " '31',\n",
       " '10',\n",
       " '-',\n",
       " '-',\n",
       " '-',\n",
       " '-',\n",
       " '38',\n",
       " '56',\n",
       " '43',\n",
       " '15',\n",
       " '-',\n",
       " '54',\n",
       " '35',\n",
       " '46',\n",
       " '33',\n",
       " '51',\n",
       " '57',\n",
       " '60',\n",
       " '53',\n",
       " '59',\n",
       " '39',\n",
       " '61',\n",
       " '66',\n",
       " '63',\n",
       " '22',\n",
       " '55',\n",
       " '64',\n",
       " '45',\n",
       " '26',\n",
       " '48',\n",
       " '34',\n",
       " '49',\n",
       " '37',\n",
       " '74',\n",
       " '68',\n",
       " '62',\n",
       " '75',\n",
       " '71',\n",
       " '91',\n",
       " '52',\n",
       " '65',\n",
       " '79',\n",
       " '78',\n",
       " '76',\n",
       " '82',\n",
       " '85',\n",
       " '70',\n",
       " '58',\n",
       " '86',\n",
       " '90',\n",
       " '-',\n",
       " '73',\n",
       " '84',\n",
       " '87',\n",
       " '77',\n",
       " '83',\n",
       " '92',\n",
       " '-',\n",
       " '72',\n",
       " '-',\n",
       " '99',\n",
       " '67',\n",
       " '69']"
      ]
     },
     "execution_count": 77,
     "metadata": {},
     "output_type": "execute_result"
    }
   ],
   "source": [
    "#Displaying last week rank\n",
    "last_week_rank"
   ]
  },
  {
   "cell_type": "code",
   "execution_count": 78,
   "id": "013d93d7",
   "metadata": {},
   "outputs": [],
   "source": [
    "#Creating empty list\n",
    "peak_rank=[]\n",
    "\n",
    "#extracting peak rank\n",
    "for i in url:\n",
    "    driver.get(i)\n",
    "    time.sleep(2)\n",
    "    try:\n",
    "        peak_rank_tags=driver.find_elements(By.XPATH,'//li[@class=\"lrv-u-width-100p\"]/ul/li[5]/span')\n",
    "        for j in peak_rank_tags:\n",
    "            peak_rank.append(j.text)\n",
    "    except NoSuchElementException : #handling no such element exception\n",
    "        peak_rank.append('--')"
   ]
  },
  {
   "cell_type": "code",
   "execution_count": 79,
   "id": "801fd1b3",
   "metadata": {},
   "outputs": [
    {
     "data": {
      "text/plain": [
       "100"
      ]
     },
     "execution_count": 79,
     "metadata": {},
     "output_type": "execute_result"
    }
   ],
   "source": [
    "#Printing len\n",
    "len(peak_rank)"
   ]
  },
  {
   "cell_type": "code",
   "execution_count": 80,
   "id": "06a44b20",
   "metadata": {},
   "outputs": [
    {
     "data": {
      "text/plain": [
       "['1',\n",
       " '2',\n",
       " '1',\n",
       " '1',\n",
       " '1',\n",
       " '2',\n",
       " '7',\n",
       " '1',\n",
       " '3',\n",
       " '4',\n",
       " '2',\n",
       " '12',\n",
       " '5',\n",
       " '14',\n",
       " '1',\n",
       " '13',\n",
       " '12',\n",
       " '3',\n",
       " '5',\n",
       " '9',\n",
       " '21',\n",
       " '9',\n",
       " '7',\n",
       " '24',\n",
       " '10',\n",
       " '2',\n",
       " '6',\n",
       " '5',\n",
       " '1',\n",
       " '3',\n",
       " '5',\n",
       " '8',\n",
       " '4',\n",
       " '11',\n",
       " '35',\n",
       " '1',\n",
       " '8',\n",
       " '16',\n",
       " '4',\n",
       " '10',\n",
       " '8',\n",
       " '6',\n",
       " '12',\n",
       " '1',\n",
       " '38',\n",
       " '22',\n",
       " '6',\n",
       " '12',\n",
       " '29',\n",
       " '6',\n",
       " '6',\n",
       " '5',\n",
       " '51',\n",
       " '24',\n",
       " '41',\n",
       " '52',\n",
       " '57',\n",
       " '3',\n",
       " '35',\n",
       " '50',\n",
       " '31',\n",
       " '7',\n",
       " '11',\n",
       " '32',\n",
       " '9',\n",
       " '9',\n",
       " '8',\n",
       " '12',\n",
       " '4',\n",
       " '11',\n",
       " '44',\n",
       " '33',\n",
       " '10',\n",
       " '46',\n",
       " '58',\n",
       " '76',\n",
       " '16',\n",
       " '7',\n",
       " '57',\n",
       " '21',\n",
       " '4',\n",
       " '74',\n",
       " '72',\n",
       " '13',\n",
       " '14',\n",
       " '86',\n",
       " '69',\n",
       " '88',\n",
       " '14',\n",
       " '63',\n",
       " '84',\n",
       " '15',\n",
       " '42',\n",
       " '67',\n",
       " '95',\n",
       " '53',\n",
       " '88',\n",
       " '98',\n",
       " '15',\n",
       " '18']"
      ]
     },
     "execution_count": 80,
     "metadata": {},
     "output_type": "execute_result"
    }
   ],
   "source": [
    "#Displaying peak rank\n",
    "peak_rank"
   ]
  },
  {
   "cell_type": "code",
   "execution_count": 87,
   "id": "38be60b9",
   "metadata": {},
   "outputs": [],
   "source": [
    "#Creating empty list\n",
    "weaks_on_board=[]\n",
    "\n",
    "#extracting weeks on board\n",
    "for i in url:\n",
    "    driver.get(i)\n",
    "    time.sleep(2)\n",
    "    try:\n",
    "        weaks_on_board_tags=driver.find_elements(By.XPATH,'//li[@class=\"lrv-u-width-100p\"]/ul/li[6]/span')\n",
    "        for j in weaks_on_board_tags:\n",
    "            weaks_on_board.append(j.text)\n",
    "    except NoSuchElementException : #handling no such element exception\n",
    "        weaks_on_board.append('--')"
   ]
  },
  {
   "cell_type": "code",
   "execution_count": 88,
   "id": "dbc1680f",
   "metadata": {},
   "outputs": [
    {
     "data": {
      "text/plain": [
       "100"
      ]
     },
     "execution_count": 88,
     "metadata": {},
     "output_type": "execute_result"
    }
   ],
   "source": [
    "#Printing len\n",
    "len(weaks_on_board)"
   ]
  },
  {
   "cell_type": "code",
   "execution_count": 89,
   "id": "3f25f710",
   "metadata": {},
   "outputs": [
    {
     "data": {
      "text/plain": [
       "['5',\n",
       " '3',\n",
       " '9',\n",
       " '21',\n",
       " '53',\n",
       " '47',\n",
       " '13',\n",
       " '34',\n",
       " '44',\n",
       " '27',\n",
       " '4',\n",
       " '17',\n",
       " '28',\n",
       " '11',\n",
       " '15',\n",
       " '15',\n",
       " '31',\n",
       " '25',\n",
       " '28',\n",
       " '54',\n",
       " '6',\n",
       " '9',\n",
       " '26',\n",
       " '5',\n",
       " '25',\n",
       " '5',\n",
       " '24',\n",
       " '29',\n",
       " '30',\n",
       " '3',\n",
       " '3',\n",
       " '23',\n",
       " '26',\n",
       " '33',\n",
       " '13',\n",
       " '23',\n",
       " '3',\n",
       " '26',\n",
       " '3',\n",
       " '17',\n",
       " '20',\n",
       " '21',\n",
       " '13',\n",
       " '32',\n",
       " '21',\n",
       " '11',\n",
       " '3',\n",
       " '16',\n",
       " '30',\n",
       " '5',\n",
       " '13',\n",
       " '5',\n",
       " '12',\n",
       " '24',\n",
       " '15',\n",
       " '14',\n",
       " '20',\n",
       " '5',\n",
       " '17',\n",
       " '13',\n",
       " '21',\n",
       " '3',\n",
       " '4',\n",
       " '9',\n",
       " '5',\n",
       " '3',\n",
       " '5',\n",
       " '3',\n",
       " '5',\n",
       " '3',\n",
       " '23',\n",
       " '12',\n",
       " '5',\n",
       " '19',\n",
       " '11',\n",
       " '2',\n",
       " '3',\n",
       " '5',\n",
       " '9',\n",
       " '7',\n",
       " '6',\n",
       " '12',\n",
       " '14',\n",
       " '5',\n",
       " '3',\n",
       " '2',\n",
       " '17',\n",
       " '1',\n",
       " '5',\n",
       " '11',\n",
       " '5',\n",
       " '5',\n",
       " '16',\n",
       " '14',\n",
       " '1',\n",
       " '3',\n",
       " '4',\n",
       " '2',\n",
       " '3',\n",
       " '3']"
      ]
     },
     "execution_count": 89,
     "metadata": {},
     "output_type": "execute_result"
    }
   ],
   "source": [
    "#Displaying weeks on board\n",
    "weaks_on_board"
   ]
  },
  {
   "cell_type": "code",
   "execution_count": 91,
   "id": "53b1ebfb",
   "metadata": {},
   "outputs": [
    {
     "data": {
      "text/html": [
       "<div>\n",
       "<style scoped>\n",
       "    .dataframe tbody tr th:only-of-type {\n",
       "        vertical-align: middle;\n",
       "    }\n",
       "\n",
       "    .dataframe tbody tr th {\n",
       "        vertical-align: top;\n",
       "    }\n",
       "\n",
       "    .dataframe thead th {\n",
       "        text-align: right;\n",
       "    }\n",
       "</style>\n",
       "<table border=\"1\" class=\"dataframe\">\n",
       "  <thead>\n",
       "    <tr style=\"text-align: right;\">\n",
       "      <th></th>\n",
       "      <th>Song Name</th>\n",
       "      <th>Artist Name</th>\n",
       "      <th>Last Week Rank</th>\n",
       "      <th>Peak Rank</th>\n",
       "      <th>Weeks On Board</th>\n",
       "    </tr>\n",
       "  </thead>\n",
       "  <tbody>\n",
       "    <tr>\n",
       "      <th>0</th>\n",
       "      <td>Anti-Hero</td>\n",
       "      <td>Taylor Swift</td>\n",
       "      <td>1</td>\n",
       "      <td>1</td>\n",
       "      <td>5</td>\n",
       "    </tr>\n",
       "    <tr>\n",
       "      <th>1</th>\n",
       "      <td>Rich Flex</td>\n",
       "      <td>Drake &amp; 21 Savage</td>\n",
       "      <td>2</td>\n",
       "      <td>2</td>\n",
       "      <td>3</td>\n",
       "    </tr>\n",
       "    <tr>\n",
       "      <th>2</th>\n",
       "      <td>Unholy</td>\n",
       "      <td>Sam Smith &amp; Kim Petras</td>\n",
       "      <td>3</td>\n",
       "      <td>1</td>\n",
       "      <td>9</td>\n",
       "    </tr>\n",
       "    <tr>\n",
       "      <th>3</th>\n",
       "      <td>Bad Habit</td>\n",
       "      <td>Steve Lacy</td>\n",
       "      <td>4</td>\n",
       "      <td>1</td>\n",
       "      <td>21</td>\n",
       "    </tr>\n",
       "    <tr>\n",
       "      <th>4</th>\n",
       "      <td>All I Want For Christmas Is You</td>\n",
       "      <td>Mariah Carey</td>\n",
       "      <td>25</td>\n",
       "      <td>1</td>\n",
       "      <td>53</td>\n",
       "    </tr>\n",
       "    <tr>\n",
       "      <th>...</th>\n",
       "      <td>...</td>\n",
       "      <td>...</td>\n",
       "      <td>...</td>\n",
       "      <td>...</td>\n",
       "      <td>...</td>\n",
       "    </tr>\n",
       "    <tr>\n",
       "      <th>95</th>\n",
       "      <td>Die For You</td>\n",
       "      <td>Joji</td>\n",
       "      <td>72</td>\n",
       "      <td>53</td>\n",
       "      <td>3</td>\n",
       "    </tr>\n",
       "    <tr>\n",
       "      <th>96</th>\n",
       "      <td>Down Home</td>\n",
       "      <td>Jimmie Allen</td>\n",
       "      <td>-</td>\n",
       "      <td>88</td>\n",
       "      <td>4</td>\n",
       "    </tr>\n",
       "    <tr>\n",
       "      <th>97</th>\n",
       "      <td>Going, Going, Gone</td>\n",
       "      <td>Luke Combs</td>\n",
       "      <td>99</td>\n",
       "      <td>98</td>\n",
       "      <td>2</td>\n",
       "    </tr>\n",
       "    <tr>\n",
       "      <th>98</th>\n",
       "      <td>Middle Of The Ocean</td>\n",
       "      <td>Drake</td>\n",
       "      <td>67</td>\n",
       "      <td>15</td>\n",
       "      <td>3</td>\n",
       "    </tr>\n",
       "    <tr>\n",
       "      <th>99</th>\n",
       "      <td>More M’s</td>\n",
       "      <td>Drake &amp; 21 Savage</td>\n",
       "      <td>69</td>\n",
       "      <td>18</td>\n",
       "      <td>3</td>\n",
       "    </tr>\n",
       "  </tbody>\n",
       "</table>\n",
       "<p>100 rows × 5 columns</p>\n",
       "</div>"
      ],
      "text/plain": [
       "                          Song Name             Artist Name Last Week Rank  \\\n",
       "0                         Anti-Hero            Taylor Swift              1   \n",
       "1                         Rich Flex       Drake & 21 Savage              2   \n",
       "2                            Unholy  Sam Smith & Kim Petras              3   \n",
       "3                         Bad Habit              Steve Lacy              4   \n",
       "4   All I Want For Christmas Is You            Mariah Carey             25   \n",
       "..                              ...                     ...            ...   \n",
       "95                      Die For You                    Joji             72   \n",
       "96                        Down Home            Jimmie Allen              -   \n",
       "97               Going, Going, Gone              Luke Combs             99   \n",
       "98              Middle Of The Ocean                   Drake             67   \n",
       "99                         More M’s       Drake & 21 Savage             69   \n",
       "\n",
       "   Peak Rank Weeks On Board  \n",
       "0          1              5  \n",
       "1          2              3  \n",
       "2          1              9  \n",
       "3          1             21  \n",
       "4          1             53  \n",
       "..       ...            ...  \n",
       "95        53              3  \n",
       "96        88              4  \n",
       "97        98              2  \n",
       "98        15              3  \n",
       "99        18              3  \n",
       "\n",
       "[100 rows x 5 columns]"
      ]
     },
     "execution_count": 91,
     "metadata": {},
     "output_type": "execute_result"
    }
   ],
   "source": [
    "#making dataframe\n",
    "Hot100=pd.DataFrame()\n",
    "Hot100['Song Name']=song_name\n",
    "Hot100['Artist Name']=artist_name\n",
    "Hot100['Last Week Rank']=last_week_rank\n",
    "Hot100['Peak Rank']=peak_rank\n",
    "Hot100['Weeks On Board']=weaks_on_board\n",
    "Hot100"
   ]
  },
  {
   "cell_type": "code",
   "execution_count": 92,
   "id": "3e4e247b",
   "metadata": {},
   "outputs": [],
   "source": [
    "#closing the driver\n",
    "driver.close()"
   ]
  },
  {
   "cell_type": "markdown",
   "id": "cb781ae3",
   "metadata": {},
   "source": [
    "**7. Scrape the details of Data science recruiters from naukri.com.\n",
    "Url = https://www.naukri.com/hr-recruiters-consultants \n",
    "You have to find the following details:\n",
    "A) Name\n",
    "B) Designation\n",
    "C) Company\n",
    "D) Skills they hire for\n",
    "E) Location\n",
    "Note: - From naukri.com homepage click on the recruiters option and the on the search pane type Data science and\n",
    "click on search. All this should be done through code**"
   ]
  },
  {
   "cell_type": "code",
   "execution_count": 69,
   "id": "4fc3c0c4",
   "metadata": {},
   "outputs": [],
   "source": [
    "#Connecting to the driver\n",
    "driver=webdriver.Chrome(r'C:\\Users\\Admin\\Downloads\\chromedriver_win32\\chromedriver.exe')\n",
    "\n",
    "#Maximizing the automated\n",
    "driver.maximize_window()\n",
    "\n",
    "#opening the naukri website on automated chrome window\n",
    "url='https://www.naukri.com/hr-recruiters-consultants  '\n",
    "driver.get(url)"
   ]
  },
  {
   "cell_type": "code",
   "execution_count": 74,
   "id": "6cdac01e",
   "metadata": {},
   "outputs": [],
   "source": [
    "#inserting data science in search bar\n",
    "search_bar=driver.find_element(By.XPATH,\"/html/body/div[2]/div[2]/div[1]/div[1]/form/div[1]/div/div[1]/div[1]/div[2]/input\")\n",
    "search_bar.send_keys(\"Data Science\")"
   ]
  },
  {
   "cell_type": "code",
   "execution_count": 73,
   "id": "9dec1403",
   "metadata": {},
   "outputs": [],
   "source": [
    "#clicking on search button\n",
    "search_button=driver.find_element(By.XPATH,\"/html/body/div[2]/div[2]/div[1]/div[1]/form/div[1]/button\")\n",
    "search_button.click()"
   ]
  },
  {
   "cell_type": "code",
   "execution_count": 75,
   "id": "14792a86",
   "metadata": {},
   "outputs": [],
   "source": [
    "#extracting Name\n",
    "Name=[]\n",
    "try:\n",
    "    Name_tags=driver.find_elements(By.XPATH,'//span[@class=\"fl ellipsis\"]')\n",
    "    for j in Name_tags:\n",
    "        Name.append(j.text)\n",
    "except NoSuchElementException : #handling no such element exception\n",
    "    Name.append('--')"
   ]
  },
  {
   "cell_type": "code",
   "execution_count": 76,
   "id": "e67336bb",
   "metadata": {},
   "outputs": [
    {
     "data": {
      "text/plain": [
       "50"
      ]
     },
     "execution_count": 76,
     "metadata": {},
     "output_type": "execute_result"
    }
   ],
   "source": [
    "#Printing len\n",
    "len(Name)"
   ]
  },
  {
   "cell_type": "code",
   "execution_count": 77,
   "id": "5e9abf6a",
   "metadata": {},
   "outputs": [
    {
     "data": {
      "text/plain": [
       "['Aakash Harit',\n",
       " 'shravan Kumar Gaddam',\n",
       " 'MARSIAN Technologies LLP',\n",
       " 'Anik Agrawal',\n",
       " 'subhas patel',\n",
       " 'Abhishek - Only Analytics Hiring - India and',\n",
       " 'Institute for Financial Management and Resear',\n",
       " 'Balu Ramesh',\n",
       " 'Asif Lucknowi',\n",
       " 'InstaFinancials',\n",
       " 'Kalpana Dumpala',\n",
       " 'Mubarak',\n",
       " 'Kushal Rastogi',\n",
       " 'Mahesh Babu Channa',\n",
       " 'Vaishnavi Kudalkar',\n",
       " 'Priyanka Akiri',\n",
       " 'Kapil Devang',\n",
       " 'Sakshi Chhikara',\n",
       " 'Ruchi Dhote',\n",
       " 'Manisha Yadav',\n",
       " 'Riya Rajesh',\n",
       " 'Rashmi Bhattacharjee',\n",
       " 'Faizan Kareem',\n",
       " 'Rithika dadwal',\n",
       " 'Sandhya Khandagale',\n",
       " 'Shaun Rao',\n",
       " 'Azahar Shaikh',\n",
       " 'Manas',\n",
       " 'kumar',\n",
       " 'Sunil Vedula',\n",
       " 'Rajat Kumar',\n",
       " 'Dhruv Dev Dubey',\n",
       " 'Jayanth N',\n",
       " 'Daniel Vaz',\n",
       " 'Avodha',\n",
       " 'Priya Khare',\n",
       " 'Amit Sharma',\n",
       " 'Kanan',\n",
       " 'Shashikant Chaudhary',\n",
       " 'Brad',\n",
       " 'Rutuja Pawar',\n",
       " 'Madhusudhan Sridhar',\n",
       " 'Ankit Sinha',\n",
       " 'Gaurav Chouhan',\n",
       " 'Rashi Kacker',\n",
       " 'Ashwini',\n",
       " 'Balaji Kolli',\n",
       " 'Rajani Nagaraj',\n",
       " 'ROHIT Kumar',\n",
       " 'Amir Chowdhury']"
      ]
     },
     "execution_count": 77,
     "metadata": {},
     "output_type": "execute_result"
    }
   ],
   "source": [
    "#Displaying name\n",
    "Name"
   ]
  },
  {
   "cell_type": "code",
   "execution_count": 78,
   "id": "5385f0dd",
   "metadata": {},
   "outputs": [],
   "source": [
    "#extracting Designation\n",
    "Designation=[]\n",
    "try:\n",
    "    Designation_tags=driver.find_elements(By.XPATH,'//span[@class=\"ellipsis clr\"]')\n",
    "    for j in Designation_tags:\n",
    "        Designation.append(j.text)\n",
    "except NoSuchElementException : #handling no such element exception\n",
    "    Designation.append('--')"
   ]
  },
  {
   "cell_type": "code",
   "execution_count": 79,
   "id": "45ad984f",
   "metadata": {},
   "outputs": [
    {
     "data": {
      "text/plain": [
       "50"
      ]
     },
     "execution_count": 79,
     "metadata": {},
     "output_type": "execute_result"
    }
   ],
   "source": [
    "#Printing len\n",
    "len(Designation)"
   ]
  },
  {
   "cell_type": "code",
   "execution_count": 80,
   "id": "178ffdad",
   "metadata": {},
   "outputs": [
    {
     "data": {
      "text/plain": [
       "['HR Manager',\n",
       " 'Company Recruiter',\n",
       " 'Company HR',\n",
       " 'Company Recruiter',\n",
       " 'Founder CEO',\n",
       " 'Recruitment Lead Consultant',\n",
       " 'Programme Manager',\n",
       " 'HR Administrator',\n",
       " 'Director',\n",
       " 'Human Resource',\n",
       " 'Executive Hiring',\n",
       " 'Company HR',\n",
       " 'Company HR',\n",
       " 'HR Team Lead',\n",
       " 'HR Executive',\n",
       " 'HR Manager',\n",
       " 'HR Manager',\n",
       " 'Assistant Manager HR',\n",
       " 'Senior Executive Talent Acquisition',\n",
       " 'HR Executive',\n",
       " 'Manager Talent Acquisition',\n",
       " 'HR Head',\n",
       " 'HR MANAGER',\n",
       " 'HR Recruiter',\n",
       " 'HR Recruiter',\n",
       " 'Manager Human Resources',\n",
       " 'Company Recruiter',\n",
       " 'Lead Talent acquisition',\n",
       " 'Proprietor',\n",
       " 'CEO',\n",
       " 'Founder CEO',\n",
       " 'Company Recruitment Head',\n",
       " 'Project Manager',\n",
       " 'Partner',\n",
       " 'Business Development Associate',\n",
       " 'Senior Manager',\n",
       " 'Consultant',\n",
       " 'senior technology instructor',\n",
       " 'HR Recruiter/HR Excutive',\n",
       " 'Manager, Technical Recruiting',\n",
       " 'Technical Recruiter',\n",
       " 'Erp Implementer',\n",
       " 'Head Analytics',\n",
       " 'Chief Technical Officer',\n",
       " 'Sr Product Manager',\n",
       " 'Director Global Delivery',\n",
       " 'Co Founder',\n",
       " 'HR Manager',\n",
       " 'Architect',\n",
       " 'Managing Partner']"
      ]
     },
     "execution_count": 80,
     "metadata": {},
     "output_type": "execute_result"
    }
   ],
   "source": [
    "#Displaying Designation\n",
    "Designation"
   ]
  },
  {
   "cell_type": "code",
   "execution_count": 81,
   "id": "ca19f6f3",
   "metadata": {},
   "outputs": [],
   "source": [
    "#extracting Company\n",
    "Company=[]\n",
    "try:\n",
    "    Company_tags=driver.find_elements(By.XPATH,'//p[@class=\"highlightable\"]//a[2]')\n",
    "    for j in Company_tags:\n",
    "        Company.append(j.text)\n",
    "except NoSuchElementException : #handling no such element exception\n",
    "    Company.append('--')"
   ]
  },
  {
   "cell_type": "code",
   "execution_count": 82,
   "id": "dc80abd1",
   "metadata": {},
   "outputs": [
    {
     "data": {
      "text/plain": [
       "50"
      ]
     },
     "execution_count": 82,
     "metadata": {},
     "output_type": "execute_result"
    }
   ],
   "source": [
    "#Printing len\n",
    "len(Company)"
   ]
  },
  {
   "cell_type": "code",
   "execution_count": 83,
   "id": "cc919f16",
   "metadata": {},
   "outputs": [
    {
     "data": {
      "text/plain": [
       "['Data Science Network',\n",
       " 'Shore Infotech India Pvt. Ltd',\n",
       " 'MARSIAN Technologies LLP',\n",
       " 'Enerlytics Software Solutions Pvt Ltd',\n",
       " 'LibraryXProject',\n",
       " 'Apidel Technologies Division of Transpower',\n",
       " 'IFMR',\n",
       " 'Techvantage Systems Pvt Ltd',\n",
       " 'Weupskill- Live Wire India',\n",
       " 'CBL Data Science Private Limited',\n",
       " 'Innominds Software',\n",
       " 'MoneyTap',\n",
       " 'QuantMagnum Technologies Pvt. Ltd.',\n",
       " 'SocialPrachar.com',\n",
       " 'Codeachive learning',\n",
       " 'Infinitive Software Solutions',\n",
       " 'BISP Solutions',\n",
       " 'BIZ INFOTECNO PRIVATE LIMITED',\n",
       " 'Bristlecone India Ltd',\n",
       " 'Easi Tax',\n",
       " 'Novelworx Digital Solutions',\n",
       " 'AXESTRACK SOFTWARE SOLUTIONS PRIVATE...',\n",
       " 'FirstTech Consaltants Pvt.Ltd',\n",
       " 'Affine Analytics',\n",
       " 'Compumatrice Multimedia Pvt Ltd',\n",
       " 'Exela Technologies',\n",
       " 'NEAL ANALYTICS SERVICES PVT LTD',\n",
       " 'Autumn Leaf Consulting Services Private...',\n",
       " 'trainin',\n",
       " 'Nanoprecise Sci Corp',\n",
       " 'R.S Consultancy &amp; Services',\n",
       " 'Confidential',\n",
       " 'Dollarbird Information Services Pvt, Ltd',\n",
       " 'Aquis Search',\n",
       " 'Nikitha Palaparthi',\n",
       " 'Independent Consultant',\n",
       " 'ASCO consulting',\n",
       " 'NY INST',\n",
       " '3D India Staffing Research &amp; Consulting...',\n",
       " 'O.C. Tanner',\n",
       " 'Demand Matrix',\n",
       " 'MADHUSUDHAN SRIDHAR',\n",
       " 'Suntech Global',\n",
       " 'Strategic Consulting Lab',\n",
       " 'Impel Labs Pvt. Ltd.',\n",
       " 'MRP Advisers',\n",
       " 'Saras Solutions India Pvt Ltd',\n",
       " 'WildJasmine',\n",
       " 'LNT Private Limited',\n",
       " 'Granular.ai']"
      ]
     },
     "execution_count": 83,
     "metadata": {},
     "output_type": "execute_result"
    }
   ],
   "source": [
    "#Displaying company\n",
    "Company"
   ]
  },
  {
   "cell_type": "code",
   "execution_count": 84,
   "id": "b41b84d0",
   "metadata": {},
   "outputs": [],
   "source": [
    "#extracting Skills they hire for\n",
    "Skills=[]\n",
    "try:\n",
    "    Skills_tags=driver.find_elements(By.XPATH,'//div[@class=\"hireSec highlightable\"]')\n",
    "    for j in Skills_tags:\n",
    "        Skills.append(j.text)\n",
    "except NoSuchElementException : #handling no such element exception\n",
    "    Skills.append('--')"
   ]
  },
  {
   "cell_type": "code",
   "execution_count": 85,
   "id": "8ee7da45",
   "metadata": {},
   "outputs": [
    {
     "data": {
      "text/plain": [
       "50"
      ]
     },
     "execution_count": 85,
     "metadata": {},
     "output_type": "execute_result"
    }
   ],
   "source": [
    "#Printing len\n",
    "len(Skills)"
   ]
  },
  {
   "cell_type": "code",
   "execution_count": 86,
   "id": "a6988330",
   "metadata": {},
   "outputs": [
    {
     "data": {
      "text/plain": [
       "['Classic ASP Developer, Internet Marketing Professional, Data Science SME, Content Writers, SEO Professional, Revenue Professional',\n",
       " '.Net, Java, Data Science, Linux Administration, Sql Server Development, Winforms, Wcf Services, Wpf, Telecom Engineering, Technical Management, Software',\n",
       " 'Data Science, Artificial Intelligence, Machine Learning, Business Analytics, Deep Learning, statistics, Data Analytics, Data Analysis, support vector machine',\n",
       " 'Mean Stack, javascript, angularjs, mongodb, Web Services, rest, express, Node.js, Big Data, iot, Data Science, Cloud Computing, saas, Aws',\n",
       " 'Hadoop, Spark, Digital Strategy, Data Architecture, Command Center, Cdp, Dmp, Kafka, Data Science, Data Analysis, Big Data Analytics, Real Time Analysis, SQL',\n",
       " 'Analytics, Business Intelligence, Business Analytics, Predictive Modeling, Predictive Analytics, Data Science, Data Analysis, Data Analytics, Big Data, Big',\n",
       " 'Data Science',\n",
       " 'Machine Learning, algorithms, Go Getter, Computer Science, spark, Big Data, hdfs, sql, cassandra, hadoop, python, scala, java, Data Science, Front End',\n",
       " 'Technical Training, Software Development, Presentation Skills, B.tech, M.tech, B.e., mca, msc, Computer Science, freshers, jobs in indore, Data Science, itil',\n",
       " 'Software Development, It Sales, Account Management, Data Analysis, Customer Service, Sr, Software Engineering, Mvc, Ajax, Asp.net, Html, C#, Javascript',\n",
       " 'Qa, Ui/ux, Java Developer, Java Architect, C++/qt, Php, Lamp, Api, J2ee, Java, Soa, Esb, Middleware, Bigdata Achitect, Hadoop Architect, Deep',\n",
       " 'Business Intelligence, Data Warehousing, Data Science, Business Analytics, Customer Support, Business Reporting, Bi',\n",
       " 'Office Administration, Hr Administration, telecalling, client relationship management, Client Acquisition, Sales, Reception, HR, Recruitment, Onboarding, Human',\n",
       " 'Social Media, digital media maketing, seo, smm, smo, sem, Content Wirting, social media marketing, social media manager, digital media marketing manager',\n",
       " 'Data Science, Python, Data Analytics',\n",
       " 'Oracle Dba, Data Science, Data Warehousing, ETL, Jupyter, Numpy, Data Transformation, Snowflake, Teradata, Python, Data Manipulation, Relational Databases',\n",
       " 'Big Data, Hadoop, Data Analytics, Data Science',\n",
       " 'React.js, Data Science, Java, Front End, Business Analytics, Backend, Tableau, Python, Qa Testing, Automation Testing',\n",
       " 'Qlikview, Qlik Sense, Microsoft Azure, Power Bi, Data Science, Machine Learning',\n",
       " 'Telecalling, Client Interaction, Marketing, Research, Web Development, Social Media Marketing, Data Entry Operation, Excel, Ms Office, Invoicing',\n",
       " 'Data Science',\n",
       " 'Corporate Sales, Software Development, Software Sales, Marketing, Creative Designing, Corporate Planning, Senior Management, Crm, Client Relationship',\n",
       " 'Data Analytics, Data Science, Machine Learning, Deep Learning, Nlp, Data Mining, Python, R, Database Administration, Text Mining',\n",
       " 'Data Science, Machine Learning, Python, R, Deep Learning, Big Data, Hadoop',\n",
       " 'Big Data, Data Science, Artificial Intelligence, Hadoop, Ui Development, Php, Freelancing, .Net, Software Testing, Sap, Leadership Hiring',\n",
       " 'Java, Net, Angularjs, Hr, Infrastructure, Management, Project Management, Business Analysis, Data Science, Information Technology, Technology',\n",
       " 'Data Science, Artificial Intelligence, Machine Learning, Data Analytics',\n",
       " 'Software Architecture, Vp Engineering, Product Management, analytics, Data Science, Node.js, Principal Engineer, Big Data, python, angularjs, React.js',\n",
       " 'Data Science, Hadoop, Rpas, Devops, Python, Aws, Teaching, Big Data',\n",
       " 'Signal Processing, Machine Learning, Neural Networks, Data Science, Predictive Analytics, Time Series Analysis, Data Visualization, Technical Leadership, Data',\n",
       " 'Web Technologies, Project Management, Software Architecture, Data Science, Object Oriented Programming, Computer Science, Electrical Engineering, Architecture',\n",
       " 'Server Administartion, Verilog, Vhdl, Digital Marketing, Market Research, Property Research, Legal, It And Non It Recruitment, Logistics, Supply Chain, Bfsi',\n",
       " 'Data Analytics, Managed Services, Team Leading, python, Machine Learning, Google Analytics, Dmp, Aws, Campaign Analytics, Digital Campaigns, Audience',\n",
       " 'c++, Core Java, kdb, high frequency trading, hft, direct market access, Algorithmic Trading, Quant Development, Market Data, Fpga, Exchange Connectivity',\n",
       " 'Ethical Hacking, Security Operations Center, SOC, Managed Services, Data Science, Machine Learning, Artificial Intelligence, Operations Research, Education',\n",
       " 'Data Science, Artificial Intelligence, analytics, Business Intelligence, python, tableau, Power Bi, qlikview, sql, Data Warehousing, Data Visualization',\n",
       " 'Machine Learning, Artificial Intelligence, Data Science, Software Engineering, Software Development, Graduate Engineer Trainee, Fresher, Data Analytics, Java',\n",
       " 'C, C++, Artificial Intelligence, Python, Php, Web Development, Matlab, Data Science, Augmented Reality, C C++',\n",
       " 'Relationship Management, Retail Sales, Private Banking, Mutual Funds, NISM, Equity, Finance, Financial Products, Financial Services, Verbal, Written',\n",
       " 'Data Science, Software Engineering',\n",
       " 'Data Science, Big Data Analytics, Digital Marketing, Content Writing, Ui Development, Database Development, Qa Automation, Python, Project Management',\n",
       " 'Data Science, Recruitment, Salary',\n",
       " 'B.Tech, Tableau, Statistics, R, Analytics, Time Series, Data Science, Business Solutions, SQL, Technical Skills, SSAS, SQL Server, Analysis Services, Qlikview',\n",
       " 'Software Development, Business Intelligence, Big Data Analytics, Database Administration, Data Science, Microsoft Azure, Spark, Cassandra, Object Oriented',\n",
       " 'Data Science, Node.js, Angularjs',\n",
       " 'Data Science, Media Marketing, Resource Planning, Managed Services, Display Advertising, Machine Learning, Python, Etl, Sql',\n",
       " 'Data Analysis, Learning, Data Science, Computer Science, Communication Skills',\n",
       " 'Java, Hadoop, R, Machine Learning, Spark, Flume, Hdfs, Data Mining, Sas, Big, Data Science, Cloudera, Impala, Bigdata',\n",
       " 'Software Development, Core Java, Unit Testing, Customer Experience, Problem Solving, Communication Skills, Mysql, Data Science, Sales Management, Analytics',\n",
       " 'Machine Learning, Data Science, Product Management, New Product, Data Analysis, Computer Vision, Deep Learning, Python, Remote Sensing']"
      ]
     },
     "execution_count": 86,
     "metadata": {},
     "output_type": "execute_result"
    }
   ],
   "source": [
    "#Displaying skills\n",
    "Skills"
   ]
  },
  {
   "cell_type": "code",
   "execution_count": 87,
   "id": "65bcb5ed",
   "metadata": {},
   "outputs": [],
   "source": [
    "#extracting Location\n",
    "Location=[]\n",
    "try:\n",
    "    Location_tags=driver.find_elements(By.XPATH,'//p[@class=\"highlightable\"]/span[2]/small')\n",
    "    for j in Location_tags:\n",
    "        Location.append(j.text)\n",
    "except NoSuchElementException : #handling no such element exception\n",
    "    Location.append('--')"
   ]
  },
  {
   "cell_type": "code",
   "execution_count": 88,
   "id": "b7f6895d",
   "metadata": {},
   "outputs": [
    {
     "data": {
      "text/plain": [
       "48"
      ]
     },
     "execution_count": 88,
     "metadata": {},
     "output_type": "execute_result"
    }
   ],
   "source": [
    "#Printing len\n",
    "len(Location)"
   ]
  },
  {
   "cell_type": "code",
   "execution_count": 89,
   "id": "67dda4bf",
   "metadata": {},
   "outputs": [
    {
     "data": {
      "text/plain": [
       "['Delhi',\n",
       " 'Hyderabad / Secunderabad',\n",
       " 'Pune',\n",
       " 'Ahmedabad',\n",
       " 'UK - (london)',\n",
       " 'Vadodara / Baroda',\n",
       " 'Chennai',\n",
       " 'Trivandrum',\n",
       " 'Indore',\n",
       " 'Bengaluru / Bangalore',\n",
       " 'Hyderabad / Secunderabad',\n",
       " 'Bengaluru / Bangalore',\n",
       " 'Mumbai',\n",
       " 'Hyderabad / Secunderabad',\n",
       " 'Mumbai',\n",
       " 'Hyderabad',\n",
       " 'Bhopal',\n",
       " 'Chandigarh',\n",
       " 'Pune',\n",
       " 'Navi Mumbai',\n",
       " 'Cochin',\n",
       " 'Delhi',\n",
       " 'Hyderabad / Secunderabad',\n",
       " 'Pune',\n",
       " 'Pune',\n",
       " 'Pune',\n",
       " 'Pune',\n",
       " 'Bengaluru / Bangalore',\n",
       " 'Bengaluru / Bangalore',\n",
       " 'Delhi',\n",
       " 'Bengaluru / Bangalore',\n",
       " 'Mysoru / Mysore',\n",
       " 'Mumbai',\n",
       " 'Hyderabad / Secunderabad',\n",
       " 'Bengaluru / Bangalore',\n",
       " 'New Delhi',\n",
       " 'Chennai',\n",
       " 'Aligarh',\n",
       " 'Salt Lake City',\n",
       " 'Pune',\n",
       " 'Bengaluru / Bangalore',\n",
       " 'Mumbai',\n",
       " 'Indore',\n",
       " 'Bengaluru / Bangalore',\n",
       " 'MYSORE',\n",
       " 'Hyderabad / Secunderabad',\n",
       " 'Bengaluru / Bangalore',\n",
       " 'Mumbai']"
      ]
     },
     "execution_count": 89,
     "metadata": {},
     "output_type": "execute_result"
    }
   ],
   "source": [
    "#Displaying location\n",
    "Location"
   ]
  },
  {
   "cell_type": "code",
   "execution_count": 90,
   "id": "414e8253",
   "metadata": {},
   "outputs": [],
   "source": [
    "#closing the driver\n",
    "driver.close()"
   ]
  },
  {
   "cell_type": "markdown",
   "id": "8f419a11",
   "metadata": {},
   "source": [
    "**8. Scrape the details of Highest selling novels.\n",
    "Url = https://www.theguardian.com/news/datablog/2012/aug/09/best-selling-books-all-time-fifty-shades-grey\u0002compare/\n",
    "You have to find the following details:\n",
    "A) Book name\n",
    "B) Author name\n",
    "C) Volumes sold\n",
    "D) Publisher\n",
    "E) Genre**"
   ]
  },
  {
   "cell_type": "code",
   "execution_count": 116,
   "id": "1e4961c1",
   "metadata": {},
   "outputs": [],
   "source": [
    "#Connecting to the driver\n",
    "driver=webdriver.Chrome(r'C:\\Users\\Admin\\Downloads\\chromedriver_win32\\chromedriver.exe')\n",
    "\n",
    "#Maximizing the automated\n",
    "driver.maximize_window()\n",
    "\n",
    "#opening the guardian website on automated chrome window\n",
    "url='https://www.theguardian.com/news/datablog/2012/aug/09/best-selling-books-all-time-fifty-shades-grey-compare'\n",
    "driver.get(url)"
   ]
  },
  {
   "cell_type": "code",
   "execution_count": 117,
   "id": "d2ef8216",
   "metadata": {},
   "outputs": [],
   "source": [
    "#extracting Book Name\n",
    "Book_Name=[]\n",
    "try:\n",
    "    Book_Name_tags=driver.find_elements(By.XPATH,'//table[@class=\"in-article sortable\"]/tbody/tr/td[2]')\n",
    "    for j in Book_Name_tags:\n",
    "        Book_Name.append(j.text)\n",
    "except NoSuchElementException : #handling no such element exception\n",
    "    Book_Name.append('--')"
   ]
  },
  {
   "cell_type": "code",
   "execution_count": 118,
   "id": "fd68f290",
   "metadata": {},
   "outputs": [
    {
     "data": {
      "text/plain": [
       "100"
      ]
     },
     "execution_count": 118,
     "metadata": {},
     "output_type": "execute_result"
    }
   ],
   "source": [
    "#Printing len\n",
    "len(Book_Name)"
   ]
  },
  {
   "cell_type": "code",
   "execution_count": 119,
   "id": "98b755dc",
   "metadata": {},
   "outputs": [
    {
     "data": {
      "text/plain": [
       "['Da Vinci Code,The',\n",
       " 'Harry Potter and the Deathly Hallows',\n",
       " \"Harry Potter and the Philosopher's Stone\",\n",
       " 'Harry Potter and the Order of the Phoenix',\n",
       " 'Fifty Shades of Grey',\n",
       " 'Harry Potter and the Goblet of Fire',\n",
       " 'Harry Potter and the Chamber of Secrets',\n",
       " 'Harry Potter and the Prisoner of Azkaban',\n",
       " 'Angels and Demons',\n",
       " \"Harry Potter and the Half-blood Prince:Children's Edition\",\n",
       " 'Fifty Shades Darker',\n",
       " 'Twilight',\n",
       " 'Girl with the Dragon Tattoo,The:Millennium Trilogy',\n",
       " 'Fifty Shades Freed',\n",
       " 'Lost Symbol,The',\n",
       " 'New Moon',\n",
       " 'Deception Point',\n",
       " 'Eclipse',\n",
       " 'Lovely Bones,The',\n",
       " 'Curious Incident of the Dog in the Night-time,The',\n",
       " 'Digital Fortress',\n",
       " 'Short History of Nearly Everything,A',\n",
       " 'Girl Who Played with Fire,The:Millennium Trilogy',\n",
       " 'Breaking Dawn',\n",
       " 'Very Hungry Caterpillar,The:The Very Hungry Caterpillar',\n",
       " 'Gruffalo,The',\n",
       " \"Jamie's 30-Minute Meals\",\n",
       " 'Kite Runner,The',\n",
       " 'One Day',\n",
       " 'Thousand Splendid Suns,A',\n",
       " \"Girl Who Kicked the Hornets' Nest,The:Millennium Trilogy\",\n",
       " \"Time Traveler's Wife,The\",\n",
       " 'Atonement',\n",
       " \"Bridget Jones's Diary:A Novel\",\n",
       " 'World According to Clarkson,The',\n",
       " \"Captain Corelli's Mandolin\",\n",
       " 'Sound of Laughter,The',\n",
       " 'Life of Pi',\n",
       " 'Billy Connolly',\n",
       " 'Child Called It,A',\n",
       " \"Gruffalo's Child,The\",\n",
       " \"Angela's Ashes:A Memoir of a Childhood\",\n",
       " 'Birdsong',\n",
       " 'Northern Lights:His Dark Materials S.',\n",
       " 'Labyrinth',\n",
       " 'Harry Potter and the Half-blood Prince',\n",
       " 'Help,The',\n",
       " 'Man and Boy',\n",
       " 'Memoirs of a Geisha',\n",
       " \"No.1 Ladies' Detective Agency,The:No.1 Ladies' Detective Agency S.\",\n",
       " 'Island,The',\n",
       " 'PS, I Love You',\n",
       " 'You are What You Eat:The Plan That Will Change Your Life',\n",
       " 'Shadow of the Wind,The',\n",
       " 'Tales of Beedle the Bard,The',\n",
       " 'Broker,The',\n",
       " \"Dr. Atkins' New Diet Revolution:The No-hunger, Luxurious Weight Loss P\",\n",
       " 'Subtle Knife,The:His Dark Materials S.',\n",
       " 'Eats, Shoots and Leaves:The Zero Tolerance Approach to Punctuation',\n",
       " \"Delia's How to Cook:(Bk.1)\",\n",
       " 'Chocolat',\n",
       " 'Boy in the Striped Pyjamas,The',\n",
       " \"My Sister's Keeper\",\n",
       " 'Amber Spyglass,The:His Dark Materials S.',\n",
       " 'To Kill a Mockingbird',\n",
       " 'Men are from Mars, Women are from Venus:A Practical Guide for Improvin',\n",
       " 'Dear Fatty',\n",
       " 'Short History of Tractors in Ukrainian,A',\n",
       " 'Hannibal',\n",
       " 'Lord of the Rings,The',\n",
       " 'Stupid White Men:...and Other Sorry Excuses for the State of the Natio',\n",
       " 'Interpretation of Murder,The',\n",
       " 'Sharon Osbourne Extreme:My Autobiography',\n",
       " 'Alchemist,The:A Fable About Following Your Dream',\n",
       " \"At My Mother's Knee ...:and Other Low Joints\",\n",
       " 'Notes from a Small Island',\n",
       " 'Return of the Naked Chef,The',\n",
       " 'Bridget Jones: The Edge of Reason',\n",
       " \"Jamie's Italy\",\n",
       " 'I Can Make You Thin',\n",
       " 'Down Under',\n",
       " 'Summons,The',\n",
       " 'Small Island',\n",
       " 'Nigella Express',\n",
       " 'Brick Lane',\n",
       " \"Memory Keeper's Daughter,The\",\n",
       " 'Room on the Broom',\n",
       " 'About a Boy',\n",
       " 'My Booky Wook',\n",
       " 'God Delusion,The',\n",
       " '\"Beano\" Annual,The',\n",
       " 'White Teeth',\n",
       " 'House at Riverton,The',\n",
       " 'Book Thief,The',\n",
       " 'Nights of Rain and Stars',\n",
       " 'Ghost,The',\n",
       " 'Happy Days with the Naked Chef',\n",
       " 'Hunger Games,The:Hunger Games Trilogy',\n",
       " \"Lost Boy,The:A Foster Child's Search for the Love of a Family\",\n",
       " \"Jamie's Ministry of Food:Anyone Can Learn to Cook in 24 Hours\"]"
      ]
     },
     "execution_count": 119,
     "metadata": {},
     "output_type": "execute_result"
    }
   ],
   "source": [
    "#Displaying book name\n",
    "Book_Name"
   ]
  },
  {
   "cell_type": "code",
   "execution_count": 120,
   "id": "987ae7ec",
   "metadata": {},
   "outputs": [],
   "source": [
    "#extracting Author Name\n",
    "Author_Name=[]\n",
    "try:\n",
    "    Author_Name_tags=driver.find_elements(By.XPATH,'//table[@class=\"in-article sortable\"]/tbody/tr/td[3]')\n",
    "    for j in Author_Name_tags:\n",
    "        Author_Name.append(j.text)\n",
    "except NoSuchElementException : #handling no such element exception\n",
    "    Author_Name.append('--')"
   ]
  },
  {
   "cell_type": "code",
   "execution_count": 121,
   "id": "a1e73bc9",
   "metadata": {},
   "outputs": [
    {
     "data": {
      "text/plain": [
       "100"
      ]
     },
     "execution_count": 121,
     "metadata": {},
     "output_type": "execute_result"
    }
   ],
   "source": [
    "#Printing len\n",
    "len(Author_Name)"
   ]
  },
  {
   "cell_type": "code",
   "execution_count": 122,
   "id": "235c9a10",
   "metadata": {},
   "outputs": [
    {
     "data": {
      "text/plain": [
       "['Brown, Dan',\n",
       " 'Rowling, J.K.',\n",
       " 'Rowling, J.K.',\n",
       " 'Rowling, J.K.',\n",
       " 'James, E. L.',\n",
       " 'Rowling, J.K.',\n",
       " 'Rowling, J.K.',\n",
       " 'Rowling, J.K.',\n",
       " 'Brown, Dan',\n",
       " 'Rowling, J.K.',\n",
       " 'James, E. L.',\n",
       " 'Meyer, Stephenie',\n",
       " 'Larsson, Stieg',\n",
       " 'James, E. L.',\n",
       " 'Brown, Dan',\n",
       " 'Meyer, Stephenie',\n",
       " 'Brown, Dan',\n",
       " 'Meyer, Stephenie',\n",
       " 'Sebold, Alice',\n",
       " 'Haddon, Mark',\n",
       " 'Brown, Dan',\n",
       " 'Bryson, Bill',\n",
       " 'Larsson, Stieg',\n",
       " 'Meyer, Stephenie',\n",
       " 'Carle, Eric',\n",
       " 'Donaldson, Julia',\n",
       " 'Oliver, Jamie',\n",
       " 'Hosseini, Khaled',\n",
       " 'Nicholls, David',\n",
       " 'Hosseini, Khaled',\n",
       " 'Larsson, Stieg',\n",
       " 'Niffenegger, Audrey',\n",
       " 'McEwan, Ian',\n",
       " 'Fielding, Helen',\n",
       " 'Clarkson, Jeremy',\n",
       " 'Bernieres, Louis de',\n",
       " 'Kay, Peter',\n",
       " 'Martel, Yann',\n",
       " 'Stephenson, Pamela',\n",
       " 'Pelzer, Dave',\n",
       " 'Donaldson, Julia',\n",
       " 'McCourt, Frank',\n",
       " 'Faulks, Sebastian',\n",
       " 'Pullman, Philip',\n",
       " 'Mosse, Kate',\n",
       " 'Rowling, J.K.',\n",
       " 'Stockett, Kathryn',\n",
       " 'Parsons, Tony',\n",
       " 'Golden, Arthur',\n",
       " 'McCall Smith, Alexander',\n",
       " 'Hislop, Victoria',\n",
       " 'Ahern, Cecelia',\n",
       " 'McKeith, Gillian',\n",
       " 'Zafon, Carlos Ruiz',\n",
       " 'Rowling, J.K.',\n",
       " 'Grisham, John',\n",
       " 'Atkins, Robert C.',\n",
       " 'Pullman, Philip',\n",
       " 'Truss, Lynne',\n",
       " 'Smith, Delia',\n",
       " 'Harris, Joanne',\n",
       " 'Boyne, John',\n",
       " 'Picoult, Jodi',\n",
       " 'Pullman, Philip',\n",
       " 'Lee, Harper',\n",
       " 'Gray, John',\n",
       " 'French, Dawn',\n",
       " 'Lewycka, Marina',\n",
       " 'Harris, Thomas',\n",
       " 'Tolkien, J. R. R.',\n",
       " 'Moore, Michael',\n",
       " 'Rubenfeld, Jed',\n",
       " 'Osbourne, Sharon',\n",
       " 'Coelho, Paulo',\n",
       " \"O'Grady, Paul\",\n",
       " 'Bryson, Bill',\n",
       " 'Oliver, Jamie',\n",
       " 'Fielding, Helen',\n",
       " 'Oliver, Jamie',\n",
       " 'McKenna, Paul',\n",
       " 'Bryson, Bill',\n",
       " 'Grisham, John',\n",
       " 'Levy, Andrea',\n",
       " 'Lawson, Nigella',\n",
       " 'Ali, Monica',\n",
       " 'Edwards, Kim',\n",
       " 'Donaldson, Julia',\n",
       " 'Hornby, Nick',\n",
       " 'Brand, Russell',\n",
       " 'Dawkins, Richard',\n",
       " '0',\n",
       " 'Smith, Zadie',\n",
       " 'Morton, Kate',\n",
       " 'Zusak, Markus',\n",
       " 'Binchy, Maeve',\n",
       " 'Harris, Robert',\n",
       " 'Oliver, Jamie',\n",
       " 'Collins, Suzanne',\n",
       " 'Pelzer, Dave',\n",
       " 'Oliver, Jamie']"
      ]
     },
     "execution_count": 122,
     "metadata": {},
     "output_type": "execute_result"
    }
   ],
   "source": [
    "#Displaying author name\n",
    "Author_Name"
   ]
  },
  {
   "cell_type": "code",
   "execution_count": 123,
   "id": "17598d91",
   "metadata": {},
   "outputs": [],
   "source": [
    "#extracting Volumes Sold\n",
    "Volumes_Sold=[]\n",
    "try:\n",
    "    Volumes_Sold_tags=driver.find_elements(By.XPATH,'//table[@class=\"in-article sortable\"]/tbody/tr/td[4]')\n",
    "    for j in Volumes_Sold_tags:\n",
    "        Volumes_Sold.append(j.text)\n",
    "except NoSuchElementException : #handling no such element exception\n",
    "    Volumes_Sold.append('--')"
   ]
  },
  {
   "cell_type": "code",
   "execution_count": 124,
   "id": "062d3d64",
   "metadata": {},
   "outputs": [
    {
     "data": {
      "text/plain": [
       "100"
      ]
     },
     "execution_count": 124,
     "metadata": {},
     "output_type": "execute_result"
    }
   ],
   "source": [
    "#Printing len\n",
    "len(Volumes_Sold)"
   ]
  },
  {
   "cell_type": "code",
   "execution_count": 125,
   "id": "bdd5de4a",
   "metadata": {},
   "outputs": [
    {
     "data": {
      "text/plain": [
       "['5,094,805',\n",
       " '4,475,152',\n",
       " '4,200,654',\n",
       " '4,179,479',\n",
       " '3,758,936',\n",
       " '3,583,215',\n",
       " '3,484,047',\n",
       " '3,377,906',\n",
       " '3,193,946',\n",
       " '2,950,264',\n",
       " '2,479,784',\n",
       " '2,315,405',\n",
       " '2,233,570',\n",
       " '2,193,928',\n",
       " '2,183,031',\n",
       " '2,152,737',\n",
       " '2,062,145',\n",
       " '2,052,876',\n",
       " '2,005,598',\n",
       " '1,979,552',\n",
       " '1,928,900',\n",
       " '1,852,919',\n",
       " '1,814,784',\n",
       " '1,787,118',\n",
       " '1,783,535',\n",
       " '1,781,269',\n",
       " '1,743,266',\n",
       " '1,629,119',\n",
       " '1,616,068',\n",
       " '1,583,992',\n",
       " '1,555,135',\n",
       " '1,546,886',\n",
       " '1,539,428',\n",
       " '1,508,205',\n",
       " '1,489,403',\n",
       " '1,352,318',\n",
       " '1,310,207',\n",
       " '1,310,176',\n",
       " '1,231,957',\n",
       " '1,217,712',\n",
       " '1,208,711',\n",
       " '1,204,058',\n",
       " '1,184,967',\n",
       " '1,181,503',\n",
       " '1,181,093',\n",
       " '1,153,181',\n",
       " '1,132,336',\n",
       " '1,130,802',\n",
       " '1,126,337',\n",
       " '1,115,549',\n",
       " '1,108,328',\n",
       " '1,107,379',\n",
       " '1,104,403',\n",
       " '1,092,349',\n",
       " '1,090,847',\n",
       " '1,087,262',\n",
       " '1,054,196',\n",
       " '1,037,160',\n",
       " '1,023,688',\n",
       " '1,015,956',\n",
       " '1,009,873',\n",
       " '1,004,414',\n",
       " '1,003,780',\n",
       " '1,002,314',\n",
       " '998,213',\n",
       " '992,846',\n",
       " '986,753',\n",
       " '986,115',\n",
       " '970,509',\n",
       " '967,466',\n",
       " '963,353',\n",
       " '962,515',\n",
       " '959,496',\n",
       " '956,114',\n",
       " '945,640',\n",
       " '931,312',\n",
       " '925,425',\n",
       " '924,695',\n",
       " '906,968',\n",
       " '905,086',\n",
       " '890,847',\n",
       " '869,671',\n",
       " '869,659',\n",
       " '862,602',\n",
       " '856,540',\n",
       " '845,858',\n",
       " '842,535',\n",
       " '828,215',\n",
       " '820,563',\n",
       " '816,907',\n",
       " '816,585',\n",
       " '815,586',\n",
       " '814,370',\n",
       " '809,641',\n",
       " '808,900',\n",
       " '807,311',\n",
       " '794,201',\n",
       " '792,187',\n",
       " '791,507',\n",
       " '791,095']"
      ]
     },
     "execution_count": 125,
     "metadata": {},
     "output_type": "execute_result"
    }
   ],
   "source": [
    "#Displaying volumes sold\n",
    "Volumes_Sold"
   ]
  },
  {
   "cell_type": "code",
   "execution_count": 126,
   "id": "dc607162",
   "metadata": {},
   "outputs": [],
   "source": [
    "#extracting Publisher\n",
    "Publisher=[]\n",
    "try:\n",
    "    Publisher_tags=driver.find_elements(By.XPATH,'//table[@class=\"in-article sortable\"]/tbody/tr/td[5]')\n",
    "    for j in Publisher_tags:\n",
    "        Publisher.append(j.text)\n",
    "except NoSuchElementException : #handling no such element exception\n",
    "    Publisher.append('--')"
   ]
  },
  {
   "cell_type": "code",
   "execution_count": 127,
   "id": "48c9e437",
   "metadata": {},
   "outputs": [
    {
     "data": {
      "text/plain": [
       "100"
      ]
     },
     "execution_count": 127,
     "metadata": {},
     "output_type": "execute_result"
    }
   ],
   "source": [
    "#Printing len\n",
    "len(Publisher)"
   ]
  },
  {
   "cell_type": "code",
   "execution_count": 128,
   "id": "7e906363",
   "metadata": {},
   "outputs": [
    {
     "data": {
      "text/plain": [
       "['Transworld',\n",
       " 'Bloomsbury',\n",
       " 'Bloomsbury',\n",
       " 'Bloomsbury',\n",
       " 'Random House',\n",
       " 'Bloomsbury',\n",
       " 'Bloomsbury',\n",
       " 'Bloomsbury',\n",
       " 'Transworld',\n",
       " 'Bloomsbury',\n",
       " 'Random House',\n",
       " 'Little, Brown Book',\n",
       " 'Quercus',\n",
       " 'Random House',\n",
       " 'Transworld',\n",
       " 'Little, Brown Book',\n",
       " 'Transworld',\n",
       " 'Little, Brown Book',\n",
       " 'Pan Macmillan',\n",
       " 'Random House',\n",
       " 'Transworld',\n",
       " 'Transworld',\n",
       " 'Quercus',\n",
       " 'Little, Brown Book',\n",
       " 'Penguin',\n",
       " 'Pan Macmillan',\n",
       " 'Penguin',\n",
       " 'Bloomsbury',\n",
       " 'Hodder & Stoughton',\n",
       " 'Bloomsbury',\n",
       " 'Quercus',\n",
       " 'Random House',\n",
       " 'Random House',\n",
       " 'Pan Macmillan',\n",
       " 'Penguin',\n",
       " 'Random House',\n",
       " 'Random House',\n",
       " 'Canongate',\n",
       " 'HarperCollins',\n",
       " 'Orion',\n",
       " 'Pan Macmillan',\n",
       " 'HarperCollins',\n",
       " 'Random House',\n",
       " 'Scholastic Ltd.',\n",
       " 'Orion',\n",
       " 'Bloomsbury',\n",
       " 'Penguin',\n",
       " 'HarperCollins',\n",
       " 'Random House',\n",
       " 'Little, Brown Book',\n",
       " 'Headline',\n",
       " 'HarperCollins',\n",
       " 'Penguin',\n",
       " 'Orion',\n",
       " 'Bloomsbury',\n",
       " 'Random House',\n",
       " 'Random House',\n",
       " 'Scholastic Ltd.',\n",
       " 'Profile Books Group',\n",
       " 'Random House',\n",
       " 'Transworld',\n",
       " 'Random House Childrens Books G',\n",
       " 'Hodder & Stoughton',\n",
       " 'Scholastic Ltd.',\n",
       " 'Random House',\n",
       " 'HarperCollins',\n",
       " 'Random House',\n",
       " 'Penguin',\n",
       " 'Random House',\n",
       " 'HarperCollins',\n",
       " 'Penguin',\n",
       " 'Headline',\n",
       " 'Little, Brown Book',\n",
       " 'HarperCollins',\n",
       " 'Transworld',\n",
       " 'Transworld',\n",
       " 'Penguin',\n",
       " 'Pan Macmillan',\n",
       " 'Penguin',\n",
       " 'Transworld',\n",
       " 'Transworld',\n",
       " 'Random House',\n",
       " 'Headline',\n",
       " 'Random House',\n",
       " 'Transworld',\n",
       " 'Penguin',\n",
       " 'Pan Macmillan',\n",
       " 'Penguin',\n",
       " 'Hodder & Stoughton',\n",
       " 'Transworld',\n",
       " 'D.C. Thomson',\n",
       " 'Penguin',\n",
       " 'Pan Macmillan',\n",
       " 'Transworld',\n",
       " 'Orion',\n",
       " 'Random House',\n",
       " 'Penguin',\n",
       " 'Scholastic Ltd.',\n",
       " 'Orion',\n",
       " 'Penguin']"
      ]
     },
     "execution_count": 128,
     "metadata": {},
     "output_type": "execute_result"
    }
   ],
   "source": [
    "#Displaying publisher\n",
    "Publisher"
   ]
  },
  {
   "cell_type": "code",
   "execution_count": 129,
   "id": "7cb2e51a",
   "metadata": {},
   "outputs": [],
   "source": [
    "#extracting Genre\n",
    "Genre=[]\n",
    "try:\n",
    "    Genre_tags=driver.find_elements(By.XPATH,'//table[@class=\"in-article sortable\"]/tbody/tr/td[6]')\n",
    "    for j in Genre_tags:\n",
    "        Genre.append(j.text)\n",
    "except NoSuchElementException : #handling no such element exception\n",
    "    Genre.append('--')"
   ]
  },
  {
   "cell_type": "code",
   "execution_count": 130,
   "id": "f018087f",
   "metadata": {},
   "outputs": [
    {
     "data": {
      "text/plain": [
       "100"
      ]
     },
     "execution_count": 130,
     "metadata": {},
     "output_type": "execute_result"
    }
   ],
   "source": [
    "#Printing len\n",
    "len(Genre)"
   ]
  },
  {
   "cell_type": "code",
   "execution_count": 131,
   "id": "160b0cd4",
   "metadata": {},
   "outputs": [
    {
     "data": {
      "text/plain": [
       "['Crime, Thriller & Adventure',\n",
       " \"Children's Fiction\",\n",
       " \"Children's Fiction\",\n",
       " \"Children's Fiction\",\n",
       " 'Romance & Sagas',\n",
       " \"Children's Fiction\",\n",
       " \"Children's Fiction\",\n",
       " \"Children's Fiction\",\n",
       " 'Crime, Thriller & Adventure',\n",
       " \"Children's Fiction\",\n",
       " 'Romance & Sagas',\n",
       " 'Young Adult Fiction',\n",
       " 'Crime, Thriller & Adventure',\n",
       " 'Romance & Sagas',\n",
       " 'Crime, Thriller & Adventure',\n",
       " 'Young Adult Fiction',\n",
       " 'Crime, Thriller & Adventure',\n",
       " 'Young Adult Fiction',\n",
       " 'General & Literary Fiction',\n",
       " 'General & Literary Fiction',\n",
       " 'Crime, Thriller & Adventure',\n",
       " 'Popular Science',\n",
       " 'Crime, Thriller & Adventure',\n",
       " 'Young Adult Fiction',\n",
       " 'Picture Books',\n",
       " 'Picture Books',\n",
       " 'Food & Drink: General',\n",
       " 'General & Literary Fiction',\n",
       " 'General & Literary Fiction',\n",
       " 'General & Literary Fiction',\n",
       " 'Crime, Thriller & Adventure',\n",
       " 'General & Literary Fiction',\n",
       " 'General & Literary Fiction',\n",
       " 'General & Literary Fiction',\n",
       " 'Humour: Collections & General',\n",
       " 'General & Literary Fiction',\n",
       " 'Autobiography: General',\n",
       " 'General & Literary Fiction',\n",
       " 'Biography: The Arts',\n",
       " 'Autobiography: General',\n",
       " 'Picture Books',\n",
       " 'Autobiography: General',\n",
       " 'General & Literary Fiction',\n",
       " 'Young Adult Fiction',\n",
       " 'General & Literary Fiction',\n",
       " 'Science Fiction & Fantasy',\n",
       " 'General & Literary Fiction',\n",
       " 'General & Literary Fiction',\n",
       " 'General & Literary Fiction',\n",
       " 'Crime, Thriller & Adventure',\n",
       " 'General & Literary Fiction',\n",
       " 'General & Literary Fiction',\n",
       " 'Fitness & Diet',\n",
       " 'General & Literary Fiction',\n",
       " \"Children's Fiction\",\n",
       " 'Crime, Thriller & Adventure',\n",
       " 'Fitness & Diet',\n",
       " 'Young Adult Fiction',\n",
       " 'Usage & Writing Guides',\n",
       " 'Food & Drink: General',\n",
       " 'General & Literary Fiction',\n",
       " 'Young Adult Fiction',\n",
       " 'General & Literary Fiction',\n",
       " 'Young Adult Fiction',\n",
       " 'General & Literary Fiction',\n",
       " 'Popular Culture & Media: General Interest',\n",
       " 'Autobiography: The Arts',\n",
       " 'General & Literary Fiction',\n",
       " 'Crime, Thriller & Adventure',\n",
       " 'Science Fiction & Fantasy',\n",
       " 'Current Affairs & Issues',\n",
       " 'Crime, Thriller & Adventure',\n",
       " 'Autobiography: The Arts',\n",
       " 'General & Literary Fiction',\n",
       " 'Autobiography: The Arts',\n",
       " 'Travel Writing',\n",
       " 'Food & Drink: General',\n",
       " 'General & Literary Fiction',\n",
       " 'National & Regional Cuisine',\n",
       " 'Fitness & Diet',\n",
       " 'Travel Writing',\n",
       " 'Crime, Thriller & Adventure',\n",
       " 'General & Literary Fiction',\n",
       " 'Food & Drink: General',\n",
       " 'General & Literary Fiction',\n",
       " 'General & Literary Fiction',\n",
       " 'Picture Books',\n",
       " 'General & Literary Fiction',\n",
       " 'Autobiography: The Arts',\n",
       " 'Popular Science',\n",
       " \"Children's Annuals\",\n",
       " 'General & Literary Fiction',\n",
       " 'General & Literary Fiction',\n",
       " 'General & Literary Fiction',\n",
       " 'General & Literary Fiction',\n",
       " 'General & Literary Fiction',\n",
       " 'Food & Drink: General',\n",
       " 'Young Adult Fiction',\n",
       " 'Biography: General',\n",
       " 'Food & Drink: General']"
      ]
     },
     "execution_count": 131,
     "metadata": {},
     "output_type": "execute_result"
    }
   ],
   "source": [
    "#Displaying genre\n",
    "Genre"
   ]
  },
  {
   "cell_type": "code",
   "execution_count": 132,
   "id": "90f1c20c",
   "metadata": {},
   "outputs": [
    {
     "data": {
      "text/html": [
       "<div>\n",
       "<style scoped>\n",
       "    .dataframe tbody tr th:only-of-type {\n",
       "        vertical-align: middle;\n",
       "    }\n",
       "\n",
       "    .dataframe tbody tr th {\n",
       "        vertical-align: top;\n",
       "    }\n",
       "\n",
       "    .dataframe thead th {\n",
       "        text-align: right;\n",
       "    }\n",
       "</style>\n",
       "<table border=\"1\" class=\"dataframe\">\n",
       "  <thead>\n",
       "    <tr style=\"text-align: right;\">\n",
       "      <th></th>\n",
       "      <th>Book Name</th>\n",
       "      <th>Author Name</th>\n",
       "      <th>Volumes Sold</th>\n",
       "      <th>Publisher</th>\n",
       "      <th>Genre</th>\n",
       "    </tr>\n",
       "  </thead>\n",
       "  <tbody>\n",
       "    <tr>\n",
       "      <th>0</th>\n",
       "      <td>Da Vinci Code,The</td>\n",
       "      <td>Brown, Dan</td>\n",
       "      <td>5,094,805</td>\n",
       "      <td>Transworld</td>\n",
       "      <td>Crime, Thriller &amp; Adventure</td>\n",
       "    </tr>\n",
       "    <tr>\n",
       "      <th>1</th>\n",
       "      <td>Harry Potter and the Deathly Hallows</td>\n",
       "      <td>Rowling, J.K.</td>\n",
       "      <td>4,475,152</td>\n",
       "      <td>Bloomsbury</td>\n",
       "      <td>Children's Fiction</td>\n",
       "    </tr>\n",
       "    <tr>\n",
       "      <th>2</th>\n",
       "      <td>Harry Potter and the Philosopher's Stone</td>\n",
       "      <td>Rowling, J.K.</td>\n",
       "      <td>4,200,654</td>\n",
       "      <td>Bloomsbury</td>\n",
       "      <td>Children's Fiction</td>\n",
       "    </tr>\n",
       "    <tr>\n",
       "      <th>3</th>\n",
       "      <td>Harry Potter and the Order of the Phoenix</td>\n",
       "      <td>Rowling, J.K.</td>\n",
       "      <td>4,179,479</td>\n",
       "      <td>Bloomsbury</td>\n",
       "      <td>Children's Fiction</td>\n",
       "    </tr>\n",
       "    <tr>\n",
       "      <th>4</th>\n",
       "      <td>Fifty Shades of Grey</td>\n",
       "      <td>James, E. L.</td>\n",
       "      <td>3,758,936</td>\n",
       "      <td>Random House</td>\n",
       "      <td>Romance &amp; Sagas</td>\n",
       "    </tr>\n",
       "    <tr>\n",
       "      <th>...</th>\n",
       "      <td>...</td>\n",
       "      <td>...</td>\n",
       "      <td>...</td>\n",
       "      <td>...</td>\n",
       "      <td>...</td>\n",
       "    </tr>\n",
       "    <tr>\n",
       "      <th>95</th>\n",
       "      <td>Ghost,The</td>\n",
       "      <td>Harris, Robert</td>\n",
       "      <td>807,311</td>\n",
       "      <td>Random House</td>\n",
       "      <td>General &amp; Literary Fiction</td>\n",
       "    </tr>\n",
       "    <tr>\n",
       "      <th>96</th>\n",
       "      <td>Happy Days with the Naked Chef</td>\n",
       "      <td>Oliver, Jamie</td>\n",
       "      <td>794,201</td>\n",
       "      <td>Penguin</td>\n",
       "      <td>Food &amp; Drink: General</td>\n",
       "    </tr>\n",
       "    <tr>\n",
       "      <th>97</th>\n",
       "      <td>Hunger Games,The:Hunger Games Trilogy</td>\n",
       "      <td>Collins, Suzanne</td>\n",
       "      <td>792,187</td>\n",
       "      <td>Scholastic Ltd.</td>\n",
       "      <td>Young Adult Fiction</td>\n",
       "    </tr>\n",
       "    <tr>\n",
       "      <th>98</th>\n",
       "      <td>Lost Boy,The:A Foster Child's Search for the L...</td>\n",
       "      <td>Pelzer, Dave</td>\n",
       "      <td>791,507</td>\n",
       "      <td>Orion</td>\n",
       "      <td>Biography: General</td>\n",
       "    </tr>\n",
       "    <tr>\n",
       "      <th>99</th>\n",
       "      <td>Jamie's Ministry of Food:Anyone Can Learn to C...</td>\n",
       "      <td>Oliver, Jamie</td>\n",
       "      <td>791,095</td>\n",
       "      <td>Penguin</td>\n",
       "      <td>Food &amp; Drink: General</td>\n",
       "    </tr>\n",
       "  </tbody>\n",
       "</table>\n",
       "<p>100 rows × 5 columns</p>\n",
       "</div>"
      ],
      "text/plain": [
       "                                            Book Name       Author Name  \\\n",
       "0                                   Da Vinci Code,The        Brown, Dan   \n",
       "1                Harry Potter and the Deathly Hallows     Rowling, J.K.   \n",
       "2            Harry Potter and the Philosopher's Stone     Rowling, J.K.   \n",
       "3           Harry Potter and the Order of the Phoenix     Rowling, J.K.   \n",
       "4                                Fifty Shades of Grey      James, E. L.   \n",
       "..                                                ...               ...   \n",
       "95                                          Ghost,The    Harris, Robert   \n",
       "96                     Happy Days with the Naked Chef     Oliver, Jamie   \n",
       "97              Hunger Games,The:Hunger Games Trilogy  Collins, Suzanne   \n",
       "98  Lost Boy,The:A Foster Child's Search for the L...      Pelzer, Dave   \n",
       "99  Jamie's Ministry of Food:Anyone Can Learn to C...     Oliver, Jamie   \n",
       "\n",
       "   Volumes Sold        Publisher                        Genre  \n",
       "0     5,094,805       Transworld  Crime, Thriller & Adventure  \n",
       "1     4,475,152       Bloomsbury           Children's Fiction  \n",
       "2     4,200,654       Bloomsbury           Children's Fiction  \n",
       "3     4,179,479       Bloomsbury           Children's Fiction  \n",
       "4     3,758,936     Random House              Romance & Sagas  \n",
       "..          ...              ...                          ...  \n",
       "95      807,311     Random House   General & Literary Fiction  \n",
       "96      794,201          Penguin        Food & Drink: General  \n",
       "97      792,187  Scholastic Ltd.          Young Adult Fiction  \n",
       "98      791,507            Orion           Biography: General  \n",
       "99      791,095          Penguin        Food & Drink: General  \n",
       "\n",
       "[100 rows x 5 columns]"
      ]
     },
     "execution_count": 132,
     "metadata": {},
     "output_type": "execute_result"
    }
   ],
   "source": [
    "#Making Dataframe\n",
    "highest_selling_novels=pd.DataFrame()\n",
    "highest_selling_novels['Book Name']=Book_Name\n",
    "highest_selling_novels['Author Name']=Author_Name\n",
    "highest_selling_novels['Volumes Sold']=Volumes_Sold\n",
    "highest_selling_novels['Publisher']=Publisher\n",
    "highest_selling_novels['Genre']=Genre\n",
    "highest_selling_novels"
   ]
  },
  {
   "cell_type": "code",
   "execution_count": 133,
   "id": "b88c1366",
   "metadata": {},
   "outputs": [],
   "source": [
    "#closing the driver\n",
    "driver.close()"
   ]
  },
  {
   "cell_type": "markdown",
   "id": "775d6f88",
   "metadata": {},
   "source": [
    "**9. Scrape the details most watched tv series of all time from imdb.com.\n",
    "Url = https://www.imdb.com/list/ls095964455/\n",
    "You have to find the following details:\n",
    "A) Name\n",
    "B) Year span\n",
    "C) Genre\n",
    "D) Run time\n",
    "E) Ratings\n",
    "F) Votes**"
   ]
  },
  {
   "cell_type": "code",
   "execution_count": 95,
   "id": "62c5ae0b",
   "metadata": {},
   "outputs": [],
   "source": [
    "#Connecting to the driver\n",
    "driver=webdriver.Chrome(r'C:\\Users\\Admin\\Downloads\\chromedriver_win32\\chromedriver.exe')\n",
    "\n",
    "#Maximizing the automated\n",
    "driver.maximize_window()\n",
    "\n",
    "#opening the imdb website on automated chrome window\n",
    "url='https://www.imdb.com/list/ls095964455/'\n",
    "driver.get(url)"
   ]
  },
  {
   "cell_type": "code",
   "execution_count": 96,
   "id": "2dc3f63d",
   "metadata": {},
   "outputs": [],
   "source": [
    "#extracting name\n",
    "Name=[]\n",
    "try:\n",
    "    Name_tags=driver.find_elements(By.XPATH,'//h3[@class=\"lister-item-header\"]')\n",
    "    for j in Name_tags:\n",
    "        Name.append(j.text)\n",
    "except NoSuchElementException : #handling no such element exception\n",
    "    Name.append('--')"
   ]
  },
  {
   "cell_type": "code",
   "execution_count": 97,
   "id": "184fb03b",
   "metadata": {},
   "outputs": [
    {
     "data": {
      "text/plain": [
       "100"
      ]
     },
     "execution_count": 97,
     "metadata": {},
     "output_type": "execute_result"
    }
   ],
   "source": [
    "#Printing len\n",
    "len(Name)"
   ]
  },
  {
   "cell_type": "code",
   "execution_count": 98,
   "id": "781a0c3c",
   "metadata": {},
   "outputs": [
    {
     "data": {
      "text/plain": [
       "['1. Game of Thrones (2011–2019)',\n",
       " '2. Stranger Things (2016– )',\n",
       " '3. The Walking Dead (2010–2022)',\n",
       " '4. 13 Reasons Why (2017–2020)',\n",
       " '5. The 100 (2014–2020)',\n",
       " '6. Orange Is the New Black (2013–2019)',\n",
       " '7. Riverdale (2017– )',\n",
       " \"8. Grey's Anatomy (2005– )\",\n",
       " '9. The Flash (2014–2023)',\n",
       " '10. Arrow (2012–2020)',\n",
       " '11. Money Heist (2017–2021)',\n",
       " '12. The Big Bang Theory (2007–2019)',\n",
       " '13. Black Mirror (2011–2019)',\n",
       " '14. Sherlock (2010–2017)',\n",
       " '15. Vikings (2013–2020)',\n",
       " '16. Pretty Little Liars (2010–2017)',\n",
       " '17. The Vampire Diaries (2009–2017)',\n",
       " '18. American Horror Story (2011– )',\n",
       " '19. Breaking Bad (2008–2013)',\n",
       " '20. Lucifer (2016–2021)',\n",
       " '21. Supernatural (2005–2020)',\n",
       " '22. Prison Break (2005–2017)',\n",
       " '23. How to Get Away with Murder (2014–2020)',\n",
       " '24. Teen Wolf (2011–2017)',\n",
       " '25. The Simpsons (1989– )',\n",
       " '26. Once Upon a Time (2011–2018)',\n",
       " '27. Narcos (2015–2017)',\n",
       " '28. Daredevil (2015–2018)',\n",
       " '29. Friends (1994–2004)',\n",
       " '30. How I Met Your Mother (2005–2014)',\n",
       " '31. Suits (2011–2019)',\n",
       " '32. Mr. Robot (2015–2019)',\n",
       " '33. The Originals (2013–2018)',\n",
       " '34. Supergirl (2015–2021)',\n",
       " '35. Gossip Girl (2007–2012)',\n",
       " '36. Sense8 (2015–2018)',\n",
       " '37. Gotham (2014–2019)',\n",
       " '38. Westworld (2016–2022)',\n",
       " '39. Jessica Jones (2015–2019)',\n",
       " '40. Modern Family (2009–2020)',\n",
       " '41. Rick and Morty (2013– )',\n",
       " '42. Shadowhunters (2016–2019)',\n",
       " '43. The End of the F***ing World (2017–2019)',\n",
       " '44. House of Cards (2013–2018)',\n",
       " '45. Dark (2017–2020)',\n",
       " '46. Elite (2018– )',\n",
       " '47. Sex Education (2019– )',\n",
       " '48. Shameless (2011–2021)',\n",
       " '49. New Girl (2011–2018)',\n",
       " '50. Agents of S.H.I.E.L.D. (2013–2020)',\n",
       " '51. You (2018– )',\n",
       " '52. Dexter (2006–2013)',\n",
       " '53. Fear the Walking Dead (2015– )',\n",
       " '54. Family Guy (1999– )',\n",
       " '55. The Blacklist (2013– )',\n",
       " '56. Lost (2004–2010)',\n",
       " '57. Peaky Blinders (2013–2022)',\n",
       " '58. House (2004–2012)',\n",
       " '59. Quantico (2015–2018)',\n",
       " '60. Orphan Black (2013–2017)',\n",
       " '61. Homeland (2011–2020)',\n",
       " '62. Blindspot (2015–2020)',\n",
       " \"63. DC's Legends of Tomorrow (2016–2022)\",\n",
       " \"64. The Handmaid's Tale (2017– )\",\n",
       " '65. Chilling Adventures of Sabrina (2018–2020)',\n",
       " '66. The Good Doctor (2017– )',\n",
       " '67. Jane the Virgin (2014–2019)',\n",
       " '68. Glee (2009–2015)',\n",
       " '69. South Park (1997– )',\n",
       " '70. Brooklyn Nine-Nine (2013–2021)',\n",
       " '71. Under the Dome (2013–2015)',\n",
       " '72. The Umbrella Academy (2019–2023)',\n",
       " '73. True Detective (2014–2019)',\n",
       " '74. The OA (2016–2019)',\n",
       " '75. Desperate Housewives (2004–2012)',\n",
       " '76. Better Call Saul (2015–2022)',\n",
       " '77. Bates Motel (2013–2017)',\n",
       " '78. The Punisher (2017–2019)',\n",
       " '79. Atypical (2017–2021)',\n",
       " '80. Dynasty (2017–2022)',\n",
       " '81. This Is Us (2016–2022)',\n",
       " '82. The Good Place (2016–2020)',\n",
       " '83. Iron Fist (2017–2018)',\n",
       " '84. The Rain (2018–2020)',\n",
       " '85. Mindhunter (2017–2019)',\n",
       " '86. Revenge (2011–2015)',\n",
       " '87. Luke Cage (2016–2018)',\n",
       " '88. Scandal (2012–2018)',\n",
       " '89. The Defenders (2017)',\n",
       " '90. Big Little Lies (2017–2019)',\n",
       " '91. Insatiable (2018–2019)',\n",
       " '92. The Mentalist (2008–2015)',\n",
       " '93. The Crown (2016– )',\n",
       " '94. Chernobyl (2019)',\n",
       " '95. iZombie (2015–2019)',\n",
       " '96. Reign (2013–2017)',\n",
       " '97. A Series of Unfortunate Events (2017–2019)',\n",
       " '98. Criminal Minds (2005– )',\n",
       " '99. Scream: The TV Series (2015–2019)',\n",
       " '100. The Haunting of Hill House (2018)']"
      ]
     },
     "execution_count": 98,
     "metadata": {},
     "output_type": "execute_result"
    }
   ],
   "source": [
    "#Displaying name\n",
    "Name"
   ]
  },
  {
   "cell_type": "code",
   "execution_count": 99,
   "id": "8bf948e4",
   "metadata": {},
   "outputs": [],
   "source": [
    "#extracting year span\n",
    "Year_Span=[]\n",
    "try:\n",
    "    Year_Span_tags=driver.find_elements(By.XPATH,'//span[@class=\"lister-item-year text-muted unbold\"]')\n",
    "    for j in Year_Span_tags:\n",
    "        Year_Span.append(j.text)\n",
    "except NoSuchElementException : #handling no such element exception\n",
    "    Year_Span.append('--')"
   ]
  },
  {
   "cell_type": "code",
   "execution_count": 100,
   "id": "80e2c1a1",
   "metadata": {},
   "outputs": [
    {
     "data": {
      "text/plain": [
       "100"
      ]
     },
     "execution_count": 100,
     "metadata": {},
     "output_type": "execute_result"
    }
   ],
   "source": [
    "#Printing len\n",
    "len(Year_Span)"
   ]
  },
  {
   "cell_type": "code",
   "execution_count": 101,
   "id": "9202391e",
   "metadata": {},
   "outputs": [
    {
     "data": {
      "text/plain": [
       "['(2011–2019)',\n",
       " '(2016– )',\n",
       " '(2010–2022)',\n",
       " '(2017–2020)',\n",
       " '(2014–2020)',\n",
       " '(2013–2019)',\n",
       " '(2017– )',\n",
       " '(2005– )',\n",
       " '(2014–2023)',\n",
       " '(2012–2020)',\n",
       " '(2017–2021)',\n",
       " '(2007–2019)',\n",
       " '(2011–2019)',\n",
       " '(2010–2017)',\n",
       " '(2013–2020)',\n",
       " '(2010–2017)',\n",
       " '(2009–2017)',\n",
       " '(2011– )',\n",
       " '(2008–2013)',\n",
       " '(2016–2021)',\n",
       " '(2005–2020)',\n",
       " '(2005–2017)',\n",
       " '(2014–2020)',\n",
       " '(2011–2017)',\n",
       " '(1989– )',\n",
       " '(2011–2018)',\n",
       " '(2015–2017)',\n",
       " '(2015–2018)',\n",
       " '(1994–2004)',\n",
       " '(2005–2014)',\n",
       " '(2011–2019)',\n",
       " '(2015–2019)',\n",
       " '(2013–2018)',\n",
       " '(2015–2021)',\n",
       " '(2007–2012)',\n",
       " '(2015–2018)',\n",
       " '(2014–2019)',\n",
       " '(2016–2022)',\n",
       " '(2015–2019)',\n",
       " '(2009–2020)',\n",
       " '(2013– )',\n",
       " '(2016–2019)',\n",
       " '(2017–2019)',\n",
       " '(2013–2018)',\n",
       " '(2017–2020)',\n",
       " '(2018– )',\n",
       " '(2019– )',\n",
       " '(2011–2021)',\n",
       " '(2011–2018)',\n",
       " '(2013–2020)',\n",
       " '(2018– )',\n",
       " '(2006–2013)',\n",
       " '(2015– )',\n",
       " '(1999– )',\n",
       " '(2013– )',\n",
       " '(2004–2010)',\n",
       " '(2013–2022)',\n",
       " '(2004–2012)',\n",
       " '(2015–2018)',\n",
       " '(2013–2017)',\n",
       " '(2011–2020)',\n",
       " '(2015–2020)',\n",
       " '(2016–2022)',\n",
       " '(2017– )',\n",
       " '(2018–2020)',\n",
       " '(2017– )',\n",
       " '(2014–2019)',\n",
       " '(2009–2015)',\n",
       " '(1997– )',\n",
       " '(2013–2021)',\n",
       " '(2013–2015)',\n",
       " '(2019–2023)',\n",
       " '(2014–2019)',\n",
       " '(2016–2019)',\n",
       " '(2004–2012)',\n",
       " '(2015–2022)',\n",
       " '(2013–2017)',\n",
       " '(2017–2019)',\n",
       " '(2017–2021)',\n",
       " '(2017–2022)',\n",
       " '(2016–2022)',\n",
       " '(2016–2020)',\n",
       " '(2017–2018)',\n",
       " '(2018–2020)',\n",
       " '(2017–2019)',\n",
       " '(2011–2015)',\n",
       " '(2016–2018)',\n",
       " '(2012–2018)',\n",
       " '(2017)',\n",
       " '(2017–2019)',\n",
       " '(2018–2019)',\n",
       " '(2008–2015)',\n",
       " '(2016– )',\n",
       " '(2019)',\n",
       " '(2015–2019)',\n",
       " '(2013–2017)',\n",
       " '(2017–2019)',\n",
       " '(2005– )',\n",
       " '(2015–2019)',\n",
       " '(2018)']"
      ]
     },
     "execution_count": 101,
     "metadata": {},
     "output_type": "execute_result"
    }
   ],
   "source": [
    "#Displaying year span\n",
    "Year_Span"
   ]
  },
  {
   "cell_type": "code",
   "execution_count": 102,
   "id": "45a7800e",
   "metadata": {},
   "outputs": [],
   "source": [
    "#extracting genre\n",
    "Genre=[]\n",
    "try:\n",
    "    Genre_tags=driver.find_elements(By.XPATH,'//span[@class=\"genre\"]')\n",
    "    for j in Genre_tags:\n",
    "        Genre.append(j.text)\n",
    "except NoSuchElementException : #handling no such element exception\n",
    "    Genre.append('--')"
   ]
  },
  {
   "cell_type": "code",
   "execution_count": 103,
   "id": "85f66104",
   "metadata": {},
   "outputs": [
    {
     "data": {
      "text/plain": [
       "100"
      ]
     },
     "execution_count": 103,
     "metadata": {},
     "output_type": "execute_result"
    }
   ],
   "source": [
    "#Printing len\n",
    "len(Genre)"
   ]
  },
  {
   "cell_type": "code",
   "execution_count": 104,
   "id": "ad01711c",
   "metadata": {},
   "outputs": [
    {
     "data": {
      "text/plain": [
       "['Action, Adventure, Drama',\n",
       " 'Drama, Fantasy, Horror',\n",
       " 'Drama, Horror, Thriller',\n",
       " 'Drama, Mystery, Thriller',\n",
       " 'Drama, Mystery, Sci-Fi',\n",
       " 'Comedy, Crime, Drama',\n",
       " 'Crime, Drama, Mystery',\n",
       " 'Drama, Romance',\n",
       " 'Action, Adventure, Drama',\n",
       " 'Action, Adventure, Crime',\n",
       " 'Action, Crime, Drama',\n",
       " 'Comedy, Romance',\n",
       " 'Drama, Mystery, Sci-Fi',\n",
       " 'Crime, Drama, Mystery',\n",
       " 'Action, Adventure, Drama',\n",
       " 'Drama, Mystery, Romance',\n",
       " 'Drama, Fantasy, Horror',\n",
       " 'Drama, Horror, Sci-Fi',\n",
       " 'Crime, Drama, Thriller',\n",
       " 'Crime, Drama, Fantasy',\n",
       " 'Drama, Fantasy, Horror',\n",
       " 'Action, Crime, Drama',\n",
       " 'Crime, Drama, Mystery',\n",
       " 'Action, Drama, Fantasy',\n",
       " 'Animation, Comedy',\n",
       " 'Adventure, Fantasy, Romance',\n",
       " 'Biography, Crime, Drama',\n",
       " 'Action, Crime, Drama',\n",
       " 'Comedy, Romance',\n",
       " 'Comedy, Romance',\n",
       " 'Comedy, Drama',\n",
       " 'Crime, Drama, Thriller',\n",
       " 'Drama, Fantasy, Horror',\n",
       " 'Action, Adventure, Drama',\n",
       " 'Drama, Romance',\n",
       " 'Drama, Mystery, Sci-Fi',\n",
       " 'Action, Crime, Drama',\n",
       " 'Drama, Mystery, Sci-Fi',\n",
       " 'Action, Crime, Drama',\n",
       " 'Comedy, Drama, Romance',\n",
       " 'Animation, Adventure, Comedy',\n",
       " 'Action, Drama, Fantasy',\n",
       " 'Adventure, Comedy, Crime',\n",
       " 'Drama',\n",
       " 'Crime, Drama, Mystery',\n",
       " 'Crime, Drama, Thriller',\n",
       " 'Comedy, Drama',\n",
       " 'Comedy, Drama',\n",
       " 'Comedy, Romance',\n",
       " 'Action, Adventure, Drama',\n",
       " 'Crime, Drama, Romance',\n",
       " 'Crime, Drama, Mystery',\n",
       " 'Drama, Horror, Sci-Fi',\n",
       " 'Animation, Comedy',\n",
       " 'Crime, Drama, Mystery',\n",
       " 'Adventure, Drama, Fantasy',\n",
       " 'Crime, Drama',\n",
       " 'Drama, Mystery',\n",
       " 'Crime, Drama, Mystery',\n",
       " 'Drama, Sci-Fi, Thriller',\n",
       " 'Crime, Drama, Mystery',\n",
       " 'Action, Crime, Drama',\n",
       " 'Action, Adventure, Drama',\n",
       " 'Drama, Sci-Fi, Thriller',\n",
       " 'Drama, Fantasy, Horror',\n",
       " 'Drama',\n",
       " 'Comedy',\n",
       " 'Comedy, Drama, Music',\n",
       " 'Animation, Comedy',\n",
       " 'Comedy, Crime',\n",
       " 'Drama, Mystery, Sci-Fi',\n",
       " 'Action, Adventure, Comedy',\n",
       " 'Crime, Drama, Mystery',\n",
       " 'Drama, Fantasy, Mystery',\n",
       " 'Comedy, Drama, Mystery',\n",
       " 'Crime, Drama',\n",
       " 'Drama, Horror, Mystery',\n",
       " 'Action, Crime, Drama',\n",
       " 'Comedy, Drama',\n",
       " 'Drama',\n",
       " 'Comedy, Drama, Romance',\n",
       " 'Comedy, Drama, Fantasy',\n",
       " 'Action, Adventure, Crime',\n",
       " 'Drama, Sci-Fi, Thriller',\n",
       " 'Crime, Drama, Mystery',\n",
       " 'Drama, Mystery, Thriller',\n",
       " 'Action, Crime, Drama',\n",
       " 'Drama, Thriller',\n",
       " 'Action, Adventure, Crime',\n",
       " 'Crime, Drama, Mystery',\n",
       " 'Comedy, Drama, Thriller',\n",
       " 'Crime, Drama, Mystery',\n",
       " 'Biography, Drama, History',\n",
       " 'Drama, History, Thriller',\n",
       " 'Comedy, Crime, Drama',\n",
       " 'Drama',\n",
       " 'Adventure, Comedy, Drama',\n",
       " 'Crime, Drama, Mystery',\n",
       " 'Comedy, Crime, Drama',\n",
       " 'Drama, Horror, Mystery']"
      ]
     },
     "execution_count": 104,
     "metadata": {},
     "output_type": "execute_result"
    }
   ],
   "source": [
    "#Displaying genre\n",
    "Genre"
   ]
  },
  {
   "cell_type": "code",
   "execution_count": 105,
   "id": "a639e1d7",
   "metadata": {},
   "outputs": [],
   "source": [
    "#extracting Run Time\n",
    "Run_Time=[]\n",
    "try:\n",
    "    Run_Time_tags=driver.find_elements(By.XPATH,'//span[@class=\"runtime\"]')\n",
    "    for j in Run_Time_tags:\n",
    "        Run_Time.append(j.text)\n",
    "except NoSuchElementException : #handling no such element exception\n",
    "    Run_Time.append('--')"
   ]
  },
  {
   "cell_type": "code",
   "execution_count": 106,
   "id": "fbb023cc",
   "metadata": {},
   "outputs": [
    {
     "data": {
      "text/plain": [
       "100"
      ]
     },
     "execution_count": 106,
     "metadata": {},
     "output_type": "execute_result"
    }
   ],
   "source": [
    "#Printing len\n",
    "len(Run_Time)"
   ]
  },
  {
   "cell_type": "code",
   "execution_count": 107,
   "id": "75c7d4aa",
   "metadata": {},
   "outputs": [
    {
     "data": {
      "text/plain": [
       "['57 min',\n",
       " '51 min',\n",
       " '44 min',\n",
       " '60 min',\n",
       " '43 min',\n",
       " '59 min',\n",
       " '45 min',\n",
       " '41 min',\n",
       " '43 min',\n",
       " '42 min',\n",
       " '70 min',\n",
       " '22 min',\n",
       " '60 min',\n",
       " '88 min',\n",
       " '44 min',\n",
       " '44 min',\n",
       " '43 min',\n",
       " '60 min',\n",
       " '49 min',\n",
       " '42 min',\n",
       " '44 min',\n",
       " '44 min',\n",
       " '43 min',\n",
       " '41 min',\n",
       " '22 min',\n",
       " '60 min',\n",
       " '49 min',\n",
       " '54 min',\n",
       " '22 min',\n",
       " '22 min',\n",
       " '44 min',\n",
       " '49 min',\n",
       " '45 min',\n",
       " '43 min',\n",
       " '42 min',\n",
       " '60 min',\n",
       " '42 min',\n",
       " '62 min',\n",
       " '56 min',\n",
       " '22 min',\n",
       " '23 min',\n",
       " '42 min',\n",
       " '25 min',\n",
       " '51 min',\n",
       " '60 min',\n",
       " '60 min',\n",
       " '45 min',\n",
       " '46 min',\n",
       " '22 min',\n",
       " '45 min',\n",
       " '45 min',\n",
       " '53 min',\n",
       " '44 min',\n",
       " '22 min',\n",
       " '43 min',\n",
       " '44 min',\n",
       " '60 min',\n",
       " '44 min',\n",
       " '42 min',\n",
       " '44 min',\n",
       " '55 min',\n",
       " '42 min',\n",
       " '42 min',\n",
       " '60 min',\n",
       " '60 min',\n",
       " '41 min',\n",
       " '60 min',\n",
       " '44 min',\n",
       " '22 min',\n",
       " '22 min',\n",
       " '43 min',\n",
       " '60 min',\n",
       " '55 min',\n",
       " '60 min',\n",
       " '45 min',\n",
       " '46 min',\n",
       " '45 min',\n",
       " '53 min',\n",
       " '30 min',\n",
       " '42 min',\n",
       " '45 min',\n",
       " '22 min',\n",
       " '55 min',\n",
       " '45 min',\n",
       " '60 min',\n",
       " '44 min',\n",
       " '55 min',\n",
       " '43 min',\n",
       " '50 min',\n",
       " '60 min',\n",
       " '45 min',\n",
       " '43 min',\n",
       " '58 min',\n",
       " '330 min',\n",
       " '42 min',\n",
       " '42 min',\n",
       " '50 min',\n",
       " '42 min',\n",
       " '45 min',\n",
       " '572 min']"
      ]
     },
     "execution_count": 107,
     "metadata": {},
     "output_type": "execute_result"
    }
   ],
   "source": [
    "#Displaying run time\n",
    "Run_Time"
   ]
  },
  {
   "cell_type": "code",
   "execution_count": 108,
   "id": "c966791f",
   "metadata": {},
   "outputs": [],
   "source": [
    "#extracting Ratings\n",
    "Ratings=[]\n",
    "try:\n",
    "    Ratings_tags=driver.find_elements(By.XPATH,'//div[@class=\"lister-item-content\"]/div/div/span[2]')\n",
    "    for j in Ratings_tags:\n",
    "        Ratings.append(j.text)\n",
    "except NoSuchElementException : #handling no such element exception\n",
    "    Ratings.append('--')"
   ]
  },
  {
   "cell_type": "code",
   "execution_count": 109,
   "id": "fb41604a",
   "metadata": {},
   "outputs": [
    {
     "data": {
      "text/plain": [
       "100"
      ]
     },
     "execution_count": 109,
     "metadata": {},
     "output_type": "execute_result"
    }
   ],
   "source": [
    "#Printing len\n",
    "len(Ratings)"
   ]
  },
  {
   "cell_type": "code",
   "execution_count": 110,
   "id": "1882226c",
   "metadata": {},
   "outputs": [
    {
     "data": {
      "text/plain": [
       "['9.2',\n",
       " '8.7',\n",
       " '8.1',\n",
       " '7.5',\n",
       " '7.6',\n",
       " '8.1',\n",
       " '6.6',\n",
       " '7.6',\n",
       " '7.6',\n",
       " '7.5',\n",
       " '8.2',\n",
       " '8.2',\n",
       " '8.8',\n",
       " '9.1',\n",
       " '8.5',\n",
       " '7.4',\n",
       " '7.7',\n",
       " '8',\n",
       " '9.5',\n",
       " '8.1',\n",
       " '8.4',\n",
       " '8.3',\n",
       " '8.1',\n",
       " '7.7',\n",
       " '8.7',\n",
       " '7.7',\n",
       " '8.8',\n",
       " '8.6',\n",
       " '8.9',\n",
       " '8.3',\n",
       " '8.5',\n",
       " '8.6',\n",
       " '8.3',\n",
       " '6.2',\n",
       " '7.5',\n",
       " '8.2',\n",
       " '7.8',\n",
       " '8.5',\n",
       " '7.9',\n",
       " '8.5',\n",
       " '9.1',\n",
       " '6.5',\n",
       " '8.1',\n",
       " '8.7',\n",
       " '8.7',\n",
       " '7.3',\n",
       " '8.4',\n",
       " '8.6',\n",
       " '7.8',\n",
       " '7.5',\n",
       " '7.7',\n",
       " '8.7',\n",
       " '6.8',\n",
       " '8.2',\n",
       " '8',\n",
       " '8.3',\n",
       " '8.8',\n",
       " '8.7',\n",
       " '6.7',\n",
       " '8.3',\n",
       " '8.3',\n",
       " '7.3',\n",
       " '6.8',\n",
       " '8.4',\n",
       " '7.4',\n",
       " '8.1',\n",
       " '7.9',\n",
       " '6.8',\n",
       " '8.7',\n",
       " '8.4',\n",
       " '6.5',\n",
       " '7.9',\n",
       " '8.9',\n",
       " '7.8',\n",
       " '7.6',\n",
       " '8.9',\n",
       " '8.1',\n",
       " '8.5',\n",
       " '8.3',\n",
       " '7.2',\n",
       " '8.7',\n",
       " '8.2',\n",
       " '6.4',\n",
       " '6.3',\n",
       " '8.6',\n",
       " '7.8',\n",
       " '7.3',\n",
       " '7.7',\n",
       " '7.2',\n",
       " '8.5',\n",
       " '6.5',\n",
       " '8.1',\n",
       " '8.7',\n",
       " '9.4',\n",
       " '7.8',\n",
       " '7.4',\n",
       " '7.8',\n",
       " '8.1',\n",
       " '7.1',\n",
       " '8.6']"
      ]
     },
     "execution_count": 110,
     "metadata": {},
     "output_type": "execute_result"
    }
   ],
   "source": [
    "#Displaying ratings\n",
    "Ratings"
   ]
  },
  {
   "cell_type": "code",
   "execution_count": 111,
   "id": "135451eb",
   "metadata": {},
   "outputs": [],
   "source": [
    "#extracting Votes\n",
    "Votes=[]\n",
    "try:\n",
    "    Votes_tags=driver.find_elements(By.XPATH,'//div[@class=\"lister-item-content\"]/p[4]/span[2]')\n",
    "    for j in Votes_tags:\n",
    "        Votes.append(j.text)\n",
    "except NoSuchElementException : #handling no such element exception\n",
    "    Votes.append('--')"
   ]
  },
  {
   "cell_type": "code",
   "execution_count": 112,
   "id": "3f7bad88",
   "metadata": {},
   "outputs": [
    {
     "data": {
      "text/plain": [
       "100"
      ]
     },
     "execution_count": 112,
     "metadata": {},
     "output_type": "execute_result"
    }
   ],
   "source": [
    "#Printing len\n",
    "len(Votes)"
   ]
  },
  {
   "cell_type": "code",
   "execution_count": 113,
   "id": "4f9717d8",
   "metadata": {},
   "outputs": [
    {
     "data": {
      "text/plain": [
       "['2,089,164',\n",
       " '1,178,793',\n",
       " '988,385',\n",
       " '292,758',\n",
       " '251,904',\n",
       " '302,839',\n",
       " '145,470',\n",
       " '308,729',\n",
       " '346,268',\n",
       " '431,916',\n",
       " '475,846',\n",
       " '806,877',\n",
       " '545,352',\n",
       " '923,973',\n",
       " '531,485',\n",
       " '167,995',\n",
       " '322,171',\n",
       " '319,509',\n",
       " '1,871,491',\n",
       " '324,250',\n",
       " '445,466',\n",
       " '535,139',\n",
       " '152,219',\n",
       " '148,872',\n",
       " '407,381',\n",
       " '225,384',\n",
       " '421,795',\n",
       " '440,719',\n",
       " '992,313',\n",
       " '682,920',\n",
       " '410,712',\n",
       " '387,570',\n",
       " '136,549',\n",
       " '124,405',\n",
       " '175,397',\n",
       " '154,967',\n",
       " '230,904',\n",
       " '504,823',\n",
       " '215,150',\n",
       " '430,438',\n",
       " '519,025',\n",
       " '64,082',\n",
       " '190,714',\n",
       " '504,535',\n",
       " '384,420',\n",
       " '79,516',\n",
       " '280,308',\n",
       " '243,297',\n",
       " '224,978',\n",
       " '217,635',\n",
       " '240,066',\n",
       " '725,275',\n",
       " '130,366',\n",
       " '339,759',\n",
       " '249,645',\n",
       " '553,318',\n",
       " '545,901',\n",
       " '464,718',\n",
       " '61,270',\n",
       " '111,531',\n",
       " '341,956',\n",
       " '74,395',\n",
       " '105,226',\n",
       " '236,800',\n",
       " '95,696',\n",
       " '95,434',\n",
       " '51,110',\n",
       " '148,964',\n",
       " '369,498',\n",
       " '315,944',\n",
       " '107,024',\n",
       " '248,150',\n",
       " '570,134',\n",
       " '105,400',\n",
       " '129,592',\n",
       " '524,704',\n",
       " '108,700',\n",
       " '236,436',\n",
       " '89,389',\n",
       " '22,863',\n",
       " '144,342',\n",
       " '160,559',\n",
       " '131,692',\n",
       " '37,578',\n",
       " '288,542',\n",
       " '120,465',\n",
       " '131,797',\n",
       " '74,307',\n",
       " '108,463',\n",
       " '199,473',\n",
       " '29,099',\n",
       " '185,672',\n",
       " '216,238',\n",
       " '748,143',\n",
       " '68,661',\n",
       " '50,165',\n",
       " '61,423',\n",
       " '198,193',\n",
       " '41,568',\n",
       " '245,104']"
      ]
     },
     "execution_count": 113,
     "metadata": {},
     "output_type": "execute_result"
    }
   ],
   "source": [
    "#Displaying votes\n",
    "Votes"
   ]
  },
  {
   "cell_type": "code",
   "execution_count": 114,
   "id": "7df40732",
   "metadata": {},
   "outputs": [
    {
     "data": {
      "text/html": [
       "<div>\n",
       "<style scoped>\n",
       "    .dataframe tbody tr th:only-of-type {\n",
       "        vertical-align: middle;\n",
       "    }\n",
       "\n",
       "    .dataframe tbody tr th {\n",
       "        vertical-align: top;\n",
       "    }\n",
       "\n",
       "    .dataframe thead th {\n",
       "        text-align: right;\n",
       "    }\n",
       "</style>\n",
       "<table border=\"1\" class=\"dataframe\">\n",
       "  <thead>\n",
       "    <tr style=\"text-align: right;\">\n",
       "      <th></th>\n",
       "      <th>Name</th>\n",
       "      <th>Year Span</th>\n",
       "      <th>Genre</th>\n",
       "      <th>Run Time</th>\n",
       "      <th>Ratings</th>\n",
       "      <th>Votes</th>\n",
       "    </tr>\n",
       "  </thead>\n",
       "  <tbody>\n",
       "    <tr>\n",
       "      <th>0</th>\n",
       "      <td>1. Game of Thrones (2011–2019)</td>\n",
       "      <td>(2011–2019)</td>\n",
       "      <td>Action, Adventure, Drama</td>\n",
       "      <td>57 min</td>\n",
       "      <td>9.2</td>\n",
       "      <td>2,089,164</td>\n",
       "    </tr>\n",
       "    <tr>\n",
       "      <th>1</th>\n",
       "      <td>2. Stranger Things (2016– )</td>\n",
       "      <td>(2016– )</td>\n",
       "      <td>Drama, Fantasy, Horror</td>\n",
       "      <td>51 min</td>\n",
       "      <td>8.7</td>\n",
       "      <td>1,178,793</td>\n",
       "    </tr>\n",
       "    <tr>\n",
       "      <th>2</th>\n",
       "      <td>3. The Walking Dead (2010–2022)</td>\n",
       "      <td>(2010–2022)</td>\n",
       "      <td>Drama, Horror, Thriller</td>\n",
       "      <td>44 min</td>\n",
       "      <td>8.1</td>\n",
       "      <td>988,385</td>\n",
       "    </tr>\n",
       "    <tr>\n",
       "      <th>3</th>\n",
       "      <td>4. 13 Reasons Why (2017–2020)</td>\n",
       "      <td>(2017–2020)</td>\n",
       "      <td>Drama, Mystery, Thriller</td>\n",
       "      <td>60 min</td>\n",
       "      <td>7.5</td>\n",
       "      <td>292,758</td>\n",
       "    </tr>\n",
       "    <tr>\n",
       "      <th>4</th>\n",
       "      <td>5. The 100 (2014–2020)</td>\n",
       "      <td>(2014–2020)</td>\n",
       "      <td>Drama, Mystery, Sci-Fi</td>\n",
       "      <td>43 min</td>\n",
       "      <td>7.6</td>\n",
       "      <td>251,904</td>\n",
       "    </tr>\n",
       "    <tr>\n",
       "      <th>...</th>\n",
       "      <td>...</td>\n",
       "      <td>...</td>\n",
       "      <td>...</td>\n",
       "      <td>...</td>\n",
       "      <td>...</td>\n",
       "      <td>...</td>\n",
       "    </tr>\n",
       "    <tr>\n",
       "      <th>95</th>\n",
       "      <td>96. Reign (2013–2017)</td>\n",
       "      <td>(2013–2017)</td>\n",
       "      <td>Drama</td>\n",
       "      <td>42 min</td>\n",
       "      <td>7.4</td>\n",
       "      <td>50,165</td>\n",
       "    </tr>\n",
       "    <tr>\n",
       "      <th>96</th>\n",
       "      <td>97. A Series of Unfortunate Events (2017–2019)</td>\n",
       "      <td>(2017–2019)</td>\n",
       "      <td>Adventure, Comedy, Drama</td>\n",
       "      <td>50 min</td>\n",
       "      <td>7.8</td>\n",
       "      <td>61,423</td>\n",
       "    </tr>\n",
       "    <tr>\n",
       "      <th>97</th>\n",
       "      <td>98. Criminal Minds (2005– )</td>\n",
       "      <td>(2005– )</td>\n",
       "      <td>Crime, Drama, Mystery</td>\n",
       "      <td>42 min</td>\n",
       "      <td>8.1</td>\n",
       "      <td>198,193</td>\n",
       "    </tr>\n",
       "    <tr>\n",
       "      <th>98</th>\n",
       "      <td>99. Scream: The TV Series (2015–2019)</td>\n",
       "      <td>(2015–2019)</td>\n",
       "      <td>Comedy, Crime, Drama</td>\n",
       "      <td>45 min</td>\n",
       "      <td>7.1</td>\n",
       "      <td>41,568</td>\n",
       "    </tr>\n",
       "    <tr>\n",
       "      <th>99</th>\n",
       "      <td>100. The Haunting of Hill House (2018)</td>\n",
       "      <td>(2018)</td>\n",
       "      <td>Drama, Horror, Mystery</td>\n",
       "      <td>572 min</td>\n",
       "      <td>8.6</td>\n",
       "      <td>245,104</td>\n",
       "    </tr>\n",
       "  </tbody>\n",
       "</table>\n",
       "<p>100 rows × 6 columns</p>\n",
       "</div>"
      ],
      "text/plain": [
       "                                              Name    Year Span  \\\n",
       "0                   1. Game of Thrones (2011–2019)  (2011–2019)   \n",
       "1                      2. Stranger Things (2016– )     (2016– )   \n",
       "2                  3. The Walking Dead (2010–2022)  (2010–2022)   \n",
       "3                    4. 13 Reasons Why (2017–2020)  (2017–2020)   \n",
       "4                           5. The 100 (2014–2020)  (2014–2020)   \n",
       "..                                             ...          ...   \n",
       "95                           96. Reign (2013–2017)  (2013–2017)   \n",
       "96  97. A Series of Unfortunate Events (2017–2019)  (2017–2019)   \n",
       "97                     98. Criminal Minds (2005– )     (2005– )   \n",
       "98           99. Scream: The TV Series (2015–2019)  (2015–2019)   \n",
       "99          100. The Haunting of Hill House (2018)       (2018)   \n",
       "\n",
       "                       Genre Run Time Ratings      Votes  \n",
       "0   Action, Adventure, Drama   57 min     9.2  2,089,164  \n",
       "1     Drama, Fantasy, Horror   51 min     8.7  1,178,793  \n",
       "2    Drama, Horror, Thriller   44 min     8.1    988,385  \n",
       "3   Drama, Mystery, Thriller   60 min     7.5    292,758  \n",
       "4     Drama, Mystery, Sci-Fi   43 min     7.6    251,904  \n",
       "..                       ...      ...     ...        ...  \n",
       "95                     Drama   42 min     7.4     50,165  \n",
       "96  Adventure, Comedy, Drama   50 min     7.8     61,423  \n",
       "97     Crime, Drama, Mystery   42 min     8.1    198,193  \n",
       "98      Comedy, Crime, Drama   45 min     7.1     41,568  \n",
       "99    Drama, Horror, Mystery  572 min     8.6    245,104  \n",
       "\n",
       "[100 rows x 6 columns]"
      ]
     },
     "execution_count": 114,
     "metadata": {},
     "output_type": "execute_result"
    }
   ],
   "source": [
    "#Making dataframe\n",
    "most_watched_tv_series=pd.DataFrame()\n",
    "most_watched_tv_series['Name']=Name\n",
    "most_watched_tv_series['Year Span']=Year_Span\n",
    "most_watched_tv_series['Genre']=Genre\n",
    "most_watched_tv_series['Run Time']=Run_Time\n",
    "most_watched_tv_series['Ratings']=Ratings\n",
    "most_watched_tv_series['Votes']=Votes\n",
    "most_watched_tv_series"
   ]
  },
  {
   "cell_type": "code",
   "execution_count": 115,
   "id": "6370c439",
   "metadata": {},
   "outputs": [],
   "source": [
    "#closing the driver\n",
    "driver.close()"
   ]
  },
  {
   "cell_type": "markdown",
   "id": "ca77da61",
   "metadata": {},
   "source": [
    "**10. Details of Datasets from UCI machine learning repositories.\n",
    "Url = https://archive.ics.uci.edu/\n",
    "You have to find the following details:\n",
    "A) Dataset name\n",
    "B) Data type\n",
    "C) Task\n",
    "D) Attribute type\n",
    "E) No of instances\n",
    "F) No of attribute\n",
    "G) Year\n",
    "Note: - from the home page you have to go to the ShowAllDataset page through code.**"
   ]
  },
  {
   "cell_type": "code",
   "execution_count": 134,
   "id": "151c35bc",
   "metadata": {},
   "outputs": [],
   "source": [
    "#Connecting to the driver\n",
    "driver=webdriver.Chrome(r'C:\\Users\\Admin\\Downloads\\chromedriver_win32\\chromedriver.exe')\n",
    "\n",
    "#Maximizing the automated\n",
    "driver.maximize_window()\n",
    "\n",
    "#opening the archive website on automated chrome window\n",
    "url=' https://archive.ics.uci.edu/ '\n",
    "driver.get(url)"
   ]
  },
  {
   "cell_type": "code",
   "execution_count": 138,
   "id": "c9520485",
   "metadata": {},
   "outputs": [],
   "source": [
    "#extracting url\n",
    "url=[]\n",
    "try:\n",
    "    url_tags=driver.find_elements(By.XPATH,'/html/body/table[1]/tbody/tr/td[2]/span[2]/a')\n",
    "    for i in url_tags:\n",
    "        url.append(i.get_attribute('href'))\n",
    "except NoSuchElementException : #handling no such element exception\n",
    "    url.append('-')  "
   ]
  },
  {
   "cell_type": "code",
   "execution_count": 139,
   "id": "1b3d04cc",
   "metadata": {},
   "outputs": [
    {
     "data": {
      "text/plain": [
       "1"
      ]
     },
     "execution_count": 139,
     "metadata": {},
     "output_type": "execute_result"
    }
   ],
   "source": [
    "#Printing len\n",
    "len(url)"
   ]
  },
  {
   "cell_type": "code",
   "execution_count": 140,
   "id": "2bb6249f",
   "metadata": {},
   "outputs": [
    {
     "data": {
      "text/plain": [
       "['https://archive.ics.uci.edu/ml/datasets.php']"
      ]
     },
     "execution_count": 140,
     "metadata": {},
     "output_type": "execute_result"
    }
   ],
   "source": [
    "#Displaying url\n",
    "url"
   ]
  },
  {
   "cell_type": "code",
   "execution_count": 142,
   "id": "bb5e4eeb",
   "metadata": {},
   "outputs": [],
   "source": [
    "#clicking on view all data sets\n",
    "view_all_data_sets=driver.find_element(By.XPATH,\"/html/body/table[1]/tbody/tr/td[2]/span[2]/a\")\n",
    "view_all_data_sets.click()"
   ]
  },
  {
   "cell_type": "code",
   "execution_count": 143,
   "id": "6b5fcc84",
   "metadata": {},
   "outputs": [],
   "source": [
    "#Creating empty list\n",
    "Dataset_Name=[]\n",
    "\n",
    "#Extracting Dataset Name\n",
    "for i in url:\n",
    "    driver.get(i)\n",
    "    time.sleep(2)\n",
    "    try:\n",
    "        Dataset_Name_tags=driver.find_elements(By.XPATH,'//p[@class=\"normal\"]/b/a')\n",
    "        for j in Dataset_Name_tags:\n",
    "            Dataset_Name.append(j.text)\n",
    "    except NoSuchElementException : #handling no such element exception\n",
    "        Dataset_Name.append('--')"
   ]
  },
  {
   "cell_type": "code",
   "execution_count": 144,
   "id": "6d7ed856",
   "metadata": {},
   "outputs": [
    {
     "data": {
      "text/plain": [
       "622"
      ]
     },
     "execution_count": 144,
     "metadata": {},
     "output_type": "execute_result"
    }
   ],
   "source": [
    "#Printing len\n",
    "len(Dataset_Name)"
   ]
  },
  {
   "cell_type": "code",
   "execution_count": 168,
   "id": "04cd307d",
   "metadata": {},
   "outputs": [
    {
     "data": {
      "text/plain": [
       "['Abalone',\n",
       " 'Adult',\n",
       " 'Annealing',\n",
       " 'Anonymous Microsoft Web Data',\n",
       " 'Arrhythmia',\n",
       " 'Artificial Characters',\n",
       " 'Audiology (Original)',\n",
       " 'Audiology (Standardized)',\n",
       " 'Auto MPG',\n",
       " 'Automobile']"
      ]
     },
     "execution_count": 168,
     "metadata": {},
     "output_type": "execute_result"
    }
   ],
   "source": [
    "#Displaying Dataset name\n",
    "Dataset_Name[:10]"
   ]
  },
  {
   "cell_type": "code",
   "execution_count": 158,
   "id": "003315f1",
   "metadata": {},
   "outputs": [],
   "source": [
    "#Creating empty list\n",
    "Data_Type=[]\n",
    "\n",
    "#Extracting Data Type\n",
    "for i in url:\n",
    "    driver.get(i)\n",
    "    time.sleep(2)\n",
    "    try:\n",
    "        Data_Type_tags=driver.find_elements(By.XPATH,'/html/body/table[2]/tbody/tr/td[2]/table[2]/tbody/tr/td[2]/p')\n",
    "        for j in Data_Type_tags:\n",
    "            Data_Type.append(j.text)\n",
    "    except NoSuchElementException : #handling no such element exception\n",
    "        Data_Type.append('--')"
   ]
  },
  {
   "cell_type": "code",
   "execution_count": 159,
   "id": "a62d8fd4",
   "metadata": {},
   "outputs": [
    {
     "data": {
      "text/plain": [
       "623"
      ]
     },
     "execution_count": 159,
     "metadata": {},
     "output_type": "execute_result"
    }
   ],
   "source": [
    "#Printing len\n",
    "len(Data_Type)"
   ]
  },
  {
   "cell_type": "code",
   "execution_count": 167,
   "id": "4ec433a0",
   "metadata": {},
   "outputs": [
    {
     "data": {
      "text/plain": [
       "['Multivariate ',\n",
       " 'Multivariate ',\n",
       " 'Multivariate ',\n",
       " ' ',\n",
       " 'Multivariate ',\n",
       " 'Multivariate ',\n",
       " 'Multivariate ',\n",
       " 'Multivariate ',\n",
       " 'Multivariate ',\n",
       " 'Multivariate ']"
      ]
     },
     "execution_count": 167,
     "metadata": {},
     "output_type": "execute_result"
    }
   ],
   "source": [
    "#Displaying data type\n",
    "Data_Type[1:11]"
   ]
  },
  {
   "cell_type": "code",
   "execution_count": 161,
   "id": "62e6f469",
   "metadata": {},
   "outputs": [],
   "source": [
    "#Creating empty list\n",
    "Task=[]\n",
    "\n",
    "#Extracting Task\n",
    "for i in url:\n",
    "    driver.get(i)\n",
    "    time.sleep(2)\n",
    "    try:\n",
    "        Task_tags=driver.find_elements(By.XPATH,'/html/body/table[2]/tbody/tr/td[2]/table[2]/tbody/tr/td[3]/p')\n",
    "        for j in Task_tags:\n",
    "            Task.append(j.text)\n",
    "    except NoSuchElementException : #handling no such element exception\n",
    "        Task.append('--')"
   ]
  },
  {
   "cell_type": "code",
   "execution_count": 162,
   "id": "c72fb455",
   "metadata": {},
   "outputs": [
    {
     "data": {
      "text/plain": [
       "623"
      ]
     },
     "execution_count": 162,
     "metadata": {},
     "output_type": "execute_result"
    }
   ],
   "source": [
    "#Printing len\n",
    "len(Task)"
   ]
  },
  {
   "cell_type": "code",
   "execution_count": 166,
   "id": "cf882e76",
   "metadata": {},
   "outputs": [
    {
     "data": {
      "text/plain": [
       "['Classification ',\n",
       " 'Classification ',\n",
       " 'Classification ',\n",
       " 'Recommender-Systems ',\n",
       " 'Classification ',\n",
       " 'Classification ',\n",
       " 'Classification ',\n",
       " 'Classification ',\n",
       " 'Regression ',\n",
       " 'Regression ']"
      ]
     },
     "execution_count": 166,
     "metadata": {},
     "output_type": "execute_result"
    }
   ],
   "source": [
    "#Displaying task\n",
    "Task[1:11]"
   ]
  },
  {
   "cell_type": "code",
   "execution_count": 169,
   "id": "f261142a",
   "metadata": {},
   "outputs": [],
   "source": [
    "#Creating empty list\n",
    "Attribute_Type=[]\n",
    "\n",
    "#Extracting Attribute Type\n",
    "for i in url:\n",
    "    driver.get(i)\n",
    "    time.sleep(2)\n",
    "    try:\n",
    "        Attribute_Type_tags=driver.find_elements(By.XPATH,'/html/body/table[2]/tbody/tr/td[2]/table[2]/tbody/tr/td[4]/p')\n",
    "        for j in Attribute_Type_tags:\n",
    "            Attribute_Type.append(j.text)\n",
    "    except NoSuchElementException : #handling no such element exception\n",
    "        Attribute_Type.append('--')"
   ]
  },
  {
   "cell_type": "code",
   "execution_count": 170,
   "id": "322732ca",
   "metadata": {},
   "outputs": [
    {
     "data": {
      "text/plain": [
       "623"
      ]
     },
     "execution_count": 170,
     "metadata": {},
     "output_type": "execute_result"
    }
   ],
   "source": [
    "#Printing len\n",
    "len(Attribute_Type)"
   ]
  },
  {
   "cell_type": "code",
   "execution_count": 172,
   "id": "09335514",
   "metadata": {},
   "outputs": [
    {
     "data": {
      "text/plain": [
       "['Categorical, Integer, Real ',\n",
       " 'Categorical, Integer ',\n",
       " 'Categorical, Integer, Real ',\n",
       " 'Categorical ',\n",
       " 'Categorical, Integer, Real ',\n",
       " 'Categorical, Integer, Real ',\n",
       " 'Categorical ',\n",
       " 'Categorical ',\n",
       " 'Categorical, Real ',\n",
       " 'Categorical, Integer, Real ']"
      ]
     },
     "execution_count": 172,
     "metadata": {},
     "output_type": "execute_result"
    }
   ],
   "source": [
    "#Displaying attribute type\n",
    "Attribute_Type[1:11]"
   ]
  },
  {
   "cell_type": "code",
   "execution_count": 174,
   "id": "66cfd855",
   "metadata": {},
   "outputs": [],
   "source": [
    "#Creating empty list\n",
    "No_Of_Instances=[]\n",
    "\n",
    "#Extracting No of Instances\n",
    "for i in url:\n",
    "    driver.get(i)\n",
    "    time.sleep(2)\n",
    "    try:\n",
    "        No_Of_Instances_tags=driver.find_elements(By.XPATH,'/html/body/table[2]/tbody/tr/td[2]/table[2]/tbody/tr/td[5]/p')\n",
    "        for j in No_Of_Instances_tags:\n",
    "            No_Of_Instances.append(j.text)\n",
    "    except NoSuchElementException : #handling no such element exception\n",
    "        No_Of_Instances.append('--')"
   ]
  },
  {
   "cell_type": "code",
   "execution_count": 175,
   "id": "bf50c397",
   "metadata": {},
   "outputs": [
    {
     "data": {
      "text/plain": [
       "623"
      ]
     },
     "execution_count": 175,
     "metadata": {},
     "output_type": "execute_result"
    }
   ],
   "source": [
    "#Printing len\n",
    "len(No_Of_Instances)"
   ]
  },
  {
   "cell_type": "code",
   "execution_count": 177,
   "id": "ed04ccf2",
   "metadata": {},
   "outputs": [
    {
     "data": {
      "text/plain": [
       "['4177 ',\n",
       " '48842 ',\n",
       " '798 ',\n",
       " '37711 ',\n",
       " '452 ',\n",
       " '6000 ',\n",
       " '226 ',\n",
       " '226 ',\n",
       " '398 ',\n",
       " '205 ']"
      ]
     },
     "execution_count": 177,
     "metadata": {},
     "output_type": "execute_result"
    }
   ],
   "source": [
    "#Displaying no of instances\n",
    "No_Of_Instances[1:11]"
   ]
  },
  {
   "cell_type": "code",
   "execution_count": 178,
   "id": "31903e0e",
   "metadata": {},
   "outputs": [],
   "source": [
    "#Creating empty list\n",
    "No_Of_Attributes=[]\n",
    "\n",
    "#Extracting No Of Attributes\n",
    "for i in url:\n",
    "    driver.get(i)\n",
    "    time.sleep(2)\n",
    "    try:\n",
    "        No_Of_Attributes_tags=driver.find_elements(By.XPATH,'/html/body/table[2]/tbody/tr/td[2]/table[2]/tbody/tr/td[6]/p')\n",
    "        for j in No_Of_Attributes_tags:\n",
    "            No_Of_Attributes.append(j.text)\n",
    "    except NoSuchElementException : #handling no such element exception\n",
    "        No_Of_Attributes.append('--')"
   ]
  },
  {
   "cell_type": "code",
   "execution_count": 179,
   "id": "9ee52489",
   "metadata": {},
   "outputs": [
    {
     "data": {
      "text/plain": [
       "623"
      ]
     },
     "execution_count": 179,
     "metadata": {},
     "output_type": "execute_result"
    }
   ],
   "source": [
    "#Printing len\n",
    "len(No_Of_Attributes)"
   ]
  },
  {
   "cell_type": "code",
   "execution_count": 181,
   "id": "d6aa903b",
   "metadata": {},
   "outputs": [
    {
     "data": {
      "text/plain": [
       "['8 ', '14 ', '38 ', '294 ', '279 ', '7 ', ' ', '69 ', '8 ', '26 ']"
      ]
     },
     "execution_count": 181,
     "metadata": {},
     "output_type": "execute_result"
    }
   ],
   "source": [
    "#Displaying No of attributes\n",
    "No_Of_Attributes[1:11]"
   ]
  },
  {
   "cell_type": "code",
   "execution_count": 182,
   "id": "c500e3f6",
   "metadata": {},
   "outputs": [],
   "source": [
    "#Creating empty list\n",
    "Year=[]\n",
    "\n",
    "#Extracting Year\n",
    "for i in url:\n",
    "    driver.get(i)\n",
    "    time.sleep(2)\n",
    "    try:\n",
    "        Year_tags=driver.find_elements(By.XPATH,'/html/body/table[2]/tbody/tr/td[2]/table[2]/tbody/tr/td[7]/p')\n",
    "        for j in Year_tags:\n",
    "            Year.append(j.text)\n",
    "    except NoSuchElementException : #handling no such element exception\n",
    "        Year.append('--')"
   ]
  },
  {
   "cell_type": "code",
   "execution_count": 183,
   "id": "4fa7e8eb",
   "metadata": {},
   "outputs": [
    {
     "data": {
      "text/plain": [
       "623"
      ]
     },
     "execution_count": 183,
     "metadata": {},
     "output_type": "execute_result"
    }
   ],
   "source": [
    "#Printing len\n",
    "len(Year)"
   ]
  },
  {
   "cell_type": "code",
   "execution_count": 186,
   "id": "d6e5f5d4",
   "metadata": {},
   "outputs": [
    {
     "data": {
      "text/plain": [
       "['1995 ',\n",
       " '1996 ',\n",
       " ' ',\n",
       " '1998 ',\n",
       " '1998 ',\n",
       " '1992 ',\n",
       " '1987 ',\n",
       " '1992 ',\n",
       " '1993 ',\n",
       " '1987 ']"
      ]
     },
     "execution_count": 186,
     "metadata": {},
     "output_type": "execute_result"
    }
   ],
   "source": [
    "#Displaying year\n",
    "Year[1:11]"
   ]
  },
  {
   "cell_type": "code",
   "execution_count": 189,
   "id": "344df0d4",
   "metadata": {},
   "outputs": [
    {
     "data": {
      "text/html": [
       "<div>\n",
       "<style scoped>\n",
       "    .dataframe tbody tr th:only-of-type {\n",
       "        vertical-align: middle;\n",
       "    }\n",
       "\n",
       "    .dataframe tbody tr th {\n",
       "        vertical-align: top;\n",
       "    }\n",
       "\n",
       "    .dataframe thead th {\n",
       "        text-align: right;\n",
       "    }\n",
       "</style>\n",
       "<table border=\"1\" class=\"dataframe\">\n",
       "  <thead>\n",
       "    <tr style=\"text-align: right;\">\n",
       "      <th></th>\n",
       "      <th>Dataset Name</th>\n",
       "      <th>Data Type</th>\n",
       "      <th>Task</th>\n",
       "      <th>Attribute Type</th>\n",
       "      <th>No Of Instances</th>\n",
       "      <th>No Of Attributes</th>\n",
       "      <th>Year</th>\n",
       "    </tr>\n",
       "  </thead>\n",
       "  <tbody>\n",
       "    <tr>\n",
       "      <th>0</th>\n",
       "      <td>Abalone</td>\n",
       "      <td>Multivariate</td>\n",
       "      <td>Classification</td>\n",
       "      <td>Categorical, Integer, Real</td>\n",
       "      <td>4177</td>\n",
       "      <td>8</td>\n",
       "      <td>1995</td>\n",
       "    </tr>\n",
       "    <tr>\n",
       "      <th>1</th>\n",
       "      <td>Adult</td>\n",
       "      <td>Multivariate</td>\n",
       "      <td>Classification</td>\n",
       "      <td>Categorical, Integer</td>\n",
       "      <td>48842</td>\n",
       "      <td>14</td>\n",
       "      <td>1996</td>\n",
       "    </tr>\n",
       "    <tr>\n",
       "      <th>2</th>\n",
       "      <td>Annealing</td>\n",
       "      <td>Multivariate</td>\n",
       "      <td>Classification</td>\n",
       "      <td>Categorical, Integer, Real</td>\n",
       "      <td>798</td>\n",
       "      <td>38</td>\n",
       "      <td></td>\n",
       "    </tr>\n",
       "    <tr>\n",
       "      <th>3</th>\n",
       "      <td>Anonymous Microsoft Web Data</td>\n",
       "      <td></td>\n",
       "      <td>Recommender-Systems</td>\n",
       "      <td>Categorical</td>\n",
       "      <td>37711</td>\n",
       "      <td>294</td>\n",
       "      <td>1998</td>\n",
       "    </tr>\n",
       "    <tr>\n",
       "      <th>4</th>\n",
       "      <td>Arrhythmia</td>\n",
       "      <td>Multivariate</td>\n",
       "      <td>Classification</td>\n",
       "      <td>Categorical, Integer, Real</td>\n",
       "      <td>452</td>\n",
       "      <td>279</td>\n",
       "      <td>1998</td>\n",
       "    </tr>\n",
       "    <tr>\n",
       "      <th>5</th>\n",
       "      <td>Artificial Characters</td>\n",
       "      <td>Multivariate</td>\n",
       "      <td>Classification</td>\n",
       "      <td>Categorical, Integer, Real</td>\n",
       "      <td>6000</td>\n",
       "      <td>7</td>\n",
       "      <td>1992</td>\n",
       "    </tr>\n",
       "    <tr>\n",
       "      <th>6</th>\n",
       "      <td>Audiology (Original)</td>\n",
       "      <td>Multivariate</td>\n",
       "      <td>Classification</td>\n",
       "      <td>Categorical</td>\n",
       "      <td>226</td>\n",
       "      <td></td>\n",
       "      <td>1987</td>\n",
       "    </tr>\n",
       "    <tr>\n",
       "      <th>7</th>\n",
       "      <td>Audiology (Standardized)</td>\n",
       "      <td>Multivariate</td>\n",
       "      <td>Classification</td>\n",
       "      <td>Categorical</td>\n",
       "      <td>226</td>\n",
       "      <td>69</td>\n",
       "      <td>1992</td>\n",
       "    </tr>\n",
       "    <tr>\n",
       "      <th>8</th>\n",
       "      <td>Auto MPG</td>\n",
       "      <td>Multivariate</td>\n",
       "      <td>Regression</td>\n",
       "      <td>Categorical, Real</td>\n",
       "      <td>398</td>\n",
       "      <td>8</td>\n",
       "      <td>1993</td>\n",
       "    </tr>\n",
       "    <tr>\n",
       "      <th>9</th>\n",
       "      <td>Automobile</td>\n",
       "      <td>Multivariate</td>\n",
       "      <td>Regression</td>\n",
       "      <td>Categorical, Integer, Real</td>\n",
       "      <td>205</td>\n",
       "      <td>26</td>\n",
       "      <td>1987</td>\n",
       "    </tr>\n",
       "  </tbody>\n",
       "</table>\n",
       "</div>"
      ],
      "text/plain": [
       "                   Dataset Name      Data Type                  Task  \\\n",
       "0                       Abalone  Multivariate        Classification    \n",
       "1                         Adult  Multivariate        Classification    \n",
       "2                     Annealing  Multivariate        Classification    \n",
       "3  Anonymous Microsoft Web Data                 Recommender-Systems    \n",
       "4                    Arrhythmia  Multivariate        Classification    \n",
       "5         Artificial Characters  Multivariate        Classification    \n",
       "6          Audiology (Original)  Multivariate        Classification    \n",
       "7      Audiology (Standardized)  Multivariate        Classification    \n",
       "8                      Auto MPG  Multivariate            Regression    \n",
       "9                    Automobile  Multivariate            Regression    \n",
       "\n",
       "                Attribute Type No Of Instances No Of Attributes   Year  \n",
       "0  Categorical, Integer, Real            4177                8   1995   \n",
       "1        Categorical, Integer           48842               14   1996   \n",
       "2  Categorical, Integer, Real             798               38          \n",
       "3                 Categorical           37711              294   1998   \n",
       "4  Categorical, Integer, Real             452              279   1998   \n",
       "5  Categorical, Integer, Real            6000                7   1992   \n",
       "6                 Categorical             226                    1987   \n",
       "7                 Categorical             226               69   1992   \n",
       "8           Categorical, Real             398                8   1993   \n",
       "9  Categorical, Integer, Real             205               26   1987   "
      ]
     },
     "execution_count": 189,
     "metadata": {},
     "output_type": "execute_result"
    }
   ],
   "source": [
    "#Making DataFrame\n",
    "Datasets=pd.DataFrame()\n",
    "Datasets['Dataset Name']=Dataset_Name[:10]\n",
    "Datasets['Data Type']=Data_Type[1:11]\n",
    "Datasets['Task']=Task[1:11]\n",
    "Datasets['Attribute Type']=Attribute_Type[1:11]\n",
    "Datasets['No Of Instances']=No_Of_Instances[1:11]\n",
    "Datasets['No Of Attributes']=No_Of_Attributes[1:11]\n",
    "Datasets['Year']=Year[1:11]\n",
    "Datasets"
   ]
  },
  {
   "cell_type": "code",
   "execution_count": 190,
   "id": "ee070917",
   "metadata": {},
   "outputs": [],
   "source": [
    "#closing the driver\n",
    "driver.close()"
   ]
  }
 ],
 "metadata": {
  "kernelspec": {
   "display_name": "Python 3 (ipykernel)",
   "language": "python",
   "name": "python3"
  },
  "language_info": {
   "codemirror_mode": {
    "name": "ipython",
    "version": 3
   },
   "file_extension": ".py",
   "mimetype": "text/x-python",
   "name": "python",
   "nbconvert_exporter": "python",
   "pygments_lexer": "ipython3",
   "version": "3.9.12"
  }
 },
 "nbformat": 4,
 "nbformat_minor": 5
}
